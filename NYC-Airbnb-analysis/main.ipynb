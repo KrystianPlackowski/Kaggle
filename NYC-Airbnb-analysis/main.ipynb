{
 "cells": [
  {
   "cell_type": "markdown",
   "metadata": {},
   "source": [
    "# Important note\n",
    "Folium maps won't show on display. You can either open them by running insides saved in folder `maps` using Internet Browser or run the notebook manually.\n",
    "\n",
    "You can also see a sample image corresponding to map's name in folder `previews`."
   ]
  },
  {
   "cell_type": "markdown",
   "metadata": {},
   "source": [
    "# Table of content\n",
    "1. Data check\n",
    "    - Read `hotels data`\n",
    "2. Distribution of number of hotels belonging to individal hosts\n",
    "3. Hosts gender statistics\n",
    "4. Hotels distribution over districts\n",
    "    - Read `districts' bondaries data`\n",
    "    - Assign hotels to districts and count\n",
    "    - Create maps `m1` and `m2`\n",
    "4. Distribution of locations of hotels belonging to individual hosts\n",
    "    - Create map `m3` **(interactive sliders)**\n",
    "5. Price distribution over districts\n",
    "    - Price boxplot for each district\n",
    "    - Create map `m4`\n",
    "    - Create map `m5` **(interative sliders)**"
   ]
  },
  {
   "cell_type": "code",
   "execution_count": 29,
   "metadata": {},
   "outputs": [],
   "source": [
    "%matplotlib inline\n",
    "import pandas as pd\n",
    "import matplotlib.pyplot as plt\n",
    "import numpy as np\n",
    "import geopandas as gpd\n",
    "import seaborn as sns"
   ]
  },
  {
   "cell_type": "markdown",
   "metadata": {},
   "source": [
    "Download data from `kaggle` under the link: https://www.kaggle.com/dgomonov/new-york-city-airbnb-open-data\n",
    "\n",
    "It's data from AirBnB including mostly recent (as for december 2019) informations and metrics about hotels located in New York City."
   ]
  },
  {
   "cell_type": "code",
   "execution_count": 2,
   "metadata": {},
   "outputs": [],
   "source": [
    "df = pd.read_csv('input/AB_NYC_2019.csv')"
   ]
  },
  {
   "cell_type": "markdown",
   "metadata": {},
   "source": [
    "# 1. Data check"
   ]
  },
  {
   "cell_type": "code",
   "execution_count": 3,
   "metadata": {},
   "outputs": [
    {
     "data": {
      "text/html": [
       "<div>\n",
       "<style scoped>\n",
       "    .dataframe tbody tr th:only-of-type {\n",
       "        vertical-align: middle;\n",
       "    }\n",
       "\n",
       "    .dataframe tbody tr th {\n",
       "        vertical-align: top;\n",
       "    }\n",
       "\n",
       "    .dataframe thead th {\n",
       "        text-align: right;\n",
       "    }\n",
       "</style>\n",
       "<table border=\"1\" class=\"dataframe\">\n",
       "  <thead>\n",
       "    <tr style=\"text-align: right;\">\n",
       "      <th></th>\n",
       "      <th>id</th>\n",
       "      <th>name</th>\n",
       "      <th>host_id</th>\n",
       "      <th>host_name</th>\n",
       "      <th>neighbourhood_group</th>\n",
       "      <th>neighbourhood</th>\n",
       "      <th>latitude</th>\n",
       "      <th>longitude</th>\n",
       "      <th>room_type</th>\n",
       "      <th>price</th>\n",
       "      <th>minimum_nights</th>\n",
       "      <th>number_of_reviews</th>\n",
       "      <th>last_review</th>\n",
       "      <th>reviews_per_month</th>\n",
       "      <th>calculated_host_listings_count</th>\n",
       "      <th>availability_365</th>\n",
       "    </tr>\n",
       "  </thead>\n",
       "  <tbody>\n",
       "    <tr>\n",
       "      <th>0</th>\n",
       "      <td>2539</td>\n",
       "      <td>Clean &amp; quiet apt home by the park</td>\n",
       "      <td>2787</td>\n",
       "      <td>John</td>\n",
       "      <td>Brooklyn</td>\n",
       "      <td>Kensington</td>\n",
       "      <td>40.64749</td>\n",
       "      <td>-73.97237</td>\n",
       "      <td>Private room</td>\n",
       "      <td>149</td>\n",
       "      <td>1</td>\n",
       "      <td>9</td>\n",
       "      <td>2018-10-19</td>\n",
       "      <td>0.21</td>\n",
       "      <td>6</td>\n",
       "      <td>365</td>\n",
       "    </tr>\n",
       "    <tr>\n",
       "      <th>1</th>\n",
       "      <td>2595</td>\n",
       "      <td>Skylit Midtown Castle</td>\n",
       "      <td>2845</td>\n",
       "      <td>Jennifer</td>\n",
       "      <td>Manhattan</td>\n",
       "      <td>Midtown</td>\n",
       "      <td>40.75362</td>\n",
       "      <td>-73.98377</td>\n",
       "      <td>Entire home/apt</td>\n",
       "      <td>225</td>\n",
       "      <td>1</td>\n",
       "      <td>45</td>\n",
       "      <td>2019-05-21</td>\n",
       "      <td>0.38</td>\n",
       "      <td>2</td>\n",
       "      <td>355</td>\n",
       "    </tr>\n",
       "    <tr>\n",
       "      <th>2</th>\n",
       "      <td>3647</td>\n",
       "      <td>THE VILLAGE OF HARLEM....NEW YORK !</td>\n",
       "      <td>4632</td>\n",
       "      <td>Elisabeth</td>\n",
       "      <td>Manhattan</td>\n",
       "      <td>Harlem</td>\n",
       "      <td>40.80902</td>\n",
       "      <td>-73.94190</td>\n",
       "      <td>Private room</td>\n",
       "      <td>150</td>\n",
       "      <td>3</td>\n",
       "      <td>0</td>\n",
       "      <td>NaN</td>\n",
       "      <td>NaN</td>\n",
       "      <td>1</td>\n",
       "      <td>365</td>\n",
       "    </tr>\n",
       "    <tr>\n",
       "      <th>3</th>\n",
       "      <td>3831</td>\n",
       "      <td>Cozy Entire Floor of Brownstone</td>\n",
       "      <td>4869</td>\n",
       "      <td>LisaRoxanne</td>\n",
       "      <td>Brooklyn</td>\n",
       "      <td>Clinton Hill</td>\n",
       "      <td>40.68514</td>\n",
       "      <td>-73.95976</td>\n",
       "      <td>Entire home/apt</td>\n",
       "      <td>89</td>\n",
       "      <td>1</td>\n",
       "      <td>270</td>\n",
       "      <td>2019-07-05</td>\n",
       "      <td>4.64</td>\n",
       "      <td>1</td>\n",
       "      <td>194</td>\n",
       "    </tr>\n",
       "    <tr>\n",
       "      <th>4</th>\n",
       "      <td>5022</td>\n",
       "      <td>Entire Apt: Spacious Studio/Loft by central park</td>\n",
       "      <td>7192</td>\n",
       "      <td>Laura</td>\n",
       "      <td>Manhattan</td>\n",
       "      <td>East Harlem</td>\n",
       "      <td>40.79851</td>\n",
       "      <td>-73.94399</td>\n",
       "      <td>Entire home/apt</td>\n",
       "      <td>80</td>\n",
       "      <td>10</td>\n",
       "      <td>9</td>\n",
       "      <td>2018-11-19</td>\n",
       "      <td>0.10</td>\n",
       "      <td>1</td>\n",
       "      <td>0</td>\n",
       "    </tr>\n",
       "  </tbody>\n",
       "</table>\n",
       "</div>"
      ],
      "text/plain": [
       "     id                                              name  host_id  \\\n",
       "0  2539                Clean & quiet apt home by the park     2787   \n",
       "1  2595                             Skylit Midtown Castle     2845   \n",
       "2  3647               THE VILLAGE OF HARLEM....NEW YORK !     4632   \n",
       "3  3831                   Cozy Entire Floor of Brownstone     4869   \n",
       "4  5022  Entire Apt: Spacious Studio/Loft by central park     7192   \n",
       "\n",
       "     host_name neighbourhood_group neighbourhood  latitude  longitude  \\\n",
       "0         John            Brooklyn    Kensington  40.64749  -73.97237   \n",
       "1     Jennifer           Manhattan       Midtown  40.75362  -73.98377   \n",
       "2    Elisabeth           Manhattan        Harlem  40.80902  -73.94190   \n",
       "3  LisaRoxanne            Brooklyn  Clinton Hill  40.68514  -73.95976   \n",
       "4        Laura           Manhattan   East Harlem  40.79851  -73.94399   \n",
       "\n",
       "         room_type  price  minimum_nights  number_of_reviews last_review  \\\n",
       "0     Private room    149               1                  9  2018-10-19   \n",
       "1  Entire home/apt    225               1                 45  2019-05-21   \n",
       "2     Private room    150               3                  0         NaN   \n",
       "3  Entire home/apt     89               1                270  2019-07-05   \n",
       "4  Entire home/apt     80              10                  9  2018-11-19   \n",
       "\n",
       "   reviews_per_month  calculated_host_listings_count  availability_365  \n",
       "0               0.21                               6               365  \n",
       "1               0.38                               2               355  \n",
       "2                NaN                               1               365  \n",
       "3               4.64                               1               194  \n",
       "4               0.10                               1                 0  "
      ]
     },
     "execution_count": 3,
     "metadata": {},
     "output_type": "execute_result"
    }
   ],
   "source": [
    "df.head()"
   ]
  },
  {
   "cell_type": "code",
   "execution_count": 4,
   "metadata": {},
   "outputs": [
    {
     "data": {
      "text/plain": [
       "Index(['id', 'name', 'host_id', 'host_name', 'neighbourhood_group',\n",
       "       'neighbourhood', 'latitude', 'longitude', 'room_type', 'price',\n",
       "       'minimum_nights', 'number_of_reviews', 'last_review',\n",
       "       'reviews_per_month', 'calculated_host_listings_count',\n",
       "       'availability_365'],\n",
       "      dtype='object')"
      ]
     },
     "execution_count": 4,
     "metadata": {},
     "output_type": "execute_result"
    }
   ],
   "source": [
    "df.columns"
   ]
  },
  {
   "cell_type": "code",
   "execution_count": 5,
   "metadata": {},
   "outputs": [
    {
     "data": {
      "text/plain": [
       "(48895, 16)"
      ]
     },
     "execution_count": 5,
     "metadata": {},
     "output_type": "execute_result"
    }
   ],
   "source": [
    "df.shape"
   ]
  },
  {
   "cell_type": "code",
   "execution_count": 6,
   "metadata": {},
   "outputs": [
    {
     "data": {
      "text/plain": [
       "(38821, 16)"
      ]
     },
     "execution_count": 6,
     "metadata": {},
     "output_type": "execute_result"
    }
   ],
   "source": [
    "df.dropna().shape"
   ]
  },
  {
   "cell_type": "markdown",
   "metadata": {},
   "source": [
    "**Comment:**\n",
    "\n",
    "Around 20% of all rows have at least one missing value (NaNs)."
   ]
  },
  {
   "cell_type": "markdown",
   "metadata": {},
   "source": [
    "# 2. Distribution of number of hotels belonging to individal hosts\n",
    "How many hosts own 1 property, how many own 2 properties, ..., how many own 10 properties, ...?"
   ]
  },
  {
   "cell_type": "code",
   "execution_count": 7,
   "metadata": {},
   "outputs": [
    {
     "data": {
      "text/plain": [
       "Text(0, 0.5, 'frequency (how many hosts own exact number of properties)')"
      ]
     },
     "execution_count": 7,
     "metadata": {},
     "output_type": "execute_result"
    },
    {
     "data": {
      "image/png": "[encoded data removed]",
      "text/plain": [
       "<Figure size 1080x576 with 1 Axes>"
      ]
     },
     "metadata": {
      "needs_background": "light"
     },
     "output_type": "display_data"
    }
   ],
   "source": [
    "s = df['host_id'].value_counts().value_counts().sort_index()\n",
    "s.plot(kind = 'bar', logy=True, figsize=(15,8))\n",
    "plt.xlabel('number of properties')\n",
    "plt.ylabel('frequency (how many hosts own exact number of properties)')"
   ]
  },
  {
   "cell_type": "markdown",
   "metadata": {},
   "source": [
    "**Comment:**\n",
    "\n",
    "Over `32000` people own a single hotel, which is `66%` of all hotels (registered in `AirBnB`) in New York City. Amount of people owning 2 hotels is 10 times less and equal to `6%` of all hotels. There is one person or apparently a company called `Sonder` which owns `327` hotels registered under single ID."
   ]
  },
  {
   "cell_type": "markdown",
   "metadata": {},
   "source": [
    "# 3. Hosts gender statistics\n",
    "Gender statistics over host names"
   ]
  },
  {
   "cell_type": "code",
   "execution_count": 8,
   "metadata": {},
   "outputs": [],
   "source": [
    "import nltk\n",
    "from nltk.corpus import names"
   ]
  },
  {
   "cell_type": "code",
   "execution_count": 9,
   "metadata": {},
   "outputs": [],
   "source": [
    "male_names = set(names.words('male.txt'))\n",
    "female_names = set(names.words('female.txt'))"
   ]
  },
  {
   "cell_type": "code",
   "execution_count": 10,
   "metadata": {},
   "outputs": [
    {
     "name": "stdout",
     "output_type": "stream",
     "text": [
      "2943 5001\n"
     ]
    }
   ],
   "source": [
    "print(len(male_names), len(female_names))"
   ]
  },
  {
   "cell_type": "code",
   "execution_count": 11,
   "metadata": {},
   "outputs": [
    {
     "data": {
      "text/plain": [
       "(48895, 16)"
      ]
     },
     "execution_count": 11,
     "metadata": {},
     "output_type": "execute_result"
    }
   ],
   "source": [
    "df.shape"
   ]
  },
  {
   "cell_type": "markdown",
   "metadata": {},
   "source": [
    "Notice: a \"both name\" is a name like i.e. \"Alex\", which can belong to both genders"
   ]
  },
  {
   "cell_type": "code",
   "execution_count": 12,
   "metadata": {},
   "outputs": [
    {
     "name": "stdout",
     "output_type": "stream",
     "text": [
      "Male names: 25.8%\n",
      "Female names: 31.0%\n",
      "Both names: 10.4%\n",
      "Non_identified: 32.8%\n",
      "\n"
     ]
    }
   ],
   "source": [
    "male_count = 0\n",
    "female_count = 0\n",
    "both_count = 0\n",
    "non_identified_count = 0\n",
    "n = len(df['host_name'])\n",
    "\n",
    "for name in df['host_name']:\n",
    "    if name in male_names  and name not in female_names:\n",
    "        male_count += 1\n",
    "    elif name in female_names and name not in male_names:\n",
    "        female_count += 1\n",
    "    elif name in male_names and name in female_names:\n",
    "        both_count += 1\n",
    "    else:\n",
    "        non_identified_count += 1\n",
    "        \n",
    "print(\"Male names: {}%\\nFemale names: {}%\\nBoth names: {}%\\nNon_identified: {}%\\n\".format(\n",
    "        round(male_count*100/n,1),\n",
    "        round(female_count*100/n,1),\n",
    "        round(both_count*100/n,1),\n",
    "        round(non_identified_count*100/n,1)))"
   ]
  },
  {
   "cell_type": "markdown",
   "metadata": {},
   "source": [
    "**Comment:**\n",
    "\n",
    "It's hard to tell whether most hotels belong to men or women as 32.8% of all names couldn't be identified by algorithm."
   ]
  },
  {
   "cell_type": "markdown",
   "metadata": {},
   "source": [
    "# 4. Hotels distribution over districts\n",
    "Count number of hotels per $km^2$ in every district"
   ]
  },
  {
   "cell_type": "code",
   "execution_count": 13,
   "metadata": {},
   "outputs": [],
   "source": [
    "import folium\n",
    "from folium import Choropleth, Circle, Marker\n",
    "from folium.plugins import HeatMap, MarkerCluster\n",
    "from shapely.geometry import Point\n",
    "from collections import Counter"
   ]
  },
  {
   "cell_type": "code",
   "execution_count": 14,
   "metadata": {},
   "outputs": [],
   "source": [
    "# Function for displaying the map\n",
    "def embed_map(m, file_name):\n",
    "    from IPython.display import IFrame\n",
    "    m.save(file_name)\n",
    "    return IFrame(file_name, width='100%', height='500px')"
   ]
  },
  {
   "cell_type": "markdown",
   "metadata": {},
   "source": [
    "## 4.1. Read districts' bondaries data\n",
    "Download map of `Municipal Court Districts (Clipped to Shoreline)` from page https://www1.nyc.gov/site/planning/data-maps/open-data/districts-download-metadata.page as it divides area of New York in many more districts than standard `Neighborhoods` partition."
   ]
  },
  {
   "cell_type": "code",
   "execution_count": 15,
   "metadata": {},
   "outputs": [
    {
     "name": "stderr",
     "output_type": "stream",
     "text": [
      "/usr/local/lib/python3.6/dist-packages/pyproj/crs.py:77: FutureWarning: '+init=<authority>:<code>' syntax is deprecated. '<authority>:<code>' is the preferred initialization method.\n",
      "  return _prepare_from_string(\" \".join(pjargs))\n"
     ]
    }
   ],
   "source": [
    "geo = gpd.read_file(\"input/nymc_19d/nymc.shp\").to_crs({'init': 'epsg:4326'})"
   ]
  },
  {
   "cell_type": "markdown",
   "metadata": {},
   "source": [
    "Insert a column containing shape areas in $km^2$ units"
   ]
  },
  {
   "cell_type": "code",
   "execution_count": 16,
   "metadata": {},
   "outputs": [],
   "source": [
    "if 'Area in km^2' in geo:\n",
    "    geo = geo.drop(['Area in km^2'], axis=1)\n",
    "geo.insert(5, 'Area in km^2', geo['Shape_Area'] * 9.290304e-8)  # convert ft^2 to km^2"
   ]
  },
  {
   "cell_type": "markdown",
   "metadata": {},
   "source": [
    "## 4.2. Assign hotels to districts and count\n",
    "How many hotels are in each district?"
   ]
  },
  {
   "cell_type": "markdown",
   "metadata": {},
   "source": [
    "Create a list containing Point() structures from geographic locations of hotels"
   ]
  },
  {
   "cell_type": "code",
   "execution_count": 17,
   "metadata": {},
   "outputs": [],
   "source": [
    "points = [Point(df['longitude'].iloc[i], df['latitude'].iloc[i]) for i in range(df.shape[0])]"
   ]
  },
  {
   "cell_type": "markdown",
   "metadata": {},
   "source": [
    "Check to which district each hotel belongs **(below code takes about a minute to compute)**"
   ]
  },
  {
   "cell_type": "code",
   "execution_count": 18,
   "metadata": {},
   "outputs": [],
   "source": [
    "district_ID = np.full(len(points), -1) # assign `-1` as an integer nan\n",
    "\n",
    "for i, point in enumerate(points):\n",
    "    for j, polygon in enumerate(geo['geometry']):\n",
    "        if polygon.contains(point):\n",
    "            district_ID[i] = j"
   ]
  },
  {
   "cell_type": "markdown",
   "metadata": {},
   "source": [
    "Insert a column to `hotel` dataframe (called `df`) that indicates in which district a certain hotel lies"
   ]
  },
  {
   "cell_type": "code",
   "execution_count": 19,
   "metadata": {},
   "outputs": [],
   "source": [
    "if 'District_ID' in df:\n",
    "    df = df.drop(['District_ID'], axis=1)\n",
    "df.insert(5, 'District_ID', district_ID)"
   ]
  },
  {
   "cell_type": "markdown",
   "metadata": {},
   "source": [
    "Insert a column to `district` dataframe (called `geo`) which says how many hotels are in certain district"
   ]
  },
  {
   "cell_type": "code",
   "execution_count": 20,
   "metadata": {},
   "outputs": [],
   "source": [
    "if 'Number of hotels' in geo:\n",
    "    geo = geo.drop(['Number of hotels'], axis=1)\n",
    "geo.insert(6, 'Number of hotels', df['District_ID'].value_counts().sort_index()[1:])"
   ]
  },
  {
   "cell_type": "markdown",
   "metadata": {},
   "source": [
    "Calculate values indicating number of hotels per km^2 in all `districts`"
   ]
  },
  {
   "cell_type": "code",
   "execution_count": 21,
   "metadata": {},
   "outputs": [],
   "source": [
    "if 'Hotel Density' in geo:\n",
    "    geo = geo.drop(['Hotel Density'], axis=1)\n",
    "geo.insert(7, 'Hotel Density', (geo['Number of hotels'] / geo['Area in km^2']))"
   ]
  },
  {
   "cell_type": "markdown",
   "metadata": {},
   "source": [
    "## 4.3. Create maps `m1` and `m2`\n",
    "Create a choropleth map of hotel density"
   ]
  },
  {
   "cell_type": "code",
   "execution_count": 22,
   "metadata": {},
   "outputs": [
    {
     "data": {
      "text/html": [
       "\n",
       "        <iframe\n",
       "            width=\"100%\"\n",
       "            height=\"500px\"\n",
       "            src=\"maps/m_1.html\"\n",
       "            frameborder=\"0\"\n",
       "            allowfullscreen\n",
       "        ></iframe>\n",
       "        "
      ],
      "text/plain": [
       "<IPython.lib.display.IFrame at 0x7f6708f3acf8>"
      ]
     },
     "execution_count": 22,
     "metadata": {},
     "output_type": "execute_result"
    }
   ],
   "source": [
    "# Colors. Note: in frame 'geo' indexes are strings\n",
    "plot_dict = (geo['Hotel Density'])\n",
    "plot_dict.index = [str(i) for i in range(0,28)]\n",
    "\n",
    "# Create a base map\n",
    "m_1 = folium.Map(location=[40.7,-73.8], tiles='cartodbpositron', zoom_start=10)\n",
    "\n",
    "# Add a choropleth map to the base map\n",
    "Choropleth(geo_data=geo.__geo_interface__, \n",
    "           data=plot_dict,\n",
    "           key_on=\"feature.id\", \n",
    "           fill_color='YlGnBu', \n",
    "           legend_name='number of hotels / km^2',\n",
    "           bins = [2,30,100,200,400,600,828]\n",
    "          ).add_to(m_1)\n",
    "\n",
    "# Display the map\n",
    "embed_map(m_1, 'maps/m_1.html')"
   ]
  },
  {
   "cell_type": "markdown",
   "metadata": {},
   "source": [
    "Create a heatmap of hotels"
   ]
  },
  {
   "cell_type": "code",
   "execution_count": 23,
   "metadata": {},
   "outputs": [
    {
     "data": {
      "text/html": [
       "\n",
       "        <iframe\n",
       "            width=\"100%\"\n",
       "            height=\"500px\"\n",
       "            src=\"maps/m_2.html\"\n",
       "            frameborder=\"0\"\n",
       "            allowfullscreen\n",
       "        ></iframe>\n",
       "        "
      ],
      "text/plain": [
       "<IPython.lib.display.IFrame at 0x7f670a0da048>"
      ]
     },
     "execution_count": 23,
     "metadata": {},
     "output_type": "execute_result"
    }
   ],
   "source": [
    "# Create a base map\n",
    "m_2 = folium.Map(location=[40.7,-73.8], tiles='cartodbpositron', zoom_start=10)\n",
    "\n",
    "# Convert to Numpy array!\n",
    "part_data = df[['latitude','longitude']]\n",
    "part_data = np.array(part_data)\n",
    "\n",
    "# Add a heatmap to the base map\n",
    "HeatMap(data=part_data, radius=10).add_to(m_2)\n",
    "\n",
    "# Display the map\n",
    "embed_map(m_2, 'maps/m_2.html')"
   ]
  },
  {
   "cell_type": "markdown",
   "metadata": {},
   "source": [
    "**Comment:**\n",
    "\n",
    "Most cluttered parts of New York in terms of hotels are Manhattan and Brooklyn. Other areas have even 30 times lower density of hotels."
   ]
  },
  {
   "cell_type": "markdown",
   "metadata": {},
   "source": [
    "# 5. Distribution of locations of hotels belonging to individual hosts\n",
    "Investigate locations of hotels belonging to an individual `host`.\n",
    "\n",
    "The host with hightest amount of hotels is \"`Sonder`\""
   ]
  },
  {
   "cell_type": "code",
   "execution_count": 24,
   "metadata": {},
   "outputs": [],
   "source": [
    "from IPython.display import display\n",
    "from ipywidgets import interact, IntSlider, IntRangeSlider, Button, VBox, Tab\n",
    "from matplotlib import style"
   ]
  },
  {
   "cell_type": "markdown",
   "metadata": {},
   "source": [
    "## 5.1. Create map `m3`\n",
    "Create an interactive plot with an interactive slider. Choose an appriopate `ID` to visualise hotels belonging to `ID`-th biggest owner. Please be carefull that moving sliders very fast can make map not reload."
   ]
  },
  {
   "cell_type": "code",
   "execution_count": 25,
   "metadata": {},
   "outputs": [
    {
     "data": {
      "application/vnd.jupyter.widget-view+json": {
       "model_id": "583eb380e95b42e995f2d834d5536363",
       "version_major": 2,
       "version_minor": 0
      },
      "text/plain": [
       "interactive(children=(IntSlider(value=1, description='ID', max=12, min=1), Output()), _dom_classes=('widget-in…"
      ]
     },
     "metadata": {},
     "output_type": "display_data"
    }
   ],
   "source": [
    "@interact(ID = IntSlider(1,1,12,1))\n",
    "def host_hotels(ID):\n",
    "    \n",
    "    host_id = df['host_id'].value_counts().index[ID-1]\n",
    "    host = df[df['host_id'] == host_id]\n",
    "    amount = df['host_id'].value_counts().iloc[ID-1]\n",
    "    name = df['host_name'].loc[df['host_id'] == host_id].iloc[0]\n",
    "    print(\"Currently displaying {} hotels owned by {}\".format(amount, name))\n",
    "    \n",
    "\n",
    "    # Create a base map\n",
    "    m_3 = folium.Map(location=[40.735,-74.0], tiles='cartodbpositron', zoom_start=13)\n",
    "\n",
    "    # Convert to Numpy array! Or else it will crash\n",
    "    part_data = host[['latitude','longitude']]\n",
    "    part_data = np.array(part_data)\n",
    "\n",
    "    # Add a heatmap to the base map\n",
    "    HeatMap(data=part_data, radius=10).add_to(m_3)\n",
    "\n",
    "    # Display the map\n",
    "    display(embed_map(m_3, 'maps/m_3.html'))"
   ]
  },
  {
   "cell_type": "markdown",
   "metadata": {},
   "source": [
    "**Comment:**\n",
    "\n",
    "We see that almost all of `Sonder's` apartaments (both `Sonder (NYC)` and `Sonder`) are located pretty dense, within 2 streets, at the south part of `Manhattan`.\n",
    "\n",
    "`Blueground` owns hotels on equaly spaced space in `Manhattan`.\n",
    "\n",
    "Basically, all (except `Ken`) biggest hotel owners have their hotels located in `Manhattan`, as it's clearly the most profitable choice."
   ]
  },
  {
   "cell_type": "markdown",
   "metadata": {},
   "source": [
    "# 6. Price distribution over districts\n",
    "Check distribution of prices amoung districts"
   ]
  },
  {
   "cell_type": "markdown",
   "metadata": {},
   "source": [
    "## 6.1. Price boxplot for each district\n",
    "boxplots indicate 25%, 50% and 75% quartiles"
   ]
  },
  {
   "cell_type": "code",
   "execution_count": 40,
   "metadata": {},
   "outputs": [
    {
     "data": {
      "text/plain": [
       "Text(0, 0.5, 'price [$] / day')"
      ]
     },
     "execution_count": 40,
     "metadata": {},
     "output_type": "execute_result"
    },
    {
     "data": {
      "image/png": "[encoded data removed]",
      "text/plain": [
       "<Figure size 1080x576 with 1 Axes>"
      ]
     },
     "metadata": {
      "needs_background": "light"
     },
     "output_type": "display_data"
    }
   ],
   "source": [
    "plt.figure(figsize=(15,8))\n",
    "sns.boxplot(data=df, x='District_ID', y='price', showfliers=False)\n",
    "\n",
    "plt.ylim(0,500)\n",
    "plt.xlabel('District ID', size=15)\n",
    "plt.ylabel('price [$] / day', size=15)"
   ]
  },
  {
   "cell_type": "markdown",
   "metadata": {},
   "source": [
    "## 6.2. Create map `m4` \n",
    "Visualise median prices for all districts on an interactive map.\n",
    "\n",
    "Popup labels indicate `District ID`."
   ]
  },
  {
   "cell_type": "code",
   "execution_count": 27,
   "metadata": {},
   "outputs": [
    {
     "data": {
      "text/html": [
       "\n",
       "        <iframe\n",
       "            width=\"100%\"\n",
       "            height=\"500px\"\n",
       "            src=\"maps/m_4.html\"\n",
       "            frameborder=\"0\"\n",
       "            allowfullscreen\n",
       "        ></iframe>\n",
       "        "
      ],
      "text/plain": [
       "<IPython.lib.display.IFrame at 0x7f6707c8bb00>"
      ]
     },
     "execution_count": 27,
     "metadata": {},
     "output_type": "execute_result"
    }
   ],
   "source": [
    "# Colors. Note: in frame 'geo' indexes are strings\n",
    "plot_dict = df.groupby('District_ID')['price'].describe().drop(-1)['50%']\n",
    "plot_dict.index = [str(i) for i in range(0,28)]\n",
    "\n",
    "# Create a base map\n",
    "m_4 = folium.Map(location=[40.7,-73.9], tiles='cartodbpositron', zoom_start=11)\n",
    "\n",
    "# Add markers with labels of `District ID` to the map\n",
    "for i, point in enumerate(geo['geometry'].centroid):\n",
    "    Marker([point.y, point.x], popup=(i)).add_to(m_4)\n",
    "\n",
    "# Add a choropleth map to the base map\n",
    "Choropleth(geo_data=geo.__geo_interface__, \n",
    "           data=plot_dict,\n",
    "           key_on=\"feature.id\", \n",
    "           fill_color='YlGnBu', \n",
    "           legend_name='median price [$] / day',\n",
    "          ).add_to(m_4)\n",
    "\n",
    "# Display the map\n",
    "embed_map(m_4, 'maps/m_4.html')"
   ]
  },
  {
   "cell_type": "markdown",
   "metadata": {},
   "source": [
    "**Comment:**\n",
    "\n",
    "Areas around `Washington Square Park` have much highter median price than most of New York regions, what is quite understable. Noticably, area near Atlantic Beach (`District ID` = 21) is a bit more expensive than surrounding regions. Comparing the map with upper boxplot we can tell, that one of the cheapest hotels are in Bronx side (`District ID` $\\in$ {9,10}), which is the most upper part of New York."
   ]
  },
  {
   "cell_type": "markdown",
   "metadata": {},
   "source": [
    "## 6.3. Create map `m5` (interactive sliders)\n",
    "Create an interactive plot with interactive sliders to manually choose price range. To filter prices up to 10000$, change `multiplier` slider to value `20`. Please be carefull that moving sliders very fast can make map not reload."
   ]
  },
  {
   "cell_type": "code",
   "execution_count": 28,
   "metadata": {},
   "outputs": [
    {
     "data": {
      "application/vnd.jupyter.widget-view+json": {
       "model_id": "7a588beed3d447c08b7daa5124c95c57",
       "version_major": 2,
       "version_minor": 0
      },
      "text/plain": [
       "interactive(children=(IntRangeSlider(value=(50, 500), description='price_range', max=500), IntSlider(value=20,…"
      ]
     },
     "metadata": {},
     "output_type": "display_data"
    }
   ],
   "source": [
    "@interact(price_range = IntRangeSlider(value=[50,500],min=0,max=500), multiplier=IntSlider(20,1,20,1))\n",
    "def visualise_price(price_range, multiplier):\n",
    "\n",
    "    price_range = np.array(price_range) * multiplier\n",
    "    print(\"Currently displaying hotels with price range from {}$ to {}$\".format(price_range[0], price_range[1]))\n",
    "    \n",
    "    # Filter values\n",
    "    test = df[(price_range[0] < df['price']) & (df['price'] < price_range[1])]\n",
    "    \n",
    "    # Create a base map\n",
    "    m_5 = folium.Map(location=[40.7,-73.9], tiles='cartodbpositron', zoom_start=10)\n",
    "\n",
    "    # Convert to Numpy array\n",
    "    part_data = test[['latitude','longitude']]\n",
    "    part_data = np.array(part_data)\n",
    "\n",
    "    # Add a heatmap to the base map\n",
    "    HeatMap(data=part_data, radius=10).add_to(m_5)\n",
    "\n",
    "    # Display the map\n",
    "    display(embed_map(m_5, 'maps/m_5.html'))"
   ]
  },
  {
   "cell_type": "markdown",
   "metadata": {},
   "source": [
    "**Comment:**\n",
    "\n",
    "We see that south part of Manhatan, around Washington Square Park has the hightest density of hotels with prizes over 1000$ per day."
   ]
  },
  {
   "cell_type": "code",
   "execution_count": null,
   "metadata": {},
   "outputs": [],
   "source": []
  }
 ],
 "metadata": {
  "kernelspec": {
   "display_name": "Python 3",
   "language": "python",
   "name": "python3"
  },
  "language_info": {
   "codemirror_mode": {
    "name": "ipython",
    "version": 3
   },
   "file_extension": ".py",
   "mimetype": "text/x-python",
   "name": "python",
   "nbconvert_exporter": "python",
   "pygments_lexer": "ipython3",
   "version": "3.6.9"
  }
 },
 "nbformat": 4,
 "nbformat_minor": 2
}
