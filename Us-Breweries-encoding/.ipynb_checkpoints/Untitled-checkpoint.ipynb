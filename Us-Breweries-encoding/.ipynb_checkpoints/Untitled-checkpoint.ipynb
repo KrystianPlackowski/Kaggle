{
 "cells": [
  {
   "cell_type": "code",
   "execution_count": 112,
   "metadata": {},
   "outputs": [],
   "source": [
    "import os\n",
    "import pickle\n",
    "import matplotlib.pyplot as plt\n",
    "import pandas as pd\n",
    "import requests\n",
    "import xml.dom.minidom as dom\n",
    "import zipfile, io"
   ]
  },
  {
   "cell_type": "markdown",
   "metadata": {},
   "source": [
    "# Load api_key from pickle or paste it in line below\n",
    "API provider: https://developer.here.com/"
   ]
  },
  {
   "cell_type": "code",
   "execution_count": 114,
   "metadata": {},
   "outputs": [],
   "source": [
    "API_KEY = \"\"  # Paste here your api_key"
   ]
  },
  {
   "cell_type": "code",
   "execution_count": 118,
   "metadata": {},
   "outputs": [
    {
     "name": "stdout",
     "output_type": "stream",
     "text": [
      "API key loaded from pickle\n"
     ]
    }
   ],
   "source": [
    "if not os.path.isdir(\"pickles\"):\n",
    "     os.mkdir(\"pickles\")\n",
    "           \n",
    "        \n",
    "if os.path.isfile(\"pickles/travel_api_key.pkl\"):\n",
    "    with open('pickles/travel_api_key.pkl', 'rb') as f:\n",
    "        API_KEY = pickle.load(f)\n",
    "    print(\"API key loaded from pickle\")\n",
    "else:\n",
    "    if API_KEY is None or API_KEY == \"\":\n",
    "        print(\"No API key provided! Encoding function currently not available\")\n",
    "    else:\n",
    "        with open('pickles/travel_api_key.pkl', 'wb') as f:\n",
    "            pickle.dump(API_KEY, f)\n",
    "        print(\"API key written as pickle\")"
   ]
  },
  {
   "cell_type": "markdown",
   "metadata": {},
   "source": [
    "# Functions for batch geoencoding"
   ]
  },
  {
   "cell_type": "code",
   "execution_count": 3,
   "metadata": {},
   "outputs": [],
   "source": [
    "#'https://batch.places.sit.ls.hereapi.com/places/v1/autosuggest/jobs/'\n",
    "#'https://batch.geocoder.ls.hereapi.com/6.2/jobs/'\n",
    "base_url = 'https://batch.geocoder.ls.hereapi.com/6.2/jobs/'\n",
    "\n",
    "# Make post request to encode list of adresses and return granted jobId + xml status response\n",
    "def run_request(data):\n",
    "    url = base_url\n",
    "\n",
    "    params = {'apiKey' : API_KEY\n",
    "                   , 'action' : 'run'\n",
    "                   , 'indelim' : '|'\n",
    "                   , 'outdelim' : '|'\n",
    "                   , 'outcols' : 'displayLatitude,displayLongitude'\n",
    "                   , 'outputCombined' : 'false'}\n",
    "\n",
    "    res = requests.post(url, params=params, data=data.encode('utf-8'))\n",
    "    xml = dom.parseString(res.text)\n",
    "    return xml.getElementsByTagName('RequestId')[0].firstChild.data, xml.toprettyxml()\n",
    "\n",
    "\n",
    "# Using granted jobId return job status + xml status response\n",
    "def status_request(jobId):\n",
    "    url = base_url + jobId\n",
    "\n",
    "    params = {'apiKey' : API_KEY, 'action' : 'status'}\n",
    "\n",
    "    res = requests.get(url, params=params)\n",
    "    xml = dom.parseString(res.text)\n",
    "    return xml.getElementsByTagName('Status')[0].firstChild.data, xml.toprettyxml()\n",
    "\n",
    "\n",
    "# Using granted jobID return DataFrame with results\n",
    "def download_request(jobId): \n",
    "    url = base_url + jobId + \"/result\"\n",
    "    \n",
    "    params = {'apiKey' : API_KEY}\n",
    "    \n",
    "    # Download .zip file\n",
    "    res = requests.get(url, params=params)\n",
    "    # Extract .zip file\n",
    "    z = zipfile.ZipFile(io.BytesIO(res.content))\n",
    "    z.extractall()\n",
    "    # Render as pandas DataFrame\n",
    "    return pd.read_csv(z.namelist()[0], sep=\"|\")"
   ]
  },
  {
   "cell_type": "markdown",
   "metadata": {},
   "source": [
    "# Read breweries DataFrame"
   ]
  },
  {
   "cell_type": "code",
   "execution_count": 4,
   "metadata": {},
   "outputs": [],
   "source": [
    "df = pd.read_csv(\"breweries_us.csv\")"
   ]
  },
  {
   "cell_type": "code",
   "execution_count": 5,
   "metadata": {},
   "outputs": [
    {
     "data": {
      "text/html": [
       "<div>\n",
       "<style scoped>\n",
       "    .dataframe tbody tr th:only-of-type {\n",
       "        vertical-align: middle;\n",
       "    }\n",
       "\n",
       "    .dataframe tbody tr th {\n",
       "        vertical-align: top;\n",
       "    }\n",
       "\n",
       "    .dataframe thead th {\n",
       "        text-align: right;\n",
       "    }\n",
       "</style>\n",
       "<table border=\"1\" class=\"dataframe\">\n",
       "  <thead>\n",
       "    <tr style=\"text-align: right;\">\n",
       "      <th></th>\n",
       "      <th>brewery_name</th>\n",
       "      <th>type</th>\n",
       "      <th>address</th>\n",
       "      <th>website</th>\n",
       "      <th>state</th>\n",
       "      <th>state_breweries</th>\n",
       "    </tr>\n",
       "  </thead>\n",
       "  <tbody>\n",
       "    <tr>\n",
       "      <th>0</th>\n",
       "      <td>Valley Brewing Co.</td>\n",
       "      <td>Brewpub</td>\n",
       "      <td>PO Box 4653, Stockton, California, 95204</td>\n",
       "      <td>http://www.valleybrew.com/</td>\n",
       "      <td>california</td>\n",
       "      <td>284</td>\n",
       "    </tr>\n",
       "    <tr>\n",
       "      <th>1</th>\n",
       "      <td>Valley Brewing Co.</td>\n",
       "      <td>Brewpub</td>\n",
       "      <td>157 Adams St., Stockton, California, 95204</td>\n",
       "      <td>http://www.valleybrew.com/</td>\n",
       "      <td>california</td>\n",
       "      <td>284</td>\n",
       "    </tr>\n",
       "    <tr>\n",
       "      <th>2</th>\n",
       "      <td>Valley Brewing Co</td>\n",
       "      <td>Microbrewery</td>\n",
       "      <td>1950 W Freemont, Stockton, California, 95203</td>\n",
       "      <td>http://www.valleybrew.com/</td>\n",
       "      <td>california</td>\n",
       "      <td>284</td>\n",
       "    </tr>\n",
       "    <tr>\n",
       "      <th>3</th>\n",
       "      <td>Ukiah Brewing Company</td>\n",
       "      <td>Brewpub</td>\n",
       "      <td>102 S. State St., Ukiah, California, 95482</td>\n",
       "      <td>http://www.ukiahbrewingco.com/</td>\n",
       "      <td>california</td>\n",
       "      <td>284</td>\n",
       "    </tr>\n",
       "    <tr>\n",
       "      <th>4</th>\n",
       "      <td>Tustin Brewing Co.</td>\n",
       "      <td>Brewpub</td>\n",
       "      <td>13011 Newport Ave. #100, Tustin, California, 9...</td>\n",
       "      <td>http://www.tustinbrewery.com/</td>\n",
       "      <td>california</td>\n",
       "      <td>284</td>\n",
       "    </tr>\n",
       "  </tbody>\n",
       "</table>\n",
       "</div>"
      ],
      "text/plain": [
       "            brewery_name          type  \\\n",
       "0     Valley Brewing Co.       Brewpub   \n",
       "1     Valley Brewing Co.       Brewpub   \n",
       "2      Valley Brewing Co  Microbrewery   \n",
       "3  Ukiah Brewing Company       Brewpub   \n",
       "4     Tustin Brewing Co.       Brewpub   \n",
       "\n",
       "                                             address  \\\n",
       "0           PO Box 4653, Stockton, California, 95204   \n",
       "1         157 Adams St., Stockton, California, 95204   \n",
       "2       1950 W Freemont, Stockton, California, 95203   \n",
       "3         102 S. State St., Ukiah, California, 95482   \n",
       "4  13011 Newport Ave. #100, Tustin, California, 9...   \n",
       "\n",
       "                          website       state  state_breweries  \n",
       "0      http://www.valleybrew.com/  california              284  \n",
       "1      http://www.valleybrew.com/  california              284  \n",
       "2      http://www.valleybrew.com/  california              284  \n",
       "3  http://www.ukiahbrewingco.com/  california              284  \n",
       "4   http://www.tustinbrewery.com/  california              284  "
      ]
     },
     "execution_count": 5,
     "metadata": {},
     "output_type": "execute_result"
    }
   ],
   "source": [
    "df.head()"
   ]
  },
  {
   "cell_type": "markdown",
   "metadata": {},
   "source": [
    "Display distribution of brewery types"
   ]
  },
  {
   "cell_type": "code",
   "execution_count": 120,
   "metadata": {},
   "outputs": [
    {
     "data": {
      "image/png": "[encoded data removed]",
      "text/plain": [
       "<Figure size 432x288 with 1 Axes>"
      ]
     },
     "metadata": {
      "needs_background": "light"
     },
     "output_type": "display_data"
    }
   ],
   "source": [
    "df['type'].value_counts().plot()\n",
    "plt.xticks(rotation=70)\n",
    "plt.ylabel('count')\n",
    "pass"
   ]
  },
  {
   "cell_type": "markdown",
   "metadata": {},
   "source": [
    "# Encode brewieries' addresses using batch request"
   ]
  },
  {
   "cell_type": "markdown",
   "metadata": {},
   "source": [
    "Prepare `body` for post request"
   ]
  },
  {
   "cell_type": "code",
   "execution_count": 42,
   "metadata": {},
   "outputs": [],
   "source": [
    "data = \"recId|searchText|country\\n\"\n",
    "\n",
    "for idx, row in df.iterrows():\n",
    "    data += \"{}|{}|USA\\n\".format(idx, row['address'])"
   ]
  },
  {
   "cell_type": "code",
   "execution_count": 43,
   "metadata": {},
   "outputs": [],
   "source": [
    "jobId, job_window = run_request(data)"
   ]
  },
  {
   "cell_type": "markdown",
   "metadata": {},
   "source": [
    "Check job `status` as long as it's not `completed`"
   ]
  },
  {
   "cell_type": "code",
   "execution_count": 62,
   "metadata": {},
   "outputs": [],
   "source": [
    "status, status_window = status_request(jobId)"
   ]
  },
  {
   "cell_type": "code",
   "execution_count": 63,
   "metadata": {},
   "outputs": [
    {
     "name": "stdout",
     "output_type": "stream",
     "text": [
      "<?xml version=\"1.0\" ?>\n",
      "<ns2:SearchBatch xmlns:ns2=\"http://www.navteq.com/lbsp/Search-Batch/1\">\n",
      "\t<Response>\n",
      "\t\t<MetaInfo>\n",
      "\t\t\t<RequestId>7xhG05d1QDpAoEapMe04mO2odtFJgFEz</RequestId>\n",
      "\t\t</MetaInfo>\n",
      "\t\t<Status>completed</Status>\n",
      "\t\t<JobStarted>2019-12-29T19:15:11.000Z</JobStarted>\n",
      "\t\t<JobFinished>2019-12-29T19:15:21.000Z</JobFinished>\n",
      "\t\t<TotalCount>2407</TotalCount>\n",
      "\t\t<ValidCount>2407</ValidCount>\n",
      "\t\t<InvalidCount>0</InvalidCount>\n",
      "\t\t<ProcessedCount>2407</ProcessedCount>\n",
      "\t\t<PendingCount>0</PendingCount>\n",
      "\t\t<SuccessCount>2403</SuccessCount>\n",
      "\t\t<ErrorCount>4</ErrorCount>\n",
      "\t</Response>\n",
      "</ns2:SearchBatch>\n",
      "\n"
     ]
    }
   ],
   "source": [
    "print(status_window)"
   ]
  },
  {
   "cell_type": "markdown",
   "metadata": {},
   "source": [
    "Once the job is complete, download `encoded data` from server as zip and unzip it"
   ]
  },
  {
   "cell_type": "code",
   "execution_count": 121,
   "metadata": {},
   "outputs": [
    {
     "name": "stdout",
     "output_type": "stream",
     "text": [
      "Encoding completed\n"
     ]
    }
   ],
   "source": [
    "if status == 'completed':\n",
    "    print(\"Encoding completed\")\n",
    "    res = download_request(jobId)\n",
    "else:\n",
    "    print(\"Please wait longer\")"
   ]
  },
  {
   "cell_type": "markdown",
   "metadata": {},
   "source": [
    "### Comment:\n",
    "Using batch request all data was encoded in `10 seconds`. If for every row of data a separated request would be sent, the total duration would be about `30 minutes` or more."
   ]
  },
  {
   "cell_type": "markdown",
   "metadata": {},
   "source": [
    "# Manipulate to join encoded rows with initial DataFrame `df`\n",
    "If multiple locations were matched with row's address, response table will contain multiple rows with same `recId`. Let's leave only the first match and get rid of rest."
   ]
  },
  {
   "cell_type": "code",
   "execution_count": 122,
   "metadata": {},
   "outputs": [
    {
     "data": {
      "text/html": [
       "<div>\n",
       "<style scoped>\n",
       "    .dataframe tbody tr th:only-of-type {\n",
       "        vertical-align: middle;\n",
       "    }\n",
       "\n",
       "    .dataframe tbody tr th {\n",
       "        vertical-align: top;\n",
       "    }\n",
       "\n",
       "    .dataframe thead th {\n",
       "        text-align: right;\n",
       "    }\n",
       "</style>\n",
       "<table border=\"1\" class=\"dataframe\">\n",
       "  <thead>\n",
       "    <tr style=\"text-align: right;\">\n",
       "      <th></th>\n",
       "      <th>displayLatitude</th>\n",
       "      <th>displayLongitude</th>\n",
       "    </tr>\n",
       "    <tr>\n",
       "      <th>recId</th>\n",
       "      <th></th>\n",
       "      <th></th>\n",
       "    </tr>\n",
       "  </thead>\n",
       "  <tbody>\n",
       "    <tr>\n",
       "      <th>2399</th>\n",
       "      <td>38.919880</td>\n",
       "      <td>-77.00094</td>\n",
       "    </tr>\n",
       "    <tr>\n",
       "      <th>2400</th>\n",
       "      <td>38.896530</td>\n",
       "      <td>-77.02163</td>\n",
       "    </tr>\n",
       "    <tr>\n",
       "      <th>2401</th>\n",
       "      <td>38.896530</td>\n",
       "      <td>-77.02163</td>\n",
       "    </tr>\n",
       "    <tr>\n",
       "      <th>2402</th>\n",
       "      <td>38.896938</td>\n",
       "      <td>-77.00810</td>\n",
       "    </tr>\n",
       "    <tr>\n",
       "      <th>2403</th>\n",
       "      <td>38.900190</td>\n",
       "      <td>-77.02756</td>\n",
       "    </tr>\n",
       "  </tbody>\n",
       "</table>\n",
       "</div>"
      ],
      "text/plain": [
       "       displayLatitude  displayLongitude\n",
       "recId                                   \n",
       "2399         38.919880         -77.00094\n",
       "2400         38.896530         -77.02163\n",
       "2401         38.896530         -77.02163\n",
       "2402         38.896938         -77.00810\n",
       "2403         38.900190         -77.02756"
      ]
     },
     "execution_count": 122,
     "metadata": {},
     "output_type": "execute_result"
    }
   ],
   "source": [
    "res_ = res.drop_duplicates(subset='recId', keep='first').set_index('recId')\n",
    "res_ = res_.drop(columns=['SeqNumber', 'seqLength'])\n",
    "res_.tail()"
   ]
  },
  {
   "cell_type": "code",
   "execution_count": 78,
   "metadata": {},
   "outputs": [
    {
     "data": {
      "text/html": [
       "<div>\n",
       "<style scoped>\n",
       "    .dataframe tbody tr th:only-of-type {\n",
       "        vertical-align: middle;\n",
       "    }\n",
       "\n",
       "    .dataframe tbody tr th {\n",
       "        vertical-align: top;\n",
       "    }\n",
       "\n",
       "    .dataframe thead th {\n",
       "        text-align: right;\n",
       "    }\n",
       "</style>\n",
       "<table border=\"1\" class=\"dataframe\">\n",
       "  <thead>\n",
       "    <tr style=\"text-align: right;\">\n",
       "      <th></th>\n",
       "      <th>brewery_name</th>\n",
       "      <th>type</th>\n",
       "      <th>address</th>\n",
       "      <th>website</th>\n",
       "      <th>state</th>\n",
       "      <th>state_breweries</th>\n",
       "      <th>displayLatitude</th>\n",
       "      <th>displayLongitude</th>\n",
       "    </tr>\n",
       "  </thead>\n",
       "  <tbody>\n",
       "    <tr>\n",
       "      <th>2402</th>\n",
       "      <td>Capitol City Brewing Company (Capitol Hill)</td>\n",
       "      <td>Brewpub</td>\n",
       "      <td>2 Massachusetts Ave., Washington, DC, Washingt...</td>\n",
       "      <td>http://www.capcitybrew.com/</td>\n",
       "      <td>washington-dc</td>\n",
       "      <td>9</td>\n",
       "      <td>38.896938</td>\n",
       "      <td>-77.00810</td>\n",
       "    </tr>\n",
       "    <tr>\n",
       "      <th>2403</th>\n",
       "      <td>Capitol City Brewing Company</td>\n",
       "      <td>Brewpub</td>\n",
       "      <td>1100 New York Ave. NW, Washington, DC, Washing...</td>\n",
       "      <td>http://www.capcitybrew.com/</td>\n",
       "      <td>washington-dc</td>\n",
       "      <td>9</td>\n",
       "      <td>38.900190</td>\n",
       "      <td>-77.02756</td>\n",
       "    </tr>\n",
       "    <tr>\n",
       "      <th>2404</th>\n",
       "      <td>Old Harbor Brewery</td>\n",
       "      <td>Brewpub</td>\n",
       "      <td>Gen del Valle 1021 Urb Delicias, San Juan, PR,...</td>\n",
       "      <td>http://oldharborbrewery.com/</td>\n",
       "      <td>puerto-rico</td>\n",
       "      <td>3</td>\n",
       "      <td>NaN</td>\n",
       "      <td>NaN</td>\n",
       "    </tr>\n",
       "    <tr>\n",
       "      <th>2405</th>\n",
       "      <td>Isla Verde Brewing Co.</td>\n",
       "      <td>Microbrewery</td>\n",
       "      <td>Condiminum Torrimar Plaza # 14B, Guaynabo , PR...</td>\n",
       "      <td>...</td>\n",
       "      <td>puerto-rico</td>\n",
       "      <td>3</td>\n",
       "      <td>NaN</td>\n",
       "      <td>NaN</td>\n",
       "    </tr>\n",
       "    <tr>\n",
       "      <th>2406</th>\n",
       "      <td>Cerveceria India Inc</td>\n",
       "      <td>RegionalBrewery</td>\n",
       "      <td>PO Box 1690, Mayaguez, PR, 681</td>\n",
       "      <td>...</td>\n",
       "      <td>puerto-rico</td>\n",
       "      <td>3</td>\n",
       "      <td>NaN</td>\n",
       "      <td>NaN</td>\n",
       "    </tr>\n",
       "  </tbody>\n",
       "</table>\n",
       "</div>"
      ],
      "text/plain": [
       "                                     brewery_name             type  \\\n",
       "2402  Capitol City Brewing Company (Capitol Hill)          Brewpub   \n",
       "2403                 Capitol City Brewing Company          Brewpub   \n",
       "2404                           Old Harbor Brewery          Brewpub   \n",
       "2405                       Isla Verde Brewing Co.     Microbrewery   \n",
       "2406                         Cerveceria India Inc  RegionalBrewery   \n",
       "\n",
       "                                                address  \\\n",
       "2402  2 Massachusetts Ave., Washington, DC, Washingt...   \n",
       "2403  1100 New York Ave. NW, Washington, DC, Washing...   \n",
       "2404  Gen del Valle 1021 Urb Delicias, San Juan, PR,...   \n",
       "2405  Condiminum Torrimar Plaza # 14B, Guaynabo , PR...   \n",
       "2406                     PO Box 1690, Mayaguez, PR, 681   \n",
       "\n",
       "                                                website          state  \\\n",
       "2402                        http://www.capcitybrew.com/  washington-dc   \n",
       "2403                        http://www.capcitybrew.com/  washington-dc   \n",
       "2404                       http://oldharborbrewery.com/    puerto-rico   \n",
       "2405                                                ...    puerto-rico   \n",
       "2406                                                ...    puerto-rico   \n",
       "\n",
       "      state_breweries  displayLatitude  displayLongitude  \n",
       "2402                9        38.896938         -77.00810  \n",
       "2403                9        38.900190         -77.02756  \n",
       "2404                3              NaN               NaN  \n",
       "2405                3              NaN               NaN  \n",
       "2406                3              NaN               NaN  "
      ]
     },
     "execution_count": 78,
     "metadata": {},
     "output_type": "execute_result"
    }
   ],
   "source": [
    "df_ = df.merge(res_, how='left', left_index=True, right_index=True)\n",
    "df_.tail()"
   ]
  },
  {
   "cell_type": "markdown",
   "metadata": {},
   "source": [
    "# Benchmark check\n",
    "Using a single data row from the middle.\n",
    "\n",
    "Pasting `geocordinates` to `google maps` and comparing result with `brewery name` and `address`, reveals it's properly (or at least logically) encoded."
   ]
  },
  {
   "cell_type": "code",
   "execution_count": 83,
   "metadata": {},
   "outputs": [
    {
     "data": {
      "text/html": [
       "<div>\n",
       "<style scoped>\n",
       "    .dataframe tbody tr th:only-of-type {\n",
       "        vertical-align: middle;\n",
       "    }\n",
       "\n",
       "    .dataframe tbody tr th {\n",
       "        vertical-align: top;\n",
       "    }\n",
       "\n",
       "    .dataframe thead th {\n",
       "        text-align: right;\n",
       "    }\n",
       "</style>\n",
       "<table border=\"1\" class=\"dataframe\">\n",
       "  <thead>\n",
       "    <tr style=\"text-align: right;\">\n",
       "      <th></th>\n",
       "      <th>brewery_name</th>\n",
       "      <th>type</th>\n",
       "      <th>address</th>\n",
       "      <th>website</th>\n",
       "      <th>state</th>\n",
       "      <th>state_breweries</th>\n",
       "      <th>displayLatitude</th>\n",
       "      <th>displayLongitude</th>\n",
       "    </tr>\n",
       "  </thead>\n",
       "  <tbody>\n",
       "    <tr>\n",
       "      <th>1005</th>\n",
       "      <td>Bloomfield's Tavern</td>\n",
       "      <td>Brewpub</td>\n",
       "      <td>90 Water St., Skowhegan, Maine, 4976</td>\n",
       "      <td>...</td>\n",
       "      <td>maine</td>\n",
       "      <td>44</td>\n",
       "      <td>44.765656</td>\n",
       "      <td>-69.718279</td>\n",
       "    </tr>\n",
       "  </tbody>\n",
       "</table>\n",
       "</div>"
      ],
      "text/plain": [
       "             brewery_name     type                               address  \\\n",
       "1005  Bloomfield's Tavern  Brewpub  90 Water St., Skowhegan, Maine, 4976   \n",
       "\n",
       "                                                website  state  \\\n",
       "1005                                                ...  maine   \n",
       "\n",
       "      state_breweries  displayLatitude  displayLongitude  \n",
       "1005               44        44.765656        -69.718279  "
      ]
     },
     "metadata": {},
     "output_type": "display_data"
    }
   ],
   "source": [
    "display(df_.iloc[1005:1006])"
   ]
  },
  {
   "cell_type": "markdown",
   "metadata": {},
   "source": [
    "# Display map of brewery locations\n",
    "Finally, after successful encoding"
   ]
  },
  {
   "cell_type": "code",
   "execution_count": null,
   "metadata": {},
   "outputs": [],
   "source": [
    "import folium\n",
    "from folium import Choropleth, Circle, Marker\n",
    "from folium.plugins import HeatMap, MarkerCluster"
   ]
  },
  {
   "cell_type": "code",
   "execution_count": 92,
   "metadata": {},
   "outputs": [],
   "source": [
    "# Function for displaying the map\n",
    "\n",
    "def embed_map(m, file_name):\n",
    "    from IPython.display import IFrame\n",
    "    m.save(file_name)\n",
    "    return IFrame(file_name, width='100%', height='500px')"
   ]
  },
  {
   "cell_type": "code",
   "execution_count": 93,
   "metadata": {},
   "outputs": [],
   "source": [
    "# Function to check if value is Nan or not\n",
    "def notNan(a):\n",
    "    return a == a"
   ]
  },
  {
   "cell_type": "code",
   "execution_count": 119,
   "metadata": {},
   "outputs": [
    {
     "data": {
      "text/html": [
       "\n",
       "        <iframe\n",
       "            width=\"100%\"\n",
       "            height=\"500px\"\n",
       "            src=\"maps/m_1.html\"\n",
       "            frameborder=\"0\"\n",
       "            allowfullscreen\n",
       "        ></iframe>\n",
       "        "
      ],
      "text/plain": [
       "<IPython.lib.display.IFrame at 0x7fd8e0f4e588>"
      ]
     },
     "execution_count": 119,
     "metadata": {},
     "output_type": "execute_result"
    }
   ],
   "source": [
    "if not os.path.isdir(\"maps\"):\n",
    "     os.mkdir(\"maps\")\n",
    "        \n",
    "        \n",
    "# Create a base map\n",
    "m_1 = folium.Map(location=[40,-100], tiles='cartodbpositron', zoom_start=3)\n",
    "\n",
    "# Add apartaments to the map\n",
    "mc = MarkerCluster()\n",
    "for idx, house in df_.iterrows():\n",
    "    if notNan(house['displayLatitude']):\n",
    "        mc.add_child(Marker([house['displayLatitude'], house['displayLongitude']]\n",
    "                            , popup=str(house['brewery_name'])))\n",
    "m_1.add_child(mc)\n",
    "\n",
    "# Display the map\n",
    "embed_map(m_1, 'maps/m_1.html')"
   ]
  },
  {
   "cell_type": "markdown",
   "metadata": {},
   "source": [
    "# Rest\n",
    "Work in progress"
   ]
  },
  {
   "cell_type": "code",
   "execution_count": null,
   "metadata": {},
   "outputs": [],
   "source": []
  }
 ],
 "metadata": {
  "kernelspec": {
   "display_name": "Python 3",
   "language": "python",
   "name": "python3"
  },
  "language_info": {
   "codemirror_mode": {
    "name": "ipython",
    "version": 3
   },
   "file_extension": ".py",
   "mimetype": "text/x-python",
   "name": "python",
   "nbconvert_exporter": "python",
   "pygments_lexer": "ipython3",
   "version": "3.6.9"
  }
 },
 "nbformat": 4,
 "nbformat_minor": 2
}
