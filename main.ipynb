{
 "cells": [
  {
   "cell_type": "code",
   "execution_count": 3,
   "metadata": {},
   "outputs": [],
   "source": [
    "%matplotlib inline\n",
    "import matplotlib.pyplot as plt\n",
    "import matplotlib\n",
    "import pandas as pd\n",
    "import numpy as np\n",
    "from sklearn.cluster import KMeans\n",
    "from sklearn.preprocessing import scale\n",
    "from pylab import rcParams\n",
    "import scipy.cluster.hierarchy as sch"
   ]
  },
  {
   "cell_type": "markdown",
   "metadata": {},
   "source": [
    "### Define two functions for cluster analysis visualisation"
   ]
  },
  {
   "cell_type": "code",
   "execution_count": 4,
   "metadata": {},
   "outputs": [],
   "source": [
    "def pd_centers(featuresUsed, centers):\n",
    "    from itertools import cycle, islice\n",
    "    from pandas.plotting import parallel_coordinates\n",
    "    import matplotlib.pyplot as plt\n",
    "    import pandas as pd\n",
    "    import numpy as np\n",
    "\n",
    "    colNames = list(featuresUsed)\n",
    "    colNames.append('prediction')\n",
    "\n",
    "    # Zip with a column called 'prediction' (index)\n",
    "    Z = [np.append(A, index) for index, A in enumerate(centers)]\n",
    "\n",
    "    # Convert to pandas for plotting\n",
    "    P = pd.DataFrame(Z, columns=colNames)\n",
    "    P['prediction'] = P['prediction'].astype(int)\n",
    "    return P\n",
    "\n",
    "def parallel_plot(data):\n",
    "    from itertools import cycle, islice\n",
    "    from pandas.plotting import parallel_coordinates\n",
    "    import matplotlib.pyplot as plt\n",
    "\n",
    "    my_colors = list(islice(cycle(['b', 'r', 'g', 'y', 'k']), None, len(data)))\n",
    "    plt.figure(figsize=(15,8)).gca().axes.set_ylim([-2.5,+2.5])\n",
    "    parallel_coordinates(data, 'prediction', color = my_colors, marker='o')\n",
    "    plt.xticks(rotation=75)"
   ]
  },
  {
   "cell_type": "markdown",
   "metadata": {},
   "source": [
    "## **1. Prepare the dataset**"
   ]
  },
  {
   "cell_type": "code",
   "execution_count": 5,
   "metadata": {},
   "outputs": [],
   "source": [
    "responses = pd.read_csv(\"responses.csv\")\n",
    "\n",
    "responses.at[676,'Height'] += 100 # repair value"
   ]
  },
  {
   "cell_type": "markdown",
   "metadata": {},
   "source": [
    "### Divide dataset onto severall parts"
   ]
  },
  {
   "cell_type": "code",
   "execution_count": 6,
   "metadata": {},
   "outputs": [],
   "source": [
    "music = responses.loc[:,'Dance':'Opera']\n",
    "movies = responses.loc[:,'Horror':'Action']\n",
    "hobbies = responses.loc[:,'History':'Pets']\n",
    "phobias = responses.loc[:,'Flying':'Fear of public speaking']\n",
    "personality = responses.loc[:,'Daily events':'Spending on healthy eating'].select_dtypes(include=['int','float'])"
   ]
  },
  {
   "cell_type": "markdown",
   "metadata": {},
   "source": [
    "### **Define 'braveness'**\n",
    "Negation of 'breaveness' is a sum of individual's ratings of all fobias.\n",
    "\n",
    "*Note: highter value = more brave.*"
   ]
  },
  {
   "cell_type": "code",
   "execution_count": 8,
   "metadata": {},
   "outputs": [
    {
     "data": {
      "text/plain": [
       "Text(0, 0.5, 'Density')"
      ]
     },
     "execution_count": 8,
     "metadata": {},
     "output_type": "execute_result"
    },
    {
     "data": {
      "image/png": "[encoded data removed]",
      "text/plain": [
       "<Figure size 432x288 with 1 Axes>"
      ]
     },
     "metadata": {},
     "output_type": "display_data"
    }
   ],
   "source": [
    "braveness = (50-phobias.sum(axis=1)) / 10 + 1\n",
    "braveness.plot.hist(bins=40, alpha=0.5, density = True)\n",
    "\n",
    "responses_ = responses.copy()\n",
    "responses_.insert(0, \"Braveness\", braveness.to_list(), True)\n",
    "\n",
    "plt.xlabel('Braveness')\n",
    "plt.ylabel('Density')"
   ]
  },
  {
   "cell_type": "markdown",
   "metadata": {},
   "source": [
    "### **Filter responses leaving only numerical values**"
   ]
  },
  {
   "cell_type": "code",
   "execution_count": 10,
   "metadata": {},
   "outputs": [
    {
     "name": "stdout",
     "output_type": "stream",
     "text": [
      "(1010, 151) (1010, 140)\n"
     ]
    }
   ],
   "source": [
    "responses_int = responses_.select_dtypes(include=['int','float'])\n",
    "print(responses_.shape, responses_int.shape)"
   ]
  },
  {
   "cell_type": "markdown",
   "metadata": {},
   "source": [
    "## **2. Search for correlations**"
   ]
  },
  {
   "cell_type": "markdown",
   "metadata": {},
   "source": [
    "### ** 2.1. Divide data set onto male/female slice**"
   ]
  },
  {
   "cell_type": "code",
   "execution_count": 11,
   "metadata": {},
   "outputs": [],
   "source": [
    "responses_int_filtered = responses_int[responses['Gender'] == 'female']\n",
    "responses_male = responses_int[responses['Gender'] == 'male']\n",
    "responses_female = responses_int[responses['Gender'] == 'female']"
   ]
  },
  {
   "cell_type": "markdown",
   "metadata": {},
   "source": [
    "### 2.2. Generate plot of correlations of all features with a chosen `FEATURE`\n",
    "Consider `men` and `women` datasets together."
   ]
  },
  {
   "cell_type": "code",
   "execution_count": 112,
   "metadata": {},
   "outputs": [
    {
     "name": "stdout",
     "output_type": "stream",
     "text": [
      "Features correlated with 'Number of friends':\n"
     ]
    },
    {
     "data": {
      "text/html": [
       "<div>\n",
       "<style scoped>\n",
       "    .dataframe tbody tr th:only-of-type {\n",
       "        vertical-align: middle;\n",
       "    }\n",
       "\n",
       "    .dataframe tbody tr th {\n",
       "        vertical-align: top;\n",
       "    }\n",
       "\n",
       "    .dataframe thead th {\n",
       "        text-align: right;\n",
       "    }\n",
       "</style>\n",
       "<table border=\"1\" class=\"dataframe\">\n",
       "  <thead>\n",
       "    <tr style=\"text-align: right;\">\n",
       "      <th></th>\n",
       "      <th>Feature's name</th>\n",
       "      <th>Coefficient</th>\n",
       "    </tr>\n",
       "  </thead>\n",
       "  <tbody>\n",
       "    <tr>\n",
       "      <th>61</th>\n",
       "      <td>Fun with friends</td>\n",
       "      <td>0.369</td>\n",
       "    </tr>\n",
       "    <tr>\n",
       "      <th>98</th>\n",
       "      <td>Loneliness</td>\n",
       "      <td>-0.287</td>\n",
       "    </tr>\n",
       "    <tr>\n",
       "      <th>105</th>\n",
       "      <td>Number of friends</td>\n",
       "      <td>1.000</td>\n",
       "    </tr>\n",
       "    <tr>\n",
       "      <th>110</th>\n",
       "      <td>Socializing</td>\n",
       "      <td>0.323</td>\n",
       "    </tr>\n",
       "    <tr>\n",
       "      <th>120</th>\n",
       "      <td>Happiness in life</td>\n",
       "      <td>0.299</td>\n",
       "    </tr>\n",
       "    <tr>\n",
       "      <th>121</th>\n",
       "      <td>Energy levels</td>\n",
       "      <td>0.367</td>\n",
       "    </tr>\n",
       "    <tr>\n",
       "      <th>123</th>\n",
       "      <td>Personality</td>\n",
       "      <td>0.275</td>\n",
       "    </tr>\n",
       "    <tr>\n",
       "      <th>126</th>\n",
       "      <td>Interests or hobbies</td>\n",
       "      <td>0.372</td>\n",
       "    </tr>\n",
       "  </tbody>\n",
       "</table>\n",
       "</div>"
      ],
      "text/plain": [
       "           Feature's name  Coefficient\n",
       "61       Fun with friends        0.369\n",
       "98             Loneliness       -0.287\n",
       "105     Number of friends        1.000\n",
       "110           Socializing        0.323\n",
       "120     Happiness in life        0.299\n",
       "121         Energy levels        0.367\n",
       "123           Personality        0.275\n",
       "126  Interests or hobbies        0.372"
      ]
     },
     "metadata": {},
     "output_type": "display_data"
    },
    {
     "data": {
      "image/png": "[encoded data removed]",
      "text/plain": [
       "<Figure size 576x432 with 1 Axes>"
      ]
     },
     "metadata": {},
     "output_type": "display_data"
    }
   ],
   "source": [
    "#FEATURE = 'Loneliness'\n",
    "FEATURE = 'Number of friends'\n",
    "\n",
    "\n",
    "rcParams['figure.figsize'] = 8,6\n",
    "\n",
    "cols = responses_int_filtered.columns.to_list()\n",
    "\n",
    "correlations = [responses_int_filtered[FEATURE].corr(responses_int_filtered[f]) for f in cols]\n",
    "\n",
    "\n",
    "df = pd.DataFrame(correlations, columns = ['Correlations'])\n",
    "df = df[abs(df['Correlations']) > 0.25]\n",
    "\n",
    "corr_features = [cols[f] for f in df.index]\n",
    "\n",
    "corr = responses_int_filtered[corr_features].corr().loc[:,FEATURE]#.drop([FEATURE])\n",
    "print(\"Features correlated with '{}':\".format(FEATURE))\n",
    "corr_ = {'Feature\\'s name':corr.index, 'Coefficient':round(corr,3).to_list()}\n",
    "corr_ = pd.DataFrame(corr_, index = df.index)\n",
    "display(corr_)\n",
    "\n",
    "\n",
    "plt.plot(correlations)\n",
    "plt.xlabel('Feature\\'s index')\n",
    "plt.ylabel('Regression coefficient')\n",
    "plt.scatter(df.index, np.array(corr), c='r')\n",
    "plt.show()"
   ]
  },
  {
   "cell_type": "markdown",
   "metadata": {},
   "source": [
    "Red dots correspond to features correlated with `FEATURE`."
   ]
  },
  {
   "cell_type": "markdown",
   "metadata": {},
   "source": [
    "### 2.3. Search for interesting correlations\n",
    "Consider `men` and `women` independently.\n",
    "\n",
    "Find what features have most correlations with any of 'personality' features.\n",
    "Find features that lead to correlations with similar Pearson's value for *both men and women treated separently*. This approach is crucial, because i.e. if `men` are more likely to be interested in `cars` than `women` and at the same time `men` are statisticaly `heigher` that `women`, then without considering gender independence we would get a correlation between `cars` and `height`, which is a nonsense."
   ]
  },
  {
   "cell_type": "code",
   "execution_count": 144,
   "metadata": {},
   "outputs": [
    {
     "data": {
      "text/html": [
       "<style  type=\"text/css\" >\n",
       "</style><table id=\"T_fad9504a_13e6_11ea_9749_9c4e3672773c\" ><caption>Feature's name: Number of friends</caption><thead>    <tr>        <th class=\"col_heading level0 col0\" >Correlated feature's name</th>        <th class=\"col_heading level0 col1\" >Coefficient for Men</th>        <th class=\"col_heading level0 col2\" >Coefficient for Women</th>    </tr></thead><tbody>\n",
       "                <tr>\n",
       "                                <td id=\"T_fad9504a_13e6_11ea_9749_9c4e3672773crow0_col0\" class=\"data row0 col0\" >Interests or hobbies</td>\n",
       "                        <td id=\"T_fad9504a_13e6_11ea_9749_9c4e3672773crow0_col1\" class=\"data row0 col1\" >0.382</td>\n",
       "                        <td id=\"T_fad9504a_13e6_11ea_9749_9c4e3672773crow0_col2\" class=\"data row0 col2\" >0.372</td>\n",
       "            </tr>\n",
       "            <tr>\n",
       "                                <td id=\"T_fad9504a_13e6_11ea_9749_9c4e3672773crow1_col0\" class=\"data row1 col0\" >Socializing</td>\n",
       "                        <td id=\"T_fad9504a_13e6_11ea_9749_9c4e3672773crow1_col1\" class=\"data row1 col1\" >0.35</td>\n",
       "                        <td id=\"T_fad9504a_13e6_11ea_9749_9c4e3672773crow1_col2\" class=\"data row1 col2\" >0.323</td>\n",
       "            </tr>\n",
       "            <tr>\n",
       "                                <td id=\"T_fad9504a_13e6_11ea_9749_9c4e3672773crow2_col0\" class=\"data row2 col0\" >Happiness in life</td>\n",
       "                        <td id=\"T_fad9504a_13e6_11ea_9749_9c4e3672773crow2_col1\" class=\"data row2 col1\" >0.336</td>\n",
       "                        <td id=\"T_fad9504a_13e6_11ea_9749_9c4e3672773crow2_col2\" class=\"data row2 col2\" >0.299</td>\n",
       "            </tr>\n",
       "            <tr>\n",
       "                                <td id=\"T_fad9504a_13e6_11ea_9749_9c4e3672773crow3_col0\" class=\"data row3 col0\" >Energy levels</td>\n",
       "                        <td id=\"T_fad9504a_13e6_11ea_9749_9c4e3672773crow3_col1\" class=\"data row3 col1\" >0.427</td>\n",
       "                        <td id=\"T_fad9504a_13e6_11ea_9749_9c4e3672773crow3_col2\" class=\"data row3 col2\" >0.367</td>\n",
       "            </tr>\n",
       "            <tr>\n",
       "                                <td id=\"T_fad9504a_13e6_11ea_9749_9c4e3672773crow4_col0\" class=\"data row4 col0\" >Loneliness</td>\n",
       "                        <td id=\"T_fad9504a_13e6_11ea_9749_9c4e3672773crow4_col1\" class=\"data row4 col1\" >-0.345</td>\n",
       "                        <td id=\"T_fad9504a_13e6_11ea_9749_9c4e3672773crow4_col2\" class=\"data row4 col2\" >-0.287</td>\n",
       "            </tr>\n",
       "            <tr>\n",
       "                                <td id=\"T_fad9504a_13e6_11ea_9749_9c4e3672773crow5_col0\" class=\"data row5 col0\" >Fun with friends</td>\n",
       "                        <td id=\"T_fad9504a_13e6_11ea_9749_9c4e3672773crow5_col1\" class=\"data row5 col1\" >0.345</td>\n",
       "                        <td id=\"T_fad9504a_13e6_11ea_9749_9c4e3672773crow5_col2\" class=\"data row5 col2\" >0.369</td>\n",
       "            </tr>\n",
       "            <tr>\n",
       "                                <td id=\"T_fad9504a_13e6_11ea_9749_9c4e3672773crow6_col0\" class=\"data row6 col0\" >Personality</td>\n",
       "                        <td id=\"T_fad9504a_13e6_11ea_9749_9c4e3672773crow6_col1\" class=\"data row6 col1\" >0.273</td>\n",
       "                        <td id=\"T_fad9504a_13e6_11ea_9749_9c4e3672773crow6_col2\" class=\"data row6 col2\" >0.275</td>\n",
       "            </tr>\n",
       "    </tbody></table>"
      ],
      "text/plain": [
       "<pandas.io.formats.style.Styler at 0x7ffb31144a58>"
      ]
     },
     "metadata": {},
     "output_type": "display_data"
    },
    {
     "data": {
      "text/html": [
       "<style  type=\"text/css\" >\n",
       "</style><table id=\"T_fad9504b_13e6_11ea_9749_9c4e3672773c\" ><caption>Feature's name: Energy levels</caption><thead>    <tr>        <th class=\"col_heading level0 col0\" >Correlated feature's name</th>        <th class=\"col_heading level0 col1\" >Coefficient for Men</th>        <th class=\"col_heading level0 col2\" >Coefficient for Women</th>    </tr></thead><tbody>\n",
       "                <tr>\n",
       "                                <td id=\"T_fad9504b_13e6_11ea_9749_9c4e3672773crow0_col0\" class=\"data row0 col0\" >Interests or hobbies</td>\n",
       "                        <td id=\"T_fad9504b_13e6_11ea_9749_9c4e3672773crow0_col1\" class=\"data row0 col1\" >0.493</td>\n",
       "                        <td id=\"T_fad9504b_13e6_11ea_9749_9c4e3672773crow0_col2\" class=\"data row0 col2\" >0.392</td>\n",
       "            </tr>\n",
       "            <tr>\n",
       "                                <td id=\"T_fad9504b_13e6_11ea_9749_9c4e3672773crow1_col0\" class=\"data row1 col0\" >Socializing</td>\n",
       "                        <td id=\"T_fad9504b_13e6_11ea_9749_9c4e3672773crow1_col1\" class=\"data row1 col1\" >0.365</td>\n",
       "                        <td id=\"T_fad9504b_13e6_11ea_9749_9c4e3672773crow1_col2\" class=\"data row1 col2\" >0.303</td>\n",
       "            </tr>\n",
       "            <tr>\n",
       "                                <td id=\"T_fad9504b_13e6_11ea_9749_9c4e3672773crow2_col0\" class=\"data row2 col0\" >Happiness in life</td>\n",
       "                        <td id=\"T_fad9504b_13e6_11ea_9749_9c4e3672773crow2_col1\" class=\"data row2 col1\" >0.448</td>\n",
       "                        <td id=\"T_fad9504b_13e6_11ea_9749_9c4e3672773crow2_col2\" class=\"data row2 col2\" >0.433</td>\n",
       "            </tr>\n",
       "            <tr>\n",
       "                                <td id=\"T_fad9504b_13e6_11ea_9749_9c4e3672773crow3_col0\" class=\"data row3 col0\" >Number of friends</td>\n",
       "                        <td id=\"T_fad9504b_13e6_11ea_9749_9c4e3672773crow3_col1\" class=\"data row3 col1\" >0.427</td>\n",
       "                        <td id=\"T_fad9504b_13e6_11ea_9749_9c4e3672773crow3_col2\" class=\"data row3 col2\" >0.367</td>\n",
       "            </tr>\n",
       "            <tr>\n",
       "                                <td id=\"T_fad9504b_13e6_11ea_9749_9c4e3672773crow4_col0\" class=\"data row4 col0\" >Loneliness</td>\n",
       "                        <td id=\"T_fad9504b_13e6_11ea_9749_9c4e3672773crow4_col1\" class=\"data row4 col1\" >-0.336</td>\n",
       "                        <td id=\"T_fad9504b_13e6_11ea_9749_9c4e3672773crow4_col2\" class=\"data row4 col2\" >-0.355</td>\n",
       "            </tr>\n",
       "            <tr>\n",
       "                                <td id=\"T_fad9504b_13e6_11ea_9749_9c4e3672773crow5_col0\" class=\"data row5 col0\" >New environment</td>\n",
       "                        <td id=\"T_fad9504b_13e6_11ea_9749_9c4e3672773crow5_col1\" class=\"data row5 col1\" >0.325</td>\n",
       "                        <td id=\"T_fad9504b_13e6_11ea_9749_9c4e3672773crow5_col2\" class=\"data row5 col2\" >0.364</td>\n",
       "            </tr>\n",
       "            <tr>\n",
       "                                <td id=\"T_fad9504b_13e6_11ea_9749_9c4e3672773crow6_col0\" class=\"data row6 col0\" >Active sport</td>\n",
       "                        <td id=\"T_fad9504b_13e6_11ea_9749_9c4e3672773crow6_col1\" class=\"data row6 col1\" >0.319</td>\n",
       "                        <td id=\"T_fad9504b_13e6_11ea_9749_9c4e3672773crow6_col2\" class=\"data row6 col2\" >0.322</td>\n",
       "            </tr>\n",
       "            <tr>\n",
       "                                <td id=\"T_fad9504b_13e6_11ea_9749_9c4e3672773crow7_col0\" class=\"data row7 col0\" >Fear of public speaking</td>\n",
       "                        <td id=\"T_fad9504b_13e6_11ea_9749_9c4e3672773crow7_col1\" class=\"data row7 col1\" >-0.281</td>\n",
       "                        <td id=\"T_fad9504b_13e6_11ea_9749_9c4e3672773crow7_col2\" class=\"data row7 col2\" >-0.256</td>\n",
       "            </tr>\n",
       "            <tr>\n",
       "                                <td id=\"T_fad9504b_13e6_11ea_9749_9c4e3672773crow8_col0\" class=\"data row8 col0\" >Personality</td>\n",
       "                        <td id=\"T_fad9504b_13e6_11ea_9749_9c4e3672773crow8_col1\" class=\"data row8 col1\" >0.33</td>\n",
       "                        <td id=\"T_fad9504b_13e6_11ea_9749_9c4e3672773crow8_col2\" class=\"data row8 col2\" >0.325</td>\n",
       "            </tr>\n",
       "    </tbody></table>"
      ],
      "text/plain": [
       "<pandas.io.formats.style.Styler at 0x7ffb31145b38>"
      ]
     },
     "metadata": {},
     "output_type": "display_data"
    },
    {
     "data": {
      "text/html": [
       "<style  type=\"text/css\" >\n",
       "</style><table id=\"T_fc5d7b8a_13e6_11ea_9749_9c4e3672773c\" ><caption>Feature's name: Spending on looks</caption><thead>    <tr>        <th class=\"col_heading level0 col0\" >Correlated feature's name</th>        <th class=\"col_heading level0 col1\" >Coefficient for Men</th>        <th class=\"col_heading level0 col2\" >Coefficient for Women</th>    </tr></thead><tbody>\n",
       "                <tr>\n",
       "                                <td id=\"T_fc5d7b8a_13e6_11ea_9749_9c4e3672773crow0_col0\" class=\"data row0 col0\" >Knowing the right people</td>\n",
       "                        <td id=\"T_fc5d7b8a_13e6_11ea_9749_9c4e3672773crow0_col1\" class=\"data row0 col1\" >0.327</td>\n",
       "                        <td id=\"T_fc5d7b8a_13e6_11ea_9749_9c4e3672773crow0_col2\" class=\"data row0 col2\" >0.287</td>\n",
       "            </tr>\n",
       "            <tr>\n",
       "                                <td id=\"T_fc5d7b8a_13e6_11ea_9749_9c4e3672773crow1_col0\" class=\"data row1 col0\" >Celebrities</td>\n",
       "                        <td id=\"T_fc5d7b8a_13e6_11ea_9749_9c4e3672773crow1_col1\" class=\"data row1 col1\" >0.267</td>\n",
       "                        <td id=\"T_fc5d7b8a_13e6_11ea_9749_9c4e3672773crow1_col2\" class=\"data row1 col2\" >0.278</td>\n",
       "            </tr>\n",
       "            <tr>\n",
       "                                <td id=\"T_fc5d7b8a_13e6_11ea_9749_9c4e3672773crow2_col0\" class=\"data row2 col0\" >Shopping</td>\n",
       "                        <td id=\"T_fc5d7b8a_13e6_11ea_9749_9c4e3672773crow2_col1\" class=\"data row2 col1\" >0.455</td>\n",
       "                        <td id=\"T_fc5d7b8a_13e6_11ea_9749_9c4e3672773crow2_col2\" class=\"data row2 col2\" >0.544</td>\n",
       "            </tr>\n",
       "            <tr>\n",
       "                                <td id=\"T_fc5d7b8a_13e6_11ea_9749_9c4e3672773crow3_col0\" class=\"data row3 col0\" >Shopping centres</td>\n",
       "                        <td id=\"T_fc5d7b8a_13e6_11ea_9749_9c4e3672773crow3_col1\" class=\"data row3 col1\" >0.478</td>\n",
       "                        <td id=\"T_fc5d7b8a_13e6_11ea_9749_9c4e3672773crow3_col2\" class=\"data row3 col2\" >0.483</td>\n",
       "            </tr>\n",
       "            <tr>\n",
       "                                <td id=\"T_fc5d7b8a_13e6_11ea_9749_9c4e3672773crow4_col0\" class=\"data row4 col0\" >Appearence and gestures</td>\n",
       "                        <td id=\"T_fc5d7b8a_13e6_11ea_9749_9c4e3672773crow4_col1\" class=\"data row4 col1\" >0.352</td>\n",
       "                        <td id=\"T_fc5d7b8a_13e6_11ea_9749_9c4e3672773crow4_col2\" class=\"data row4 col2\" >0.406</td>\n",
       "            </tr>\n",
       "            <tr>\n",
       "                                <td id=\"T_fc5d7b8a_13e6_11ea_9749_9c4e3672773crow5_col0\" class=\"data row5 col0\" >Entertainment spending</td>\n",
       "                        <td id=\"T_fc5d7b8a_13e6_11ea_9749_9c4e3672773crow5_col1\" class=\"data row5 col1\" >0.385</td>\n",
       "                        <td id=\"T_fc5d7b8a_13e6_11ea_9749_9c4e3672773crow5_col2\" class=\"data row5 col2\" >0.47</td>\n",
       "            </tr>\n",
       "            <tr>\n",
       "                                <td id=\"T_fc5d7b8a_13e6_11ea_9749_9c4e3672773crow6_col0\" class=\"data row6 col0\" >Spending on gadgets</td>\n",
       "                        <td id=\"T_fc5d7b8a_13e6_11ea_9749_9c4e3672773crow6_col1\" class=\"data row6 col1\" >0.354</td>\n",
       "                        <td id=\"T_fc5d7b8a_13e6_11ea_9749_9c4e3672773crow6_col2\" class=\"data row6 col2\" >0.41</td>\n",
       "            </tr>\n",
       "            <tr>\n",
       "                                <td id=\"T_fc5d7b8a_13e6_11ea_9749_9c4e3672773crow7_col0\" class=\"data row7 col0\" >Branded clothing</td>\n",
       "                        <td id=\"T_fc5d7b8a_13e6_11ea_9749_9c4e3672773crow7_col1\" class=\"data row7 col1\" >0.482</td>\n",
       "                        <td id=\"T_fc5d7b8a_13e6_11ea_9749_9c4e3672773crow7_col2\" class=\"data row7 col2\" >0.422</td>\n",
       "            </tr>\n",
       "    </tbody></table>"
      ],
      "text/plain": [
       "<pandas.io.formats.style.Styler at 0x7ffb3112cc88>"
      ]
     },
     "metadata": {},
     "output_type": "display_data"
    }
   ],
   "source": [
    "# Index _1 stands for men, index_2 stands for women\n",
    "\n",
    "for FEATURE in personality.columns:\n",
    "\n",
    "    cols = responses_int_filtered.columns.to_list()\n",
    "\n",
    "    correlations_1 = [responses_male[FEATURE].corr(responses_male[f]) for f in cols ]\n",
    "    correlations_2 = [responses_female[FEATURE].corr(responses_female[f]) for f in cols ]\n",
    "\n",
    "\n",
    "    df_1 = pd.DataFrame(correlations_1, columns = ['Correlations'])\n",
    "    df_1 = df_1[ abs(df_1['Correlations']) > 0.25]\n",
    "    df_2 = pd.DataFrame(correlations_2, columns = ['Correlations'])\n",
    "    df_2 = df_2[ abs(df_2['Correlations']) > 0.25]\n",
    "\n",
    "\n",
    "    corr_features_1 = [cols[f] for f in df_1.index]\n",
    "    corr_features_2 = [cols[f] for f in df_2.index]\n",
    "\n",
    "\n",
    "    corr_1 = responses_male[corr_features_1].corr().loc[:,FEATURE].drop([FEATURE])\n",
    "    corr_2 = responses_female[corr_features_2].corr().loc[:,FEATURE].drop([FEATURE])\n",
    "\n",
    "    # Find set of features  lead to correlations in both genders\n",
    "    set_ = set(corr_1.index) & set(corr_2.index)\n",
    "    \n",
    "    \n",
    "    # If at least 5 distinct correlation are found\n",
    "    if len(corr_1) > 0 and len(set_) > 5:\n",
    "        \n",
    "        corr_ = {'Correlated feature\\'s name':list(set_)\n",
    "                 , 'Coefficient for Men':round(corr_1,3).loc[set_].tolist()\n",
    "                 , 'Coefficient for Women':round(corr_2,3).loc[set_].tolist()}\n",
    "        \n",
    "        corr_ = pd.DataFrame(corr_)\n",
    "        corr_ = corr_.style.set_caption(\"Feature\\'s name: {}\".format(FEATURE)).hide_index()\n",
    "        display(corr_)"
   ]
  },
  {
   "cell_type": "markdown",
   "metadata": {},
   "source": [
    "## 3. Clustering"
   ]
  },
  {
   "cell_type": "markdown",
   "metadata": {},
   "source": [
    "### 3.1. Perform Hierarchical clustering for a chosen `FEATURE`"
   ]
  },
  {
   "cell_type": "code",
   "execution_count": 145,
   "metadata": {},
   "outputs": [
    {
     "data": {
      "image/png": "[encoded data removed]",
      "text/plain": [
       "<Figure size 360x720 with 1 Axes>"
      ]
     },
     "metadata": {},
     "output_type": "display_data"
    }
   ],
   "source": [
    "FEATURE = music  # [music, hobbies, phobias, personality]\n",
    "\n",
    "df_select = FEATURE.copy(deep=True).dropna()\n",
    "x = df_select.to_numpy().T\n",
    "#\n",
    "# Adjust figure size to accommodate the full tree\n",
    "#\n",
    "rcParams['figure.figsize'] = 5, 10\n",
    "#\n",
    "# Do hierarchical clustering using Ward's method\n",
    "#\n",
    "z = sch.linkage(x, method='ward')\n",
    "#\n",
    "# Display dendrogram\n",
    "#\n",
    "names = df_select.columns.tolist()\n",
    "info = sch.dendrogram(z, orientation='left', labels=names, leaf_font_size=11)"
   ]
  },
  {
   "cell_type": "markdown",
   "metadata": {},
   "source": [
    "**Comment 1: there seem to be 3 kinds of correlated fobias:**\n",
    "- animals (Rats, Snakes, Dangerous dogs, Spiders)\n",
    "- nature (Darkness, Storm, Flying)\n",
    "- social (Fear of public speaking, Heights, Ageing)"
   ]
  },
  {
   "cell_type": "markdown",
   "metadata": {},
   "source": [
    "**Comment 2: music clusters in 5 similar types:**\n",
    "- **old music**: rock n roll, jazz, alternative\n",
    "- **metal-like music**: rock**, punk, metal\n",
    "- **instrumental music**\": opera, classical, country, folk\n",
    "- **popular music**: latino, musical, pop, dance\n",
    "- **rap-like music**: reggae, hiphip, techno\n",
    "\n",
    "** although rock was assigned to 'yellow label', it's not too far from 'magenta label', which seems more logical"
   ]
  },
  {
   "cell_type": "markdown",
   "metadata": {},
   "source": [
    "### 3.2. Perform K-means clustering for people, basing on their phobias"
   ]
  },
  {
   "cell_type": "code",
   "execution_count": 147,
   "metadata": {},
   "outputs": [],
   "source": [
    "# Generate a new dataframe by selecting the features you just defined\n",
    "\n",
    "df_select = phobias.copy(deep=True).dropna()\n",
    "\n",
    "# Perform scaling on the dataframe containing the features\n",
    "\n",
    "data = scale(df_select)\n",
    "\n",
    "\n",
    "sse = {}\n",
    "for k in range(1,11):\n",
    "    model = KMeans(init='k-means++', n_clusters=k, n_init=20).fit(data)\n",
    "    sse[k] = model.inertia_"
   ]
  },
  {
   "cell_type": "markdown",
   "metadata": {},
   "source": [
    "### 3.2.1) Elbow method"
   ]
  },
  {
   "cell_type": "code",
   "execution_count": 148,
   "metadata": {},
   "outputs": [
    {
     "data": {
      "image/png": "[encoded data removed]",
      "text/plain": [
       "<Figure size 432x288 with 1 Axes>"
      ]
     },
     "metadata": {},
     "output_type": "display_data"
    }
   ],
   "source": [
    "rcParams['figure.figsize'] = 6,4\n",
    "\n",
    "plt.plot(list(sse.keys()), list(sse.values()), 'o', linestyle = '-')\n",
    "plt.scatter( [4],[sse[4]], s = 1000, c = 'none', edgecolor = 'red')\n",
    "plt.xlabel('Number of clusters')\n",
    "plt.ylabel('Total sum of squares of distances')\n",
    "\n",
    "# Define number of clusters\n",
    "\n",
    "noOfClusters = 4\n",
    "\n",
    "model = KMeans(init='k-means++', n_clusters=noOfClusters, n_init=20).fit(data)"
   ]
  },
  {
   "cell_type": "code",
   "execution_count": 149,
   "metadata": {},
   "outputs": [
    {
     "name": "stdout",
     "output_type": "stream",
     "text": [
      "__________________________________________________________________________________________\n",
      "\n",
      "Count of people in each cluster\n",
      "__________________________________________________________________________________________\n"
     ]
    },
    {
     "data": {
      "text/plain": [
       "0    255\n",
       "1    200\n",
       "2    287\n",
       "3    248\n",
       "dtype: int64"
      ]
     },
     "execution_count": 149,
     "metadata": {},
     "output_type": "execute_result"
    }
   ],
   "source": [
    "print(90*'_')\n",
    "print(\"\\nCount of people in each cluster\")\n",
    "print(90*'_')\n",
    "\n",
    "pd.value_counts(model.labels_, sort=False)"
   ]
  },
  {
   "cell_type": "markdown",
   "metadata": {},
   "source": [
    "## 3.2.2) Plot centers of individual clusters"
   ]
  },
  {
   "cell_type": "code",
   "execution_count": 150,
   "metadata": {},
   "outputs": [
    {
     "data": {
      "text/html": [
       "<div>\n",
       "<style scoped>\n",
       "    .dataframe tbody tr th:only-of-type {\n",
       "        vertical-align: middle;\n",
       "    }\n",
       "\n",
       "    .dataframe tbody tr th {\n",
       "        vertical-align: top;\n",
       "    }\n",
       "\n",
       "    .dataframe thead th {\n",
       "        text-align: right;\n",
       "    }\n",
       "</style>\n",
       "<table border=\"1\" class=\"dataframe\">\n",
       "  <thead>\n",
       "    <tr style=\"text-align: right;\">\n",
       "      <th></th>\n",
       "      <th>Flying</th>\n",
       "      <th>Storm</th>\n",
       "      <th>Darkness</th>\n",
       "      <th>Heights</th>\n",
       "      <th>Spiders</th>\n",
       "      <th>Snakes</th>\n",
       "      <th>Rats</th>\n",
       "      <th>Ageing</th>\n",
       "      <th>Dangerous dogs</th>\n",
       "      <th>Fear of public speaking</th>\n",
       "      <th>prediction</th>\n",
       "    </tr>\n",
       "  </thead>\n",
       "  <tbody>\n",
       "    <tr>\n",
       "      <th>0</th>\n",
       "      <td>0.164553</td>\n",
       "      <td>-0.249647</td>\n",
       "      <td>0.110855</td>\n",
       "      <td>0.391251</td>\n",
       "      <td>-0.116735</td>\n",
       "      <td>-0.443772</td>\n",
       "      <td>-0.509705</td>\n",
       "      <td>0.086258</td>\n",
       "      <td>-0.273816</td>\n",
       "      <td>0.431584</td>\n",
       "      <td>0</td>\n",
       "    </tr>\n",
       "    <tr>\n",
       "      <th>1</th>\n",
       "      <td>0.784353</td>\n",
       "      <td>1.344124</td>\n",
       "      <td>1.105324</td>\n",
       "      <td>0.774487</td>\n",
       "      <td>0.604179</td>\n",
       "      <td>0.803205</td>\n",
       "      <td>0.860000</td>\n",
       "      <td>0.462651</td>\n",
       "      <td>0.706704</td>\n",
       "      <td>0.403151</td>\n",
       "      <td>1</td>\n",
       "    </tr>\n",
       "    <tr>\n",
       "      <th>2</th>\n",
       "      <td>-0.513707</td>\n",
       "      <td>-0.531462</td>\n",
       "      <td>-0.691085</td>\n",
       "      <td>-0.662524</td>\n",
       "      <td>-0.700630</td>\n",
       "      <td>-0.763594</td>\n",
       "      <td>-0.736915</td>\n",
       "      <td>-0.614222</td>\n",
       "      <td>-0.655028</td>\n",
       "      <td>-0.589111</td>\n",
       "      <td>2</td>\n",
       "    </tr>\n",
       "    <tr>\n",
       "      <th>3</th>\n",
       "      <td>-0.207250</td>\n",
       "      <td>-0.212238</td>\n",
       "      <td>-0.205611</td>\n",
       "      <td>-0.260170</td>\n",
       "      <td>0.443598</td>\n",
       "      <td>0.692227</td>\n",
       "      <td>0.683345</td>\n",
       "      <td>0.249016</td>\n",
       "      <td>0.469659</td>\n",
       "      <td>-0.087134</td>\n",
       "      <td>3</td>\n",
       "    </tr>\n",
       "  </tbody>\n",
       "</table>\n",
       "</div>"
      ],
      "text/plain": [
       "     Flying     Storm  Darkness   Heights   Spiders    Snakes      Rats  \\\n",
       "0  0.164553 -0.249647  0.110855  0.391251 -0.116735 -0.443772 -0.509705   \n",
       "1  0.784353  1.344124  1.105324  0.774487  0.604179  0.803205  0.860000   \n",
       "2 -0.513707 -0.531462 -0.691085 -0.662524 -0.700630 -0.763594 -0.736915   \n",
       "3 -0.207250 -0.212238 -0.205611 -0.260170  0.443598  0.692227  0.683345   \n",
       "\n",
       "     Ageing  Dangerous dogs  Fear of public speaking  prediction  \n",
       "0  0.086258       -0.273816                 0.431584           0  \n",
       "1  0.462651        0.706704                 0.403151           1  \n",
       "2 -0.614222       -0.655028                -0.589111           2  \n",
       "3  0.249016        0.469659                -0.087134           3  "
      ]
     },
     "execution_count": 150,
     "metadata": {},
     "output_type": "execute_result"
    }
   ],
   "source": [
    "P = pd_centers(featuresUsed=phobias.columns.to_list(), centers=model.cluster_centers_)\n",
    "P"
   ]
  },
  {
   "cell_type": "code",
   "execution_count": 151,
   "metadata": {},
   "outputs": [
    {
     "data": {
      "image/png": "[encoded data removed]",
      "text/plain": [
       "<Figure size 1080x576 with 1 Axes>"
      ]
     },
     "metadata": {},
     "output_type": "display_data"
    }
   ],
   "source": [
    "parallel_plot(P)"
   ]
  },
  {
   "cell_type": "markdown",
   "metadata": {},
   "source": [
    "**Interpretation (valid for 4 clusters): people seem to divide in 4 different types:**\n",
    "\n",
    " *(note that the order of colors can change, look from bottom line to top line on label 'Flying')*\n",
    " \n",
    "- <font color='blue'>blue</font>: people scared of nothing.\n",
    "- <font color='green'>green</font>: people scared of various animals.\n",
    "- <font color='red'>red</font>: people scared of everything except of animals.\n",
    "- <font color='orange'>yellow</font>: people scared of everything."
   ]
  },
  {
   "cell_type": "markdown",
   "metadata": {},
   "source": [
    "### 3.2.3. Find outliners"
   ]
  },
  {
   "cell_type": "code",
   "execution_count": 154,
   "metadata": {},
   "outputs": [
    {
     "name": "stdout",
     "output_type": "stream",
     "text": [
      "Number of survey responser and its distance from nearest cluster:\n",
      "\n",
      "458 \t 4.642223193205231\n",
      "516 \t 4.698803184912142\n",
      "614 \t 4.7214271864071335\n",
      "989 \t 4.4390936826202685\n",
      "\n",
      "All non-numeric informations about surveyors detected as outliers:\n"
     ]
    },
    {
     "data": {
      "text/html": [
       "<div>\n",
       "<style scoped>\n",
       "    .dataframe tbody tr th:only-of-type {\n",
       "        vertical-align: middle;\n",
       "    }\n",
       "\n",
       "    .dataframe tbody tr th {\n",
       "        vertical-align: top;\n",
       "    }\n",
       "\n",
       "    .dataframe thead th {\n",
       "        text-align: right;\n",
       "    }\n",
       "</style>\n",
       "<table border=\"1\" class=\"dataframe\">\n",
       "  <thead>\n",
       "    <tr style=\"text-align: right;\">\n",
       "      <th></th>\n",
       "      <th>House - block of flats</th>\n",
       "      <th>Internet usage</th>\n",
       "      <th>Punctuality</th>\n",
       "      <th>Gender</th>\n",
       "      <th>Only child</th>\n",
       "      <th>Left - right handed</th>\n",
       "      <th>Smoking</th>\n",
       "      <th>Lying</th>\n",
       "      <th>Alcohol</th>\n",
       "      <th>Education</th>\n",
       "      <th>Village - town</th>\n",
       "    </tr>\n",
       "  </thead>\n",
       "  <tbody>\n",
       "    <tr>\n",
       "      <th>458</th>\n",
       "      <td>house/bungalow</td>\n",
       "      <td>few hours a day</td>\n",
       "      <td>i am often running late</td>\n",
       "      <td>female</td>\n",
       "      <td>no</td>\n",
       "      <td>right handed</td>\n",
       "      <td>tried smoking</td>\n",
       "      <td>only to avoid hurting someone</td>\n",
       "      <td>social drinker</td>\n",
       "      <td>secondary school</td>\n",
       "      <td>village</td>\n",
       "    </tr>\n",
       "    <tr>\n",
       "      <th>516</th>\n",
       "      <td>block of flats</td>\n",
       "      <td>few hours a day</td>\n",
       "      <td>i am always on time</td>\n",
       "      <td>male</td>\n",
       "      <td>no</td>\n",
       "      <td>right handed</td>\n",
       "      <td>tried smoking</td>\n",
       "      <td>sometimes</td>\n",
       "      <td>never</td>\n",
       "      <td>secondary school</td>\n",
       "      <td>city</td>\n",
       "    </tr>\n",
       "    <tr>\n",
       "      <th>614</th>\n",
       "      <td>house/bungalow</td>\n",
       "      <td>few hours a day</td>\n",
       "      <td>i am often early</td>\n",
       "      <td>female</td>\n",
       "      <td>no</td>\n",
       "      <td>right handed</td>\n",
       "      <td>current smoker</td>\n",
       "      <td>sometimes</td>\n",
       "      <td>social drinker</td>\n",
       "      <td>secondary school</td>\n",
       "      <td>village</td>\n",
       "    </tr>\n",
       "    <tr>\n",
       "      <th>989</th>\n",
       "      <td>house/bungalow</td>\n",
       "      <td>most of the day</td>\n",
       "      <td>i am often early</td>\n",
       "      <td>female</td>\n",
       "      <td>no</td>\n",
       "      <td>right handed</td>\n",
       "      <td>former smoker</td>\n",
       "      <td>sometimes</td>\n",
       "      <td>drink a lot</td>\n",
       "      <td>masters degree</td>\n",
       "      <td>village</td>\n",
       "    </tr>\n",
       "  </tbody>\n",
       "</table>\n",
       "</div>"
      ],
      "text/plain": [
       "    House - block of flats   Internet usage              Punctuality  Gender  \\\n",
       "458         house/bungalow  few hours a day  i am often running late  female   \n",
       "516         block of flats  few hours a day      i am always on time    male   \n",
       "614         house/bungalow  few hours a day         i am often early  female   \n",
       "989         house/bungalow  most of the day         i am often early  female   \n",
       "\n",
       "    Only child Left - right handed         Smoking  \\\n",
       "458         no        right handed   tried smoking   \n",
       "516         no        right handed   tried smoking   \n",
       "614         no        right handed  current smoker   \n",
       "989         no        right handed   former smoker   \n",
       "\n",
       "                             Lying         Alcohol         Education  \\\n",
       "458  only to avoid hurting someone  social drinker  secondary school   \n",
       "516                      sometimes           never  secondary school   \n",
       "614                      sometimes  social drinker  secondary school   \n",
       "989                      sometimes     drink a lot    masters degree   \n",
       "\n",
       "    Village - town  \n",
       "458        village  \n",
       "516           city  \n",
       "614        village  \n",
       "989        village  "
      ]
     },
     "execution_count": 154,
     "metadata": {},
     "output_type": "execute_result"
    },
    {
     "data": {
      "image/png": "[encoded data removed]",
      "text/plain": [
       "<Figure size 432x288 with 1 Axes>"
      ]
     },
     "metadata": {},
     "output_type": "display_data"
    }
   ],
   "source": [
    "centers = model.cluster_centers_\n",
    "\n",
    "# Maximum allowed distance from nearest cluster to not be considered as an outliner\n",
    "    \n",
    "RANGE = 4.3\n",
    "\n",
    "# Plot distance from nearest cluster for all points for which cluster analysis was conducted\n",
    "#\n",
    "x = df_select.index.tolist()\n",
    "y = [min([np.linalg.norm(a-b) for a in centers]) for b in data[:] ]\n",
    "plt.scatter(x,y)\n",
    "plt.plot([0,1000], [RANGE,RANGE], 'red') # above this line are outliners\n",
    "plt.xlabel(\"Number of survey responser\")\n",
    "plt.ylabel(\"Distance from nearest cluster\")\n",
    "\n",
    "\n",
    "# Find which points are far away from any cluster. print their indexies and measured distances\n",
    "#\n",
    "print( \"Number of survey responser and its distance from nearest cluster:\\n\")\n",
    "for i in range( 0, len(y)):\n",
    "    if y[i] > RANGE:\n",
    "        print (x[i],'\\t',y[i])\n",
    "\n",
    "\n",
    "# Select indexies of these points\n",
    "#\n",
    "outliners = [ i > RANGE for i in y]\n",
    "outliners = df_select[ outliners]\n",
    "\n",
    "\n",
    "# Find all informations about people who seem to be outliners\n",
    "#\n",
    "filter_ = np.full( responses.shape[0], False)\n",
    "for i in range( 0, outliners.shape[0]):\n",
    "    filter_[ outliners.index[i]] = True\n",
    "    \n",
    "    \n",
    "print( \"\\nAll non-numeric informations about surveyors detected as outliers:\")\n",
    "df_ = responses[ filter_]\n",
    "   \n",
    "# Select columns including only strings\n",
    "\n",
    "df_cols = set(df_.columns) - set(df_.select_dtypes(include=['int','float']).columns)\n",
    "df_[df_cols]"
   ]
  },
  {
   "cell_type": "markdown",
   "metadata": {},
   "source": [
    "**Comment:** Seems like almost all of the outliners are woman."
   ]
  },
  {
   "cell_type": "markdown",
   "metadata": {},
   "source": [
    "## 4. Histogram analysis of `non-numerical` features\n",
    "This corresponds to features like `gender` or `left/right handling`.\n",
    "### 4.1. Perform BMI (body mass index) distribution analysis within genders"
   ]
  },
  {
   "cell_type": "code",
   "execution_count": 157,
   "metadata": {},
   "outputs": [],
   "source": [
    "bmi = responses['Weight'] / (responses['Height'] / 100)**2\n",
    "\n",
    "responses_ = responses.copy()\n",
    "responses_.insert(0, \"Braveness\", braveness.to_list(), True)\n",
    "responses_.insert(0, \"BMI\", bmi.to_list(), True)\n",
    "\n",
    "\n",
    "left_ = responses_[responses_['Left - right handed'] == 'left handed']\n",
    "right_ = responses_[responses_['Left - right handed'] == 'right handed']\n",
    "\n",
    "male_ = responses_[responses_['Gender'] == 'male']\n",
    "female_ = responses_[responses_['Gender'] == 'female']"
   ]
  },
  {
   "cell_type": "code",
   "execution_count": 156,
   "metadata": {},
   "outputs": [
    {
     "data": {
      "text/plain": [
       "Text(0, 0.5, 'Density')"
      ]
     },
     "execution_count": 156,
     "metadata": {},
     "output_type": "execute_result"
    },
    {
     "data": {
      "image/png": "[encoded data removed]",
      "text/plain": [
       "<Figure size 432x288 with 1 Axes>"
      ]
     },
     "metadata": {},
     "output_type": "display_data"
    }
   ],
   "source": [
    "male_['BMI'].plot.hist(bins=100, alpha=0.5, color = 'blue', density = True)\n",
    "female_['BMI'].plot.hist(bins=100, alpha=0.5, color = 'red', density = True)\n",
    "\n",
    "rcParams['figure.figsize'] = 6,4\n",
    "plt.xlabel('BMI')\n",
    "plt.ylabel('Density')"
   ]
  },
  {
   "cell_type": "markdown",
   "metadata": {},
   "source": [
    "**Interpretation:** both genders have gaussian-like distribution of BMI values, however their mean values differ:\n",
    "- women's average BMI is around 20\n",
    "- men's average BMI is around 24"
   ]
  },
  {
   "cell_type": "markdown",
   "metadata": {},
   "source": [
    "### 4.2. Compare woman's and man's faith (religious aspect)"
   ]
  },
  {
   "cell_type": "code",
   "execution_count": 158,
   "metadata": {},
   "outputs": [
    {
     "name": "stdout",
     "output_type": "stream",
     "text": [
      "Men's fraction distribution:\n"
     ]
    },
    {
     "data": {
      "text/plain": [
       "5.0    0.255474\n",
       "1.0    0.236010\n",
       "3.0    0.214112\n",
       "4.0    0.160584\n",
       "2.0    0.133820\n",
       "Name: God, dtype: float64"
      ]
     },
     "execution_count": 158,
     "metadata": {},
     "output_type": "execute_result"
    },
    {
     "data": {
      "image/png": "[encoded data removed]",
      "text/plain": [
       "<Figure size 432x288 with 1 Axes>"
      ]
     },
     "metadata": {},
     "output_type": "display_data"
    }
   ],
   "source": [
    "n = sum(male_['God'] == male_['God'])  # Disclude nan values in this feature's column\n",
    "\n",
    "male_['God'].plot.hist(bins=11, alpha=0.5, color = 'blue', weights = [1./n for i in range(0,n)])\n",
    "plt.xlabel('Faith tendency')\n",
    "plt.ylabel('Fraction distribution')\n",
    "\n",
    "print(\"Men's fraction distribution:\")\n",
    "male_['God'].value_counts(normalize=True)"
   ]
  },
  {
   "cell_type": "code",
   "execution_count": 23,
   "metadata": {},
   "outputs": [
    {
     "name": "stdout",
     "output_type": "stream",
     "text": [
      "Women's fraction distribution:\n"
     ]
    },
    {
     "data": {
      "text/plain": [
       "5.0    0.358714\n",
       "3.0    0.211506\n",
       "4.0    0.165821\n",
       "1.0    0.152284\n",
       "2.0    0.111675\n",
       "Name: God, dtype: float64"
      ]
     },
     "execution_count": 23,
     "metadata": {},
     "output_type": "execute_result"
    },
    {
     "data": {
      "image/png": "[encoded data removed]",
      "text/plain": [
       "<Figure size 432x288 with 1 Axes>"
      ]
     },
     "metadata": {},
     "output_type": "display_data"
    }
   ],
   "source": [
    "n = sum(female_['God'] == female_['God'])  # Disclude nan values in this column\n",
    "\n",
    "female_['God'].plot.hist(bins=11, alpha=0.5, color = 'red', weights = [1./n for i in range(0,n)])\n",
    "plt.xlabel('Faith tendency')\n",
    "plt.ylabel('Fraction distribution')\n",
    "\n",
    "print(\"Women's fraction distribution:\")\n",
    "female_['God'].value_counts(normalize=True)"
   ]
  },
  {
   "cell_type": "markdown",
   "metadata": {},
   "source": [
    "**Interpretation:** woman are more likely to be religious.\n",
    "- 36% of woman and 25% of men are strongly religious (5.0 points in survey).\n",
    "- 15% of woman and 24% of men are atheist-like (1.0 point in survey)."
   ]
  },
  {
   "cell_type": "markdown",
   "metadata": {},
   "source": [
    "## 5. Principal Component analysis (PCA)"
   ]
  },
  {
   "cell_type": "markdown",
   "metadata": {},
   "source": [
    "### 5.1. Calculate covarriance matrix and its eigenvectors aswell as eigenvalues"
   ]
  },
  {
   "cell_type": "code",
   "execution_count": 160,
   "metadata": {},
   "outputs": [],
   "source": [
    "# Select what slice of responders table you want to analyse\n",
    "# Choose TYPE from [music, hobbies, movies, phobias, personality]\n",
    "\n",
    "TYPE = movies\n",
    "N = 4\n",
    "\n",
    "df = TYPE.dropna()\n",
    "df_np = np.array(df)\n",
    "\n",
    "# Calculate covarriance matrix for all features (columns) in TYPE\n",
    "\n",
    "Sigma = np.cov(df_np, rowvar=0, bias=1)\n",
    "\n",
    "# Calculate eigenvectors of covarriance matrix\n",
    "\n",
    "eigenvalues, eigenvectors = np.linalg.eigh(Sigma)"
   ]
  },
  {
   "cell_type": "markdown",
   "metadata": {},
   "source": [
    "### 5.2. Print fraction of total variance considered when taking into account only `N` biggest eigenvectors in terms of eigenvalues"
   ]
  },
  {
   "cell_type": "code",
   "execution_count": 158,
   "metadata": {},
   "outputs": [
    {
     "name": "stdout",
     "output_type": "stream",
     "text": [
      "0.6444598855259794\n"
     ]
    }
   ],
   "source": [
    "print(sum(eigenvalues[-N:]) / sum(eigenvalues))"
   ]
  },
  {
   "cell_type": "code",
   "execution_count": 162,
   "metadata": {},
   "outputs": [],
   "source": [
    "# Select N eigenvectors coresponding to N highest eigenvalues\n",
    "\n",
    "U = eigenvectors[:,-N:]\n",
    "\n",
    "# Reverse the order so the first column corresponds to highest eigeinvalue\n",
    "\n",
    "U = U[:,::-1]\n",
    "\n",
    "\n",
    "# Products of selected eigenvectors for each survey responder\n",
    "\n",
    "rows = [(U.T).dot(row) for row in df_np]\n",
    "\n",
    "# Columns' names\n",
    "\n",
    "cols = [chr(i) for i in range(97,97+N)]\n",
    "\n",
    "# Create a DataFrame containing `rows`, indexed like initial table after dropping NaNs\n",
    "\n",
    "Big_Five = pd.DataFrame(rows, columns = cols, index = df.index.tolist())\n",
    "\n",
    "# Add N new features as new columns to initial slice of responders table\n",
    "\n",
    "Big_Five = pd.concat([df,Big_Five], axis=1) "
   ]
  },
  {
   "cell_type": "markdown",
   "metadata": {},
   "source": [
    "### 5.3. Correlate `N` new variables with rest of the features"
   ]
  },
  {
   "cell_type": "code",
   "execution_count": 163,
   "metadata": {},
   "outputs": [
    {
     "data": {
      "text/html": [
       "<style  type=\"text/css\" >\n",
       "    #T_1a823e52_13ec_11ea_9749_9c4e3672773crow0_col0 {\n",
       "            background-color:  #5572df;\n",
       "            color:  #000000;\n",
       "        }    #T_1a823e52_13ec_11ea_9749_9c4e3672773crow0_col1 {\n",
       "            background-color:  #f29274;\n",
       "            color:  #000000;\n",
       "        }    #T_1a823e52_13ec_11ea_9749_9c4e3672773crow0_col2 {\n",
       "            background-color:  #f29274;\n",
       "            color:  #000000;\n",
       "        }    #T_1a823e52_13ec_11ea_9749_9c4e3672773crow0_col3 {\n",
       "            background-color:  #688aef;\n",
       "            color:  #000000;\n",
       "        }    #T_1a823e52_13ec_11ea_9749_9c4e3672773crow1_col0 {\n",
       "            background-color:  #4358cb;\n",
       "            color:  #f1f1f1;\n",
       "        }    #T_1a823e52_13ec_11ea_9749_9c4e3672773crow1_col1 {\n",
       "            background-color:  #f59d7e;\n",
       "            color:  #000000;\n",
       "        }    #T_1a823e52_13ec_11ea_9749_9c4e3672773crow1_col2 {\n",
       "            background-color:  #f0cdbb;\n",
       "            color:  #000000;\n",
       "        }    #T_1a823e52_13ec_11ea_9749_9c4e3672773crow1_col3 {\n",
       "            background-color:  #88abfd;\n",
       "            color:  #000000;\n",
       "        }    #T_1a823e52_13ec_11ea_9749_9c4e3672773crow2_col0 {\n",
       "            background-color:  #dbdcde;\n",
       "            color:  #000000;\n",
       "        }    #T_1a823e52_13ec_11ea_9749_9c4e3672773crow2_col1 {\n",
       "            background-color:  #d4dbe6;\n",
       "            color:  #000000;\n",
       "        }    #T_1a823e52_13ec_11ea_9749_9c4e3672773crow2_col2 {\n",
       "            background-color:  #c1d4f4;\n",
       "            color:  #000000;\n",
       "        }    #T_1a823e52_13ec_11ea_9749_9c4e3672773crow2_col3 {\n",
       "            background-color:  #d2dbe8;\n",
       "            color:  #000000;\n",
       "        }    #T_1a823e52_13ec_11ea_9749_9c4e3672773crow3_col0 {\n",
       "            background-color:  #f29274;\n",
       "            color:  #000000;\n",
       "        }    #T_1a823e52_13ec_11ea_9749_9c4e3672773crow3_col1 {\n",
       "            background-color:  #b3cdfb;\n",
       "            color:  #000000;\n",
       "        }    #T_1a823e52_13ec_11ea_9749_9c4e3672773crow3_col2 {\n",
       "            background-color:  #bbd1f8;\n",
       "            color:  #000000;\n",
       "        }    #T_1a823e52_13ec_11ea_9749_9c4e3672773crow3_col3 {\n",
       "            background-color:  #d6dce4;\n",
       "            color:  #000000;\n",
       "        }    #T_1a823e52_13ec_11ea_9749_9c4e3672773crow4_col0 {\n",
       "            background-color:  #455cce;\n",
       "            color:  #f1f1f1;\n",
       "        }    #T_1a823e52_13ec_11ea_9749_9c4e3672773crow4_col1 {\n",
       "            background-color:  #e1dad6;\n",
       "            color:  #000000;\n",
       "        }    #T_1a823e52_13ec_11ea_9749_9c4e3672773crow4_col2 {\n",
       "            background-color:  #7ea1fa;\n",
       "            color:  #000000;\n",
       "        }    #T_1a823e52_13ec_11ea_9749_9c4e3672773crow4_col3 {\n",
       "            background-color:  #f29274;\n",
       "            color:  #000000;\n",
       "        }    #T_1a823e52_13ec_11ea_9749_9c4e3672773crow5_col0 {\n",
       "            background-color:  #3b4cc0;\n",
       "            color:  #f1f1f1;\n",
       "        }    #T_1a823e52_13ec_11ea_9749_9c4e3672773crow5_col1 {\n",
       "            background-color:  #f5c2aa;\n",
       "            color:  #000000;\n",
       "        }    #T_1a823e52_13ec_11ea_9749_9c4e3672773crow5_col2 {\n",
       "            background-color:  #455cce;\n",
       "            color:  #f1f1f1;\n",
       "        }    #T_1a823e52_13ec_11ea_9749_9c4e3672773crow5_col3 {\n",
       "            background-color:  #3b4cc0;\n",
       "            color:  #f1f1f1;\n",
       "        }    #T_1a823e52_13ec_11ea_9749_9c4e3672773crow6_col0 {\n",
       "            background-color:  #f5c0a7;\n",
       "            color:  #000000;\n",
       "        }    #T_1a823e52_13ec_11ea_9749_9c4e3672773crow6_col1 {\n",
       "            background-color:  #3b4cc0;\n",
       "            color:  #f1f1f1;\n",
       "        }    #T_1a823e52_13ec_11ea_9749_9c4e3672773crow6_col2 {\n",
       "            background-color:  #aac7fd;\n",
       "            color:  #000000;\n",
       "        }    #T_1a823e52_13ec_11ea_9749_9c4e3672773crow6_col3 {\n",
       "            background-color:  #7b9ff9;\n",
       "            color:  #000000;\n",
       "        }    #T_1a823e52_13ec_11ea_9749_9c4e3672773crow7_col0 {\n",
       "            background-color:  #ead4c8;\n",
       "            color:  #000000;\n",
       "        }    #T_1a823e52_13ec_11ea_9749_9c4e3672773crow7_col1 {\n",
       "            background-color:  #3b4cc0;\n",
       "            color:  #f1f1f1;\n",
       "        }    #T_1a823e52_13ec_11ea_9749_9c4e3672773crow7_col2 {\n",
       "            background-color:  #b6cefa;\n",
       "            color:  #000000;\n",
       "        }    #T_1a823e52_13ec_11ea_9749_9c4e3672773crow7_col3 {\n",
       "            background-color:  #7b9ff9;\n",
       "            color:  #000000;\n",
       "        }    #T_1a823e52_13ec_11ea_9749_9c4e3672773crow8_col0 {\n",
       "            background-color:  #9abbff;\n",
       "            color:  #000000;\n",
       "        }    #T_1a823e52_13ec_11ea_9749_9c4e3672773crow8_col1 {\n",
       "            background-color:  #cfdaea;\n",
       "            color:  #000000;\n",
       "        }    #T_1a823e52_13ec_11ea_9749_9c4e3672773crow8_col2 {\n",
       "            background-color:  #3b4cc0;\n",
       "            color:  #f1f1f1;\n",
       "        }    #T_1a823e52_13ec_11ea_9749_9c4e3672773crow8_col3 {\n",
       "            background-color:  #3c4ec2;\n",
       "            color:  #f1f1f1;\n",
       "        }    #T_1a823e52_13ec_11ea_9749_9c4e3672773crow9_col0 {\n",
       "            background-color:  #536edd;\n",
       "            color:  #000000;\n",
       "        }    #T_1a823e52_13ec_11ea_9749_9c4e3672773crow9_col1 {\n",
       "            background-color:  #f1cdba;\n",
       "            color:  #000000;\n",
       "        }    #T_1a823e52_13ec_11ea_9749_9c4e3672773crow9_col2 {\n",
       "            background-color:  #4358cb;\n",
       "            color:  #f1f1f1;\n",
       "        }    #T_1a823e52_13ec_11ea_9749_9c4e3672773crow9_col3 {\n",
       "            background-color:  #81a4fb;\n",
       "            color:  #000000;\n",
       "        }    #T_1a823e52_13ec_11ea_9749_9c4e3672773crow10_col0 {\n",
       "            background-color:  #4358cb;\n",
       "            color:  #f1f1f1;\n",
       "        }    #T_1a823e52_13ec_11ea_9749_9c4e3672773crow10_col1 {\n",
       "            background-color:  #f2cbb7;\n",
       "            color:  #000000;\n",
       "        }    #T_1a823e52_13ec_11ea_9749_9c4e3672773crow10_col2 {\n",
       "            background-color:  #7093f3;\n",
       "            color:  #000000;\n",
       "        }    #T_1a823e52_13ec_11ea_9749_9c4e3672773crow10_col3 {\n",
       "            background-color:  #f2cbb7;\n",
       "            color:  #000000;\n",
       "        }</style><table id=\"T_1a823e52_13ec_11ea_9749_9c4e3672773c\" ><thead>    <tr>        <th class=\"blank level0\" ></th>        <th class=\"col_heading level0 col0\" >a</th>        <th class=\"col_heading level0 col1\" >b</th>        <th class=\"col_heading level0 col2\" >c</th>        <th class=\"col_heading level0 col3\" >d</th>    </tr></thead><tbody>\n",
       "                <tr>\n",
       "                        <th id=\"T_1a823e52_13ec_11ea_9749_9c4e3672773clevel0_row0\" class=\"row_heading level0 row0\" >Horror</th>\n",
       "                        <td id=\"T_1a823e52_13ec_11ea_9749_9c4e3672773crow0_col0\" class=\"data row0 col0\" >-0.535215</td>\n",
       "                        <td id=\"T_1a823e52_13ec_11ea_9749_9c4e3672773crow0_col1\" class=\"data row0 col1\" >0.0309583</td>\n",
       "                        <td id=\"T_1a823e52_13ec_11ea_9749_9c4e3672773crow0_col2\" class=\"data row0 col2\" >0.749917</td>\n",
       "                        <td id=\"T_1a823e52_13ec_11ea_9749_9c4e3672773crow0_col3\" class=\"data row0 col3\" >-0.179415</td>\n",
       "            </tr>\n",
       "            <tr>\n",
       "                        <th id=\"T_1a823e52_13ec_11ea_9749_9c4e3672773clevel0_row1\" class=\"row_heading level0 row1\" >Thriller</th>\n",
       "                        <td id=\"T_1a823e52_13ec_11ea_9749_9c4e3672773crow1_col0\" class=\"data row1 col0\" >-0.615426</td>\n",
       "                        <td id=\"T_1a823e52_13ec_11ea_9749_9c4e3672773crow1_col1\" class=\"data row1 col1\" >-0.000449066</td>\n",
       "                        <td id=\"T_1a823e52_13ec_11ea_9749_9c4e3672773crow1_col2\" class=\"data row1 col2\" >0.476329</td>\n",
       "                        <td id=\"T_1a823e52_13ec_11ea_9749_9c4e3672773crow1_col3\" class=\"data row1 col3\" >-0.0734495</td>\n",
       "            </tr>\n",
       "            <tr>\n",
       "                        <th id=\"T_1a823e52_13ec_11ea_9749_9c4e3672773clevel0_row2\" class=\"row_heading level0 row2\" >Comedy</th>\n",
       "                        <td id=\"T_1a823e52_13ec_11ea_9749_9c4e3672773crow2_col0\" class=\"data row2 col0\" >0.0444655</td>\n",
       "                        <td id=\"T_1a823e52_13ec_11ea_9749_9c4e3672773crow2_col1\" class=\"data row2 col1\" >-0.312498</td>\n",
       "                        <td id=\"T_1a823e52_13ec_11ea_9749_9c4e3672773crow2_col2\" class=\"data row2 col2\" >0.204003</td>\n",
       "                        <td id=\"T_1a823e52_13ec_11ea_9749_9c4e3672773crow2_col3\" class=\"data row2 col3\" >0.199404</td>\n",
       "            </tr>\n",
       "            <tr>\n",
       "                        <th id=\"T_1a823e52_13ec_11ea_9749_9c4e3672773clevel0_row3\" class=\"row_heading level0 row3\" >Romantic</th>\n",
       "                        <td id=\"T_1a823e52_13ec_11ea_9749_9c4e3672773crow3_col0\" class=\"data row3 col0\" >0.439811</td>\n",
       "                        <td id=\"T_1a823e52_13ec_11ea_9749_9c4e3672773crow3_col1\" class=\"data row3 col1\" >-0.434911</td>\n",
       "                        <td id=\"T_1a823e52_13ec_11ea_9749_9c4e3672773crow3_col2\" class=\"data row3 col2\" >0.173296</td>\n",
       "                        <td id=\"T_1a823e52_13ec_11ea_9749_9c4e3672773crow3_col3\" class=\"data row3 col3\" >0.219201</td>\n",
       "            </tr>\n",
       "            <tr>\n",
       "                        <th id=\"T_1a823e52_13ec_11ea_9749_9c4e3672773clevel0_row4\" class=\"row_heading level0 row4\" >Sci-fi</th>\n",
       "                        <td id=\"T_1a823e52_13ec_11ea_9749_9c4e3672773crow4_col0\" class=\"data row4 col0\" >-0.603357</td>\n",
       "                        <td id=\"T_1a823e52_13ec_11ea_9749_9c4e3672773crow4_col1\" class=\"data row4 col1\" >-0.25423</td>\n",
       "                        <td id=\"T_1a823e52_13ec_11ea_9749_9c4e3672773crow4_col2\" class=\"data row4 col2\" >-0.0919016</td>\n",
       "                        <td id=\"T_1a823e52_13ec_11ea_9749_9c4e3672773crow4_col3\" class=\"data row4 col3\" >0.575887</td>\n",
       "            </tr>\n",
       "            <tr>\n",
       "                        <th id=\"T_1a823e52_13ec_11ea_9749_9c4e3672773clevel0_row5\" class=\"row_heading level0 row5\" >War</th>\n",
       "                        <td id=\"T_1a823e52_13ec_11ea_9749_9c4e3672773crow5_col0\" class=\"data row5 col0\" >-0.658157</td>\n",
       "                        <td id=\"T_1a823e52_13ec_11ea_9749_9c4e3672773crow5_col1\" class=\"data row5 col1\" >-0.126221</td>\n",
       "                        <td id=\"T_1a823e52_13ec_11ea_9749_9c4e3672773crow5_col2\" class=\"data row5 col2\" >-0.348062</td>\n",
       "                        <td id=\"T_1a823e52_13ec_11ea_9749_9c4e3672773crow5_col3\" class=\"data row5 col3\" >-0.358375</td>\n",
       "            </tr>\n",
       "            <tr>\n",
       "                        <th id=\"T_1a823e52_13ec_11ea_9749_9c4e3672773clevel0_row6\" class=\"row_heading level0 row6\" >Fantasy/Fairy tales</th>\n",
       "                        <td id=\"T_1a823e52_13ec_11ea_9749_9c4e3672773crow6_col0\" class=\"data row6 col0\" >0.255661</td>\n",
       "                        <td id=\"T_1a823e52_13ec_11ea_9749_9c4e3672773crow6_col1\" class=\"data row6 col1\" >-0.842517</td>\n",
       "                        <td id=\"T_1a823e52_13ec_11ea_9749_9c4e3672773crow6_col2\" class=\"data row6 col2\" >0.0987103</td>\n",
       "                        <td id=\"T_1a823e52_13ec_11ea_9749_9c4e3672773crow6_col3\" class=\"data row6 col3\" >-0.114085</td>\n",
       "            </tr>\n",
       "            <tr>\n",
       "                        <th id=\"T_1a823e52_13ec_11ea_9749_9c4e3672773clevel0_row7\" class=\"row_heading level0 row7\" >Animated</th>\n",
       "                        <td id=\"T_1a823e52_13ec_11ea_9749_9c4e3672773crow7_col0\" class=\"data row7 col0\" >0.135865</td>\n",
       "                        <td id=\"T_1a823e52_13ec_11ea_9749_9c4e3672773crow7_col1\" class=\"data row7 col1\" >-0.845927</td>\n",
       "                        <td id=\"T_1a823e52_13ec_11ea_9749_9c4e3672773crow7_col2\" class=\"data row7 col2\" >0.148742</td>\n",
       "                        <td id=\"T_1a823e52_13ec_11ea_9749_9c4e3672773crow7_col3\" class=\"data row7 col3\" >-0.113219</td>\n",
       "            </tr>\n",
       "            <tr>\n",
       "                        <th id=\"T_1a823e52_13ec_11ea_9749_9c4e3672773clevel0_row8\" class=\"row_heading level0 row8\" >Documentary</th>\n",
       "                        <td id=\"T_1a823e52_13ec_11ea_9749_9c4e3672773crow8_col0\" class=\"data row8 col0\" >-0.248598</td>\n",
       "                        <td id=\"T_1a823e52_13ec_11ea_9749_9c4e3672773crow8_col1\" class=\"data row8 col1\" >-0.331022</td>\n",
       "                        <td id=\"T_1a823e52_13ec_11ea_9749_9c4e3672773crow8_col2\" class=\"data row8 col2\" >-0.402476</td>\n",
       "                        <td id=\"T_1a823e52_13ec_11ea_9749_9c4e3672773crow8_col3\" class=\"data row8 col3\" >-0.352805</td>\n",
       "            </tr>\n",
       "            <tr>\n",
       "                        <th id=\"T_1a823e52_13ec_11ea_9749_9c4e3672773clevel0_row9\" class=\"row_heading level0 row9\" >Western</th>\n",
       "                        <td id=\"T_1a823e52_13ec_11ea_9749_9c4e3672773crow9_col0\" class=\"data row9 col0\" >-0.543502</td>\n",
       "                        <td id=\"T_1a823e52_13ec_11ea_9749_9c4e3672773crow9_col1\" class=\"data row9 col1\" >-0.172327</td>\n",
       "                        <td id=\"T_1a823e52_13ec_11ea_9749_9c4e3672773crow9_col2\" class=\"data row9 col2\" >-0.3606</td>\n",
       "                        <td id=\"T_1a823e52_13ec_11ea_9749_9c4e3672773crow9_col3\" class=\"data row9 col3\" >-0.0965979</td>\n",
       "            </tr>\n",
       "            <tr>\n",
       "                        <th id=\"T_1a823e52_13ec_11ea_9749_9c4e3672773clevel0_row10\" class=\"row_heading level0 row10\" >Action</th>\n",
       "                        <td id=\"T_1a823e52_13ec_11ea_9749_9c4e3672773crow10_col0\" class=\"data row10 col0\" >-0.618735</td>\n",
       "                        <td id=\"T_1a823e52_13ec_11ea_9749_9c4e3672773crow10_col1\" class=\"data row10 col1\" >-0.160826</td>\n",
       "                        <td id=\"T_1a823e52_13ec_11ea_9749_9c4e3672773crow10_col2\" class=\"data row10 col2\" >-0.150313</td>\n",
       "                        <td id=\"T_1a823e52_13ec_11ea_9749_9c4e3672773crow10_col3\" class=\"data row10 col3\" >0.369783</td>\n",
       "            </tr>\n",
       "    </tbody></table>"
      ],
      "text/plain": [
       "<pandas.io.formats.style.Styler at 0x7ffb311dae80>"
      ]
     },
     "execution_count": 163,
     "metadata": {},
     "output_type": "execute_result"
    }
   ],
   "source": [
    "corr_ = Big_Five.corr().loc[df.columns,cols]\n",
    "corr_.style.background_gradient(cmap='coolwarm', low=0., high=0.3)"
   ]
  },
  {
   "cell_type": "markdown",
   "metadata": {},
   "source": [
    "### Comment 1.\n",
    "If `TYPE` = `music`, then 5 most frequent chronotypes (involving 62% of all responders) correspond to following interpretation:\n",
    "\n",
    "- `a` - likes very much **rock/metal/jazz**, hates **rap/techno/pop**\n",
    "- `b` - likes very much **dance/musical/pop/latino**, hates very much **metal/punk**\n",
    "- `c` - likes very much **hiphop/rap/reggae/punk/techno**, hates very much **classical/musical/opera**\n",
    "- `d` - likes **all kinds** of music, hates very much **techno**\n",
    "- `e` - likes **pop/rock/metal**, hates **reggae/jazz/alternative**\n",
    "\n",
    "notice that `a` chronotype is the most common\n",
    "\n",
    "**What simplifices to:**\n",
    "\n",
    "- `a` - true metalhead\n",
    "- `b` - pop music lover\n",
    "- `c` - rapper\n",
    "- `d` - all kinds of music person\n",
    "- `e` - somehow like metalhead, but also likes pop\n"
   ]
  },
  {
   "cell_type": "markdown",
   "metadata": {},
   "source": [
    "### Comment 2.\n",
    "If `TYPE` = `hobbies`, then 6 most frequent chronotypes (involving 48% of all responders) correspond to following interpretation:\n",
    "\n",
    "- `a` - hates essentialy everything\n",
    "- `b` - likes very much **mathematics/phisics/PC/cars/science/adrenaline sports**, hates **reading**\n",
    "- `c` - likes very much **biology/chemistry/medicine**, hates very much **politics/economy/law**\n",
    "- `d` - likes **mathematics/phisics/history/religion**, hates very much **celebrities/shopping/pets**\n",
    "- `e` - likes very much **instruments**, hates **law/economy/politics**\n",
    "- `f` - likes **history/geography**, hates **mathematics**\n",
    "\n",
    "**What translates to following chronotypes:**\n",
    "\n",
    "- `a` - lazy person\n",
    "- `b` - science person who adores activities\n",
    "- `c` - medician\n",
    "- `d` - science person who hates activities\n",
    "- `e` - musician\n",
    "- `f` - humanist"
   ]
  },
  {
   "cell_type": "markdown",
   "metadata": {},
   "source": [
    "### Comment 3.\n",
    "If `TYPE` = `movies`, then 4 most frequent (involving 64% of all responders) movie preferences are following:\n",
    "\n",
    "- `a` - romantic films (mostly women)\n",
    "- `b` - essentialy nothing\n",
    "- `c` - horror and thriller\n",
    "- `d` - science fiction and action"
   ]
  },
  {
   "cell_type": "code",
   "execution_count": null,
   "metadata": {},
   "outputs": [],
   "source": []
  }
 ],
 "metadata": {
  "kernelspec": {
   "display_name": "Python 3",
   "language": "python",
   "name": "python3"
  },
  "language_info": {
   "codemirror_mode": {
    "name": "ipython",
    "version": 3
   },
   "file_extension": ".py",
   "mimetype": "text/x-python",
   "name": "python",
   "nbconvert_exporter": "python",
   "pygments_lexer": "ipython3",
   "version": "3.6.8"
  }
 },
 "nbformat": 4,
 "nbformat_minor": 1
}
