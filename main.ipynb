{
 "cells": [
  {
   "cell_type": "code",
   "execution_count": 4,
   "metadata": {},
   "outputs": [],
   "source": [
    "%matplotlib inline\n",
    "import matplotlib.pyplot as plt\n",
    "import matplotlib\n",
    "import pandas as pd\n",
    "import numpy as np\n",
    "from sklearn.cluster import KMeans\n",
    "from sklearn.preprocessing import scale, StandardScaler\n",
    "from pylab import rcParams\n",
    "import scipy.cluster.hierarchy as sch"
   ]
  },
  {
   "cell_type": "markdown",
   "metadata": {},
   "source": [
    "### Define two functions for cluster analysis visualisation"
   ]
  },
  {
   "cell_type": "code",
   "execution_count": 5,
   "metadata": {},
   "outputs": [],
   "source": [
    "from itertools import cycle, islice\n",
    "from pandas.plotting import parallel_coordinates\n",
    "\n",
    "\n",
    "def pd_centers(featuresUsed, centers):\n",
    "\n",
    "    colNames = list(featuresUsed)\n",
    "    colNames.append('prediction')\n",
    "\n",
    "    # Zip with a column called 'prediction' (index)\n",
    "    Z = [np.append(A, index) for index, A in enumerate(centers)]\n",
    "\n",
    "    # Convert to pandas for plotting\n",
    "    P = pd.DataFrame(Z, columns=colNames)\n",
    "    P['prediction'] = P['prediction'].astype(int)\n",
    "    return P\n",
    "\n",
    "def parallel_plot(data):\n",
    "\n",
    "    my_colors = list(islice(cycle(['b', 'r', 'g', 'y', 'k']), None, len(data)))\n",
    "    plt.figure(figsize=(15,8)).gca().axes.set_ylim([1,5])\n",
    "    parallel_coordinates(data, 'prediction', color = my_colors, marker='o')\n",
    "    plt.xticks(rotation=75)"
   ]
  },
  {
   "cell_type": "markdown",
   "metadata": {},
   "source": [
    "## **1. Prepare the dataset**"
   ]
  },
  {
   "cell_type": "code",
   "execution_count": 6,
   "metadata": {},
   "outputs": [],
   "source": [
    "responses = pd.read_csv(\"responses.csv\")\n",
    "\n",
    "responses.at[676,'Height'] += 100 # repair a value"
   ]
  },
  {
   "cell_type": "markdown",
   "metadata": {},
   "source": [
    "### Divide dataset onto severall parts"
   ]
  },
  {
   "cell_type": "code",
   "execution_count": 7,
   "metadata": {},
   "outputs": [],
   "source": [
    "music = responses.loc[:,'Dance':'Opera']\n",
    "movies = responses.loc[:,'Horror':'Action']\n",
    "hobbies = responses.loc[:,'History':'Pets']\n",
    "phobias = responses.loc[:,'Flying':'Fear of public speaking']\n",
    "personality = responses.loc[:,'Daily events':'Spending on healthy eating'].select_dtypes(include=['int','float'])"
   ]
  },
  {
   "cell_type": "markdown",
   "metadata": {},
   "source": [
    "### **Define a new feature called 'braveness'**\n",
    "Negation of 'breaveness' is a scaled sum of individual's ratings of all phobias. <i>Potentially could correlate with some features.</i>\n",
    "\n",
    "*Note: highter value = more brave.*"
   ]
  },
  {
   "cell_type": "code",
   "execution_count": 8,
   "metadata": {},
   "outputs": [
    {
     "data": {
      "text/plain": [
       "Text(0, 0.5, 'Density')"
      ]
     },
     "execution_count": 8,
     "metadata": {},
     "output_type": "execute_result"
    },
    {
     "data": {
      "image/png": "[encoded data removed]",
      "text/plain": [
       "<Figure size 432x288 with 1 Axes>"
      ]
     },
     "metadata": {},
     "output_type": "display_data"
    }
   ],
   "source": [
    "braveness = (50-phobias.sum(axis=1)) / 10 + 1\n",
    "braveness.plot.hist(bins=40, alpha=0.5, density = True)\n",
    "\n",
    "responses_ = responses.copy()\n",
    "responses_.insert(0, \"Braveness\", braveness.to_list(), True)\n",
    "\n",
    "plt.xlabel('Braveness')\n",
    "plt.ylabel('Density')"
   ]
  },
  {
   "cell_type": "markdown",
   "metadata": {},
   "source": [
    "### **Filter responses leaving only numerical values**"
   ]
  },
  {
   "cell_type": "code",
   "execution_count": 9,
   "metadata": {},
   "outputs": [
    {
     "name": "stdout",
     "output_type": "stream",
     "text": [
      "(1010, 151) (1010, 140)\n"
     ]
    }
   ],
   "source": [
    "responses_int = responses_.select_dtypes(include=['int','float'])\n",
    "print(responses_.shape, responses_int.shape)"
   ]
  },
  {
   "cell_type": "markdown",
   "metadata": {},
   "source": [
    "## **2. Search for correlations**"
   ]
  },
  {
   "cell_type": "markdown",
   "metadata": {},
   "source": [
    "### **Divide data set onto male/female slice**"
   ]
  },
  {
   "cell_type": "code",
   "execution_count": 10,
   "metadata": {},
   "outputs": [],
   "source": [
    "responses_int_filtered = responses_int[responses['Gender'] == 'female']\n",
    "responses_male = responses_int[responses['Gender'] == 'male']\n",
    "responses_female = responses_int[responses['Gender'] == 'female']"
   ]
  },
  {
   "cell_type": "markdown",
   "metadata": {},
   "source": [
    "### Principal Component analysis (PCA)"
   ]
  },
  {
   "cell_type": "code",
   "execution_count": 30,
   "metadata": {},
   "outputs": [],
   "source": [
    "# Select what slice of responders table you want to analyse\n",
    "# Choose TYPE from [music, hobbies, movies, phobias, personality] (name-format, not string-format)\n",
    "\n",
    "def PCA(TYPE):\n",
    "    \n",
    "    df = TYPE.dropna()\n",
    "    df_np = np.array(df)\n",
    "\n",
    "    # Calculate covarriance matrix for all features (columns) in TYPE\n",
    "\n",
    "    Sigma = np.cov(df_np, rowvar=0, bias=1)\n",
    "\n",
    "    # Calculate eigenvectors of covarriance matrix\n",
    "\n",
    "    eigenvalues, eigenvectors = np.linalg.eigh(Sigma)\n",
    "    \n",
    "    \n",
    "    plt.plot([0]+[sum(eigenvalues[-i:]) / sum(eigenvalues) for i in range(1, TYPE.shape[1]+1)])\n",
    "    plt.xlabel('number of considered components')\n",
    "    plt.ylabel('accumulated fraction of total variance')\n",
    "    \n",
    "    \n",
    "    return lambda i: sum(eigenvalues[-i:]) / sum(eigenvalues)"
   ]
  },
  {
   "cell_type": "code",
   "execution_count": 32,
   "metadata": {},
   "outputs": [
    {
     "name": "stdout",
     "output_type": "stream",
     "text": [
      "0.8078500266213285\n"
     ]
    },
    {
     "data": {
      "image/png": "[encoded data removed]",
      "text/plain": [
       "<Figure size 432x288 with 1 Axes>"
      ]
     },
     "metadata": {},
     "output_type": "display_data"
    }
   ],
   "source": [
    "print(PCA(personality)(35)) # cumulative variance from 35 biggest components"
   ]
  },
  {
   "cell_type": "markdown",
   "metadata": {},
   "source": [
    "For `TYPE = personality` 5 most impactful personality features occupy only 29% of total variance, what means that features are not very correlated (rather independent). To cover up 80% of total variance it's necessarily to take 35 most impactful features out of total 61."
   ]
  },
  {
   "cell_type": "markdown",
   "metadata": {},
   "source": [
    "### 2.1. Plot correlations of all features (all types) with a chosen `FEATURE`\n",
    "Consider `men` and `women` datasets together."
   ]
  },
  {
   "cell_type": "code",
   "execution_count": 13,
   "metadata": {},
   "outputs": [
    {
     "name": "stdout",
     "output_type": "stream",
     "text": [
      "Features correlated with 'Number of friends':\n"
     ]
    },
    {
     "data": {
      "text/html": [
       "<div>\n",
       "<style scoped>\n",
       "    .dataframe tbody tr th:only-of-type {\n",
       "        vertical-align: middle;\n",
       "    }\n",
       "\n",
       "    .dataframe tbody tr th {\n",
       "        vertical-align: top;\n",
       "    }\n",
       "\n",
       "    .dataframe thead th {\n",
       "        text-align: right;\n",
       "    }\n",
       "</style>\n",
       "<table border=\"1\" class=\"dataframe\">\n",
       "  <thead>\n",
       "    <tr style=\"text-align: right;\">\n",
       "      <th></th>\n",
       "      <th>Feature's name</th>\n",
       "      <th>Coefficient</th>\n",
       "    </tr>\n",
       "  </thead>\n",
       "  <tbody>\n",
       "    <tr>\n",
       "      <th>61</th>\n",
       "      <td>Fun with friends</td>\n",
       "      <td>0.369</td>\n",
       "    </tr>\n",
       "    <tr>\n",
       "      <th>98</th>\n",
       "      <td>Loneliness</td>\n",
       "      <td>-0.287</td>\n",
       "    </tr>\n",
       "    <tr>\n",
       "      <th>105</th>\n",
       "      <td>Number of friends</td>\n",
       "      <td>1.000</td>\n",
       "    </tr>\n",
       "    <tr>\n",
       "      <th>110</th>\n",
       "      <td>Socializing</td>\n",
       "      <td>0.323</td>\n",
       "    </tr>\n",
       "    <tr>\n",
       "      <th>120</th>\n",
       "      <td>Happiness in life</td>\n",
       "      <td>0.299</td>\n",
       "    </tr>\n",
       "    <tr>\n",
       "      <th>121</th>\n",
       "      <td>Energy levels</td>\n",
       "      <td>0.367</td>\n",
       "    </tr>\n",
       "    <tr>\n",
       "      <th>123</th>\n",
       "      <td>Personality</td>\n",
       "      <td>0.275</td>\n",
       "    </tr>\n",
       "    <tr>\n",
       "      <th>126</th>\n",
       "      <td>Interests or hobbies</td>\n",
       "      <td>0.372</td>\n",
       "    </tr>\n",
       "  </tbody>\n",
       "</table>\n",
       "</div>"
      ],
      "text/plain": [
       "           Feature's name  Coefficient\n",
       "61       Fun with friends        0.369\n",
       "98             Loneliness       -0.287\n",
       "105     Number of friends        1.000\n",
       "110           Socializing        0.323\n",
       "120     Happiness in life        0.299\n",
       "121         Energy levels        0.367\n",
       "123           Personality        0.275\n",
       "126  Interests or hobbies        0.372"
      ]
     },
     "metadata": {},
     "output_type": "display_data"
    },
    {
     "data": {
      "image/png": "[encoded data removed]",
      "text/plain": [
       "<Figure size 576x432 with 1 Axes>"
      ]
     },
     "metadata": {},
     "output_type": "display_data"
    }
   ],
   "source": [
    "#FEATURE = 'Loneliness'\n",
    "FEATURE = 'Number of friends'\n",
    "\n",
    "\n",
    "rcParams['figure.figsize'] = 8,6\n",
    "\n",
    "cols = responses_int_filtered.columns.to_list()\n",
    "\n",
    "correlations = [responses_int_filtered[FEATURE].corr(responses_int_filtered[f]) for f in cols]\n",
    "\n",
    "\n",
    "df = pd.DataFrame(correlations, columns = ['Correlations'])\n",
    "df = df[abs(df['Correlations']) > 0.25]\n",
    "\n",
    "corr_features = [cols[f] for f in df.index]\n",
    "\n",
    "corr = responses_int_filtered[corr_features].corr().loc[:,FEATURE]#.drop([FEATURE])\n",
    "print(\"Features correlated with '{}':\".format(FEATURE))\n",
    "corr_ = {'Feature\\'s name':corr.index, 'Coefficient':round(corr,3).to_list()}\n",
    "corr_ = pd.DataFrame(corr_, index = df.index)\n",
    "display(corr_)\n",
    "\n",
    "\n",
    "plt.plot(correlations)\n",
    "plt.xlabel('Feature\\'s index')\n",
    "plt.ylabel('Regression coefficient')\n",
    "plt.scatter(df.index, np.array(corr), c='r')\n",
    "plt.show()"
   ]
  },
  {
   "cell_type": "markdown",
   "metadata": {},
   "source": [
    "Red dots correspond to features correlated with `FEATURE`."
   ]
  },
  {
   "cell_type": "markdown",
   "metadata": {},
   "source": [
    "### 2.2. Search for interesting correlations\n",
    "Consider `men` and `women` independently.\n",
    "\n",
    "Find what features have most correlations with any of 'personality' features.\n",
    "Find features that lead to correlations with similar Pearson's value for *both men and women treated separently*. This approach is crucial, because i.e. if `men` are more likely to be interested in `cars` than `women`, and at the same time `men` are statisticaly `heigher` that `women`, then without considering gender independence we would get a correlation between `cars` and `height`, which is a nonsense."
   ]
  },
  {
   "cell_type": "code",
   "execution_count": 37,
   "metadata": {},
   "outputs": [
    {
     "name": "stdout",
     "output_type": "stream",
     "text": [
      "Feature's name: Number of friends:\n"
     ]
    },
    {
     "data": {
      "text/html": [
       "<style  type=\"text/css\" >\n",
       "</style><table id=\"T_e1b50694_1833_11ea_874e_9c4e3672773c\" ><caption>Feature's name: Number of friends</caption><thead>    <tr>        <th class=\"col_heading level0 col0\" >Correlated feature's name</th>        <th class=\"col_heading level0 col1\" >Coefficient for Men</th>        <th class=\"col_heading level0 col2\" >Coefficient for Women</th>    </tr></thead><tbody>\n",
       "                <tr>\n",
       "                                <td id=\"T_e1b50694_1833_11ea_874e_9c4e3672773crow0_col0\" class=\"data row0 col0\" >Interests or hobbies</td>\n",
       "                        <td id=\"T_e1b50694_1833_11ea_874e_9c4e3672773crow0_col1\" class=\"data row0 col1\" >0.382</td>\n",
       "                        <td id=\"T_e1b50694_1833_11ea_874e_9c4e3672773crow0_col2\" class=\"data row0 col2\" >0.372</td>\n",
       "            </tr>\n",
       "            <tr>\n",
       "                                <td id=\"T_e1b50694_1833_11ea_874e_9c4e3672773crow1_col0\" class=\"data row1 col0\" >Socializing</td>\n",
       "                        <td id=\"T_e1b50694_1833_11ea_874e_9c4e3672773crow1_col1\" class=\"data row1 col1\" >0.35</td>\n",
       "                        <td id=\"T_e1b50694_1833_11ea_874e_9c4e3672773crow1_col2\" class=\"data row1 col2\" >0.323</td>\n",
       "            </tr>\n",
       "            <tr>\n",
       "                                <td id=\"T_e1b50694_1833_11ea_874e_9c4e3672773crow2_col0\" class=\"data row2 col0\" >Energy levels</td>\n",
       "                        <td id=\"T_e1b50694_1833_11ea_874e_9c4e3672773crow2_col1\" class=\"data row2 col1\" >0.427</td>\n",
       "                        <td id=\"T_e1b50694_1833_11ea_874e_9c4e3672773crow2_col2\" class=\"data row2 col2\" >0.367</td>\n",
       "            </tr>\n",
       "            <tr>\n",
       "                                <td id=\"T_e1b50694_1833_11ea_874e_9c4e3672773crow3_col0\" class=\"data row3 col0\" >Loneliness</td>\n",
       "                        <td id=\"T_e1b50694_1833_11ea_874e_9c4e3672773crow3_col1\" class=\"data row3 col1\" >-0.345</td>\n",
       "                        <td id=\"T_e1b50694_1833_11ea_874e_9c4e3672773crow3_col2\" class=\"data row3 col2\" >-0.287</td>\n",
       "            </tr>\n",
       "            <tr>\n",
       "                                <td id=\"T_e1b50694_1833_11ea_874e_9c4e3672773crow4_col0\" class=\"data row4 col0\" >Happiness in life</td>\n",
       "                        <td id=\"T_e1b50694_1833_11ea_874e_9c4e3672773crow4_col1\" class=\"data row4 col1\" >0.336</td>\n",
       "                        <td id=\"T_e1b50694_1833_11ea_874e_9c4e3672773crow4_col2\" class=\"data row4 col2\" >0.299</td>\n",
       "            </tr>\n",
       "            <tr>\n",
       "                                <td id=\"T_e1b50694_1833_11ea_874e_9c4e3672773crow5_col0\" class=\"data row5 col0\" >Fun with friends</td>\n",
       "                        <td id=\"T_e1b50694_1833_11ea_874e_9c4e3672773crow5_col1\" class=\"data row5 col1\" >0.345</td>\n",
       "                        <td id=\"T_e1b50694_1833_11ea_874e_9c4e3672773crow5_col2\" class=\"data row5 col2\" >0.369</td>\n",
       "            </tr>\n",
       "            <tr>\n",
       "                                <td id=\"T_e1b50694_1833_11ea_874e_9c4e3672773crow6_col0\" class=\"data row6 col0\" >Personality</td>\n",
       "                        <td id=\"T_e1b50694_1833_11ea_874e_9c4e3672773crow6_col1\" class=\"data row6 col1\" >0.273</td>\n",
       "                        <td id=\"T_e1b50694_1833_11ea_874e_9c4e3672773crow6_col2\" class=\"data row6 col2\" >0.275</td>\n",
       "            </tr>\n",
       "    </tbody></table>"
      ],
      "text/plain": [
       "<pandas.io.formats.style.Styler at 0x7ff72cdf9198>"
      ]
     },
     "metadata": {},
     "output_type": "display_data"
    },
    {
     "name": "stdout",
     "output_type": "stream",
     "text": [
      "Feature's name: Energy levels:\n"
     ]
    },
    {
     "data": {
      "text/html": [
       "<style  type=\"text/css\" >\n",
       "</style><table id=\"T_e2a8ed2c_1833_11ea_874e_9c4e3672773c\" ><caption>Feature's name: Energy levels</caption><thead>    <tr>        <th class=\"col_heading level0 col0\" >Correlated feature's name</th>        <th class=\"col_heading level0 col1\" >Coefficient for Men</th>        <th class=\"col_heading level0 col2\" >Coefficient for Women</th>    </tr></thead><tbody>\n",
       "                <tr>\n",
       "                                <td id=\"T_e2a8ed2c_1833_11ea_874e_9c4e3672773crow0_col0\" class=\"data row0 col0\" >Interests or hobbies</td>\n",
       "                        <td id=\"T_e2a8ed2c_1833_11ea_874e_9c4e3672773crow0_col1\" class=\"data row0 col1\" >0.493</td>\n",
       "                        <td id=\"T_e2a8ed2c_1833_11ea_874e_9c4e3672773crow0_col2\" class=\"data row0 col2\" >0.392</td>\n",
       "            </tr>\n",
       "            <tr>\n",
       "                                <td id=\"T_e2a8ed2c_1833_11ea_874e_9c4e3672773crow1_col0\" class=\"data row1 col0\" >Socializing</td>\n",
       "                        <td id=\"T_e2a8ed2c_1833_11ea_874e_9c4e3672773crow1_col1\" class=\"data row1 col1\" >0.365</td>\n",
       "                        <td id=\"T_e2a8ed2c_1833_11ea_874e_9c4e3672773crow1_col2\" class=\"data row1 col2\" >0.303</td>\n",
       "            </tr>\n",
       "            <tr>\n",
       "                                <td id=\"T_e2a8ed2c_1833_11ea_874e_9c4e3672773crow2_col0\" class=\"data row2 col0\" >New environment</td>\n",
       "                        <td id=\"T_e2a8ed2c_1833_11ea_874e_9c4e3672773crow2_col1\" class=\"data row2 col1\" >0.325</td>\n",
       "                        <td id=\"T_e2a8ed2c_1833_11ea_874e_9c4e3672773crow2_col2\" class=\"data row2 col2\" >0.364</td>\n",
       "            </tr>\n",
       "            <tr>\n",
       "                                <td id=\"T_e2a8ed2c_1833_11ea_874e_9c4e3672773crow3_col0\" class=\"data row3 col0\" >Loneliness</td>\n",
       "                        <td id=\"T_e2a8ed2c_1833_11ea_874e_9c4e3672773crow3_col1\" class=\"data row3 col1\" >-0.336</td>\n",
       "                        <td id=\"T_e2a8ed2c_1833_11ea_874e_9c4e3672773crow3_col2\" class=\"data row3 col2\" >-0.355</td>\n",
       "            </tr>\n",
       "            <tr>\n",
       "                                <td id=\"T_e2a8ed2c_1833_11ea_874e_9c4e3672773crow4_col0\" class=\"data row4 col0\" >Happiness in life</td>\n",
       "                        <td id=\"T_e2a8ed2c_1833_11ea_874e_9c4e3672773crow4_col1\" class=\"data row4 col1\" >0.448</td>\n",
       "                        <td id=\"T_e2a8ed2c_1833_11ea_874e_9c4e3672773crow4_col2\" class=\"data row4 col2\" >0.433</td>\n",
       "            </tr>\n",
       "            <tr>\n",
       "                                <td id=\"T_e2a8ed2c_1833_11ea_874e_9c4e3672773crow5_col0\" class=\"data row5 col0\" >Number of friends</td>\n",
       "                        <td id=\"T_e2a8ed2c_1833_11ea_874e_9c4e3672773crow5_col1\" class=\"data row5 col1\" >0.427</td>\n",
       "                        <td id=\"T_e2a8ed2c_1833_11ea_874e_9c4e3672773crow5_col2\" class=\"data row5 col2\" >0.367</td>\n",
       "            </tr>\n",
       "            <tr>\n",
       "                                <td id=\"T_e2a8ed2c_1833_11ea_874e_9c4e3672773crow6_col0\" class=\"data row6 col0\" >Personality</td>\n",
       "                        <td id=\"T_e2a8ed2c_1833_11ea_874e_9c4e3672773crow6_col1\" class=\"data row6 col1\" >0.33</td>\n",
       "                        <td id=\"T_e2a8ed2c_1833_11ea_874e_9c4e3672773crow6_col2\" class=\"data row6 col2\" >0.325</td>\n",
       "            </tr>\n",
       "            <tr>\n",
       "                                <td id=\"T_e2a8ed2c_1833_11ea_874e_9c4e3672773crow7_col0\" class=\"data row7 col0\" >Active sport</td>\n",
       "                        <td id=\"T_e2a8ed2c_1833_11ea_874e_9c4e3672773crow7_col1\" class=\"data row7 col1\" >0.319</td>\n",
       "                        <td id=\"T_e2a8ed2c_1833_11ea_874e_9c4e3672773crow7_col2\" class=\"data row7 col2\" >0.322</td>\n",
       "            </tr>\n",
       "            <tr>\n",
       "                                <td id=\"T_e2a8ed2c_1833_11ea_874e_9c4e3672773crow8_col0\" class=\"data row8 col0\" >Fear of public speaking</td>\n",
       "                        <td id=\"T_e2a8ed2c_1833_11ea_874e_9c4e3672773crow8_col1\" class=\"data row8 col1\" >-0.281</td>\n",
       "                        <td id=\"T_e2a8ed2c_1833_11ea_874e_9c4e3672773crow8_col2\" class=\"data row8 col2\" >-0.256</td>\n",
       "            </tr>\n",
       "    </tbody></table>"
      ],
      "text/plain": [
       "<pandas.io.formats.style.Styler at 0x7ff72cde0b70>"
      ]
     },
     "metadata": {},
     "output_type": "display_data"
    },
    {
     "name": "stdout",
     "output_type": "stream",
     "text": [
      "Feature's name: Spending on looks:\n"
     ]
    },
    {
     "data": {
      "text/html": [
       "<style  type=\"text/css\" >\n",
       "</style><table id=\"T_e2a8ed2d_1833_11ea_874e_9c4e3672773c\" ><caption>Feature's name: Spending on looks</caption><thead>    <tr>        <th class=\"col_heading level0 col0\" >Correlated feature's name</th>        <th class=\"col_heading level0 col1\" >Coefficient for Men</th>        <th class=\"col_heading level0 col2\" >Coefficient for Women</th>    </tr></thead><tbody>\n",
       "                <tr>\n",
       "                                <td id=\"T_e2a8ed2d_1833_11ea_874e_9c4e3672773crow0_col0\" class=\"data row0 col0\" >Appearence and gestures</td>\n",
       "                        <td id=\"T_e2a8ed2d_1833_11ea_874e_9c4e3672773crow0_col1\" class=\"data row0 col1\" >0.352</td>\n",
       "                        <td id=\"T_e2a8ed2d_1833_11ea_874e_9c4e3672773crow0_col2\" class=\"data row0 col2\" >0.406</td>\n",
       "            </tr>\n",
       "            <tr>\n",
       "                                <td id=\"T_e2a8ed2d_1833_11ea_874e_9c4e3672773crow1_col0\" class=\"data row1 col0\" >Spending on gadgets</td>\n",
       "                        <td id=\"T_e2a8ed2d_1833_11ea_874e_9c4e3672773crow1_col1\" class=\"data row1 col1\" >0.354</td>\n",
       "                        <td id=\"T_e2a8ed2d_1833_11ea_874e_9c4e3672773crow1_col2\" class=\"data row1 col2\" >0.41</td>\n",
       "            </tr>\n",
       "            <tr>\n",
       "                                <td id=\"T_e2a8ed2d_1833_11ea_874e_9c4e3672773crow2_col0\" class=\"data row2 col0\" >Celebrities</td>\n",
       "                        <td id=\"T_e2a8ed2d_1833_11ea_874e_9c4e3672773crow2_col1\" class=\"data row2 col1\" >0.267</td>\n",
       "                        <td id=\"T_e2a8ed2d_1833_11ea_874e_9c4e3672773crow2_col2\" class=\"data row2 col2\" >0.278</td>\n",
       "            </tr>\n",
       "            <tr>\n",
       "                                <td id=\"T_e2a8ed2d_1833_11ea_874e_9c4e3672773crow3_col0\" class=\"data row3 col0\" >Knowing the right people</td>\n",
       "                        <td id=\"T_e2a8ed2d_1833_11ea_874e_9c4e3672773crow3_col1\" class=\"data row3 col1\" >0.327</td>\n",
       "                        <td id=\"T_e2a8ed2d_1833_11ea_874e_9c4e3672773crow3_col2\" class=\"data row3 col2\" >0.287</td>\n",
       "            </tr>\n",
       "            <tr>\n",
       "                                <td id=\"T_e2a8ed2d_1833_11ea_874e_9c4e3672773crow4_col0\" class=\"data row4 col0\" >Shopping centres</td>\n",
       "                        <td id=\"T_e2a8ed2d_1833_11ea_874e_9c4e3672773crow4_col1\" class=\"data row4 col1\" >0.478</td>\n",
       "                        <td id=\"T_e2a8ed2d_1833_11ea_874e_9c4e3672773crow4_col2\" class=\"data row4 col2\" >0.483</td>\n",
       "            </tr>\n",
       "            <tr>\n",
       "                                <td id=\"T_e2a8ed2d_1833_11ea_874e_9c4e3672773crow5_col0\" class=\"data row5 col0\" >Entertainment spending</td>\n",
       "                        <td id=\"T_e2a8ed2d_1833_11ea_874e_9c4e3672773crow5_col1\" class=\"data row5 col1\" >0.385</td>\n",
       "                        <td id=\"T_e2a8ed2d_1833_11ea_874e_9c4e3672773crow5_col2\" class=\"data row5 col2\" >0.47</td>\n",
       "            </tr>\n",
       "            <tr>\n",
       "                                <td id=\"T_e2a8ed2d_1833_11ea_874e_9c4e3672773crow6_col0\" class=\"data row6 col0\" >Shopping</td>\n",
       "                        <td id=\"T_e2a8ed2d_1833_11ea_874e_9c4e3672773crow6_col1\" class=\"data row6 col1\" >0.455</td>\n",
       "                        <td id=\"T_e2a8ed2d_1833_11ea_874e_9c4e3672773crow6_col2\" class=\"data row6 col2\" >0.544</td>\n",
       "            </tr>\n",
       "            <tr>\n",
       "                                <td id=\"T_e2a8ed2d_1833_11ea_874e_9c4e3672773crow7_col0\" class=\"data row7 col0\" >Branded clothing</td>\n",
       "                        <td id=\"T_e2a8ed2d_1833_11ea_874e_9c4e3672773crow7_col1\" class=\"data row7 col1\" >0.482</td>\n",
       "                        <td id=\"T_e2a8ed2d_1833_11ea_874e_9c4e3672773crow7_col2\" class=\"data row7 col2\" >0.422</td>\n",
       "            </tr>\n",
       "    </tbody></table>"
      ],
      "text/plain": [
       "<pandas.io.formats.style.Styler at 0x7ff72cdfcd68>"
      ]
     },
     "metadata": {},
     "output_type": "display_data"
    }
   ],
   "source": [
    "# Index _1 stands for men, index_2 stands for women\n",
    "\n",
    "for FEATURE in personality.columns:\n",
    "\n",
    "    cols = responses_int_filtered.columns.to_list()\n",
    "\n",
    "    correlations_1 = [responses_male[FEATURE].corr(responses_male[f]) for f in cols ]\n",
    "    correlations_2 = [responses_female[FEATURE].corr(responses_female[f]) for f in cols ]\n",
    "\n",
    "\n",
    "    df_1 = pd.DataFrame(correlations_1, columns = ['Correlations'])\n",
    "    df_1 = df_1[ abs(df_1['Correlations']) > 0.25]\n",
    "    df_2 = pd.DataFrame(correlations_2, columns = ['Correlations'])\n",
    "    df_2 = df_2[ abs(df_2['Correlations']) > 0.25]\n",
    "\n",
    "\n",
    "    corr_features_1 = [cols[f] for f in df_1.index]\n",
    "    corr_features_2 = [cols[f] for f in df_2.index]\n",
    "\n",
    "\n",
    "    corr_1 = responses_male[corr_features_1].corr().loc[:,FEATURE].drop([FEATURE])\n",
    "    corr_2 = responses_female[corr_features_2].corr().loc[:,FEATURE].drop([FEATURE])\n",
    "\n",
    "    # Find set of features  lead to correlations in both genders\n",
    "    set_ = set(corr_1.index) & set(corr_2.index)\n",
    "    \n",
    "    \n",
    "    # If at least 5 distinct correlation are found\n",
    "    if len(corr_1) > 0 and len(set_) > 5:\n",
    "        \n",
    "        corr_ = {'Correlated feature\\'s name':list(set_)\n",
    "                 , 'Coefficient for Men':round(corr_1,3).loc[set_].tolist()\n",
    "                 , 'Coefficient for Women':round(corr_2,3).loc[set_].tolist()}\n",
    "        \n",
    "        corr_ = pd.DataFrame(corr_)\n",
    "        corr_ = corr_.style.set_caption(\"Feature\\'s name: {}\".format(FEATURE)).hide_index()\n",
    "        print(\"Feature\\'s name: {}:\".format(FEATURE))\n",
    "        display(corr_)"
   ]
  },
  {
   "cell_type": "markdown",
   "metadata": {},
   "source": [
    "## 3. Clustering"
   ]
  },
  {
   "cell_type": "markdown",
   "metadata": {},
   "source": [
    "### 3.1. Hierarchical clustering for a chosen `FEATURE`"
   ]
  },
  {
   "cell_type": "code",
   "execution_count": 15,
   "metadata": {},
   "outputs": [
    {
     "data": {
      "image/png": "[encoded data removed]",
      "text/plain": [
       "<Figure size 360x720 with 1 Axes>"
      ]
     },
     "metadata": {},
     "output_type": "display_data"
    }
   ],
   "source": [
    "FEATURE = music  # [music, hobbies, phobias, personality]\n",
    "\n",
    "df_select = FEATURE.copy(deep=True).dropna()\n",
    "x = df_select.to_numpy().T\n",
    "#\n",
    "# Adjust figure size to accommodate the full tree\n",
    "#\n",
    "rcParams['figure.figsize'] = 5, 10\n",
    "#\n",
    "# Do hierarchical clustering using Ward's method\n",
    "#\n",
    "z = sch.linkage(x, method='ward')\n",
    "#\n",
    "# Display dendrogram\n",
    "#\n",
    "names = df_select.columns.tolist()\n",
    "info = sch.dendrogram(z, orientation='left', labels=names, leaf_font_size=11)"
   ]
  },
  {
   "cell_type": "markdown",
   "metadata": {},
   "source": [
    "**Comment 1:** there seem to be 3 kinds of correlated `phobias`:\n",
    "- animals (Rats, Snakes, Dangerous dogs, Spiders)\n",
    "- nature (Darkness, Storm, Flying)\n",
    "- social (Fear of public speaking, Heights, Ageing)"
   ]
  },
  {
   "cell_type": "markdown",
   "metadata": {},
   "source": [
    "**Comment 2:** `music` clusters in 5 similar types:\n",
    "- **old music**: rock n roll, jazz, alternative\n",
    "- **metal-like music**: rock**, punk, metal\n",
    "- **instrumental music**\": opera, classical, country, folk\n",
    "- **popular music**: latino, musical, pop, dance\n",
    "- **rap-like music**: reggae, hiphip, techno\n",
    "\n",
    "** although rock was assigned to 'yellow label', it's not too far from 'magenta label', which seems more logical"
   ]
  },
  {
   "cell_type": "markdown",
   "metadata": {},
   "source": [
    "### 3.2. K-means clustering for a chosen `FEATURE`"
   ]
  },
  {
   "cell_type": "code",
   "execution_count": 16,
   "metadata": {},
   "outputs": [],
   "source": [
    "FEATURE = phobias  # [music, hobbies, phobias, personality]\n",
    "\n",
    "df_select = FEATURE.copy(deep=True).dropna()\n",
    "\n",
    "# Perform scaling on the dataframe containing the features\n",
    "\n",
    "scaler_x = StandardScaler()\n",
    "data = scaler_x.fit_transform(df_select)\n",
    "\n",
    "# Generate answers for various numbers of clusters\n",
    "\n",
    "sse = {}\n",
    "for k in range(1,11):\n",
    "    model = KMeans(init='k-means++', n_clusters=k, n_init=20).fit(data)\n",
    "    sse[k] = model.inertia_"
   ]
  },
  {
   "cell_type": "markdown",
   "metadata": {},
   "source": [
    "### Elbow method\n",
    "Analysing `loss function` vs `numbers of clusters` plot to choose adequate number of clusters."
   ]
  },
  {
   "cell_type": "code",
   "execution_count": 17,
   "metadata": {},
   "outputs": [
    {
     "data": {
      "image/png": "[encoded data removed]",
      "text/plain": [
       "<Figure size 432x288 with 1 Axes>"
      ]
     },
     "metadata": {},
     "output_type": "display_data"
    }
   ],
   "source": [
    "rcParams['figure.figsize'] = 6,4\n",
    "\n",
    "plt.plot(list(sse.keys()), list(sse.values()), 'o', linestyle = '-')\n",
    "plt.scatter( [4],[sse[4]], s = 1000, c = 'none', edgecolor = 'red')\n",
    "plt.xlabel('Number of clusters')\n",
    "plt.ylabel('Total sum of squares of distances')\n",
    "\n",
    "# Choose number of clusters\n",
    "\n",
    "noOfClusters = 4\n",
    "\n",
    "model = KMeans(init='k-means++', n_clusters=noOfClusters, n_init=20).fit(data)"
   ]
  },
  {
   "cell_type": "code",
   "execution_count": 18,
   "metadata": {},
   "outputs": [
    {
     "name": "stdout",
     "output_type": "stream",
     "text": [
      "__________________________________________________________________________________________\n",
      "\n",
      "Count of people in each cluster\n",
      "__________________________________________________________________________________________\n"
     ]
    },
    {
     "data": {
      "text/plain": [
       "0    250\n",
       "1    256\n",
       "2    286\n",
       "3    198\n",
       "dtype: int64"
      ]
     },
     "execution_count": 18,
     "metadata": {},
     "output_type": "execute_result"
    }
   ],
   "source": [
    "print(90*'_')\n",
    "print(\"\\nCount of people in each cluster\")\n",
    "print(90*'_')\n",
    "\n",
    "pd.value_counts(model.labels_, sort=False)"
   ]
  },
  {
   "cell_type": "markdown",
   "metadata": {},
   "source": [
    "### Plot centers of individual clusters"
   ]
  },
  {
   "cell_type": "code",
   "execution_count": 19,
   "metadata": {},
   "outputs": [
    {
     "data": {
      "text/html": [
       "<div>\n",
       "<style scoped>\n",
       "    .dataframe tbody tr th:only-of-type {\n",
       "        vertical-align: middle;\n",
       "    }\n",
       "\n",
       "    .dataframe tbody tr th {\n",
       "        vertical-align: top;\n",
       "    }\n",
       "\n",
       "    .dataframe thead th {\n",
       "        text-align: right;\n",
       "    }\n",
       "</style>\n",
       "<table border=\"1\" class=\"dataframe\">\n",
       "  <thead>\n",
       "    <tr style=\"text-align: right;\">\n",
       "      <th></th>\n",
       "      <th>Flying</th>\n",
       "      <th>Storm</th>\n",
       "      <th>Darkness</th>\n",
       "      <th>Heights</th>\n",
       "      <th>Spiders</th>\n",
       "      <th>Snakes</th>\n",
       "      <th>Rats</th>\n",
       "      <th>Ageing</th>\n",
       "      <th>Dangerous dogs</th>\n",
       "      <th>Fear of public speaking</th>\n",
       "      <th>prediction</th>\n",
       "    </tr>\n",
       "  </thead>\n",
       "  <tbody>\n",
       "    <tr>\n",
       "      <th>0</th>\n",
       "      <td>1.768000</td>\n",
       "      <td>1.732000</td>\n",
       "      <td>1.988000</td>\n",
       "      <td>2.292000</td>\n",
       "      <td>3.516000</td>\n",
       "      <td>4.084000</td>\n",
       "      <td>3.364000</td>\n",
       "      <td>2.884000</td>\n",
       "      <td>3.668000</td>\n",
       "      <td>2.732000</td>\n",
       "      <td>0</td>\n",
       "    </tr>\n",
       "    <tr>\n",
       "      <th>1</th>\n",
       "      <td>2.269531</td>\n",
       "      <td>1.675781</td>\n",
       "      <td>2.386719</td>\n",
       "      <td>3.105469</td>\n",
       "      <td>2.648438</td>\n",
       "      <td>2.359375</td>\n",
       "      <td>1.695312</td>\n",
       "      <td>2.710938</td>\n",
       "      <td>2.675781</td>\n",
       "      <td>3.308594</td>\n",
       "      <td>1</td>\n",
       "    </tr>\n",
       "    <tr>\n",
       "      <th>2</th>\n",
       "      <td>1.430070</td>\n",
       "      <td>1.353147</td>\n",
       "      <td>1.374126</td>\n",
       "      <td>1.744755</td>\n",
       "      <td>1.744755</td>\n",
       "      <td>1.881119</td>\n",
       "      <td>1.367133</td>\n",
       "      <td>1.727273</td>\n",
       "      <td>2.146853</td>\n",
       "      <td>2.094406</td>\n",
       "      <td>2</td>\n",
       "    </tr>\n",
       "    <tr>\n",
       "      <th>3</th>\n",
       "      <td>3.010101</td>\n",
       "      <td>3.530303</td>\n",
       "      <td>3.646465</td>\n",
       "      <td>3.606061</td>\n",
       "      <td>3.752525</td>\n",
       "      <td>4.227273</td>\n",
       "      <td>3.621212</td>\n",
       "      <td>3.232323</td>\n",
       "      <td>4.010101</td>\n",
       "      <td>3.282828</td>\n",
       "      <td>3</td>\n",
       "    </tr>\n",
       "  </tbody>\n",
       "</table>\n",
       "</div>"
      ],
      "text/plain": [
       "     Flying     Storm  Darkness   Heights   Spiders    Snakes      Rats  \\\n",
       "0  1.768000  1.732000  1.988000  2.292000  3.516000  4.084000  3.364000   \n",
       "1  2.269531  1.675781  2.386719  3.105469  2.648438  2.359375  1.695312   \n",
       "2  1.430070  1.353147  1.374126  1.744755  1.744755  1.881119  1.367133   \n",
       "3  3.010101  3.530303  3.646465  3.606061  3.752525  4.227273  3.621212   \n",
       "\n",
       "     Ageing  Dangerous dogs  Fear of public speaking  prediction  \n",
       "0  2.884000        3.668000                 2.732000           0  \n",
       "1  2.710938        2.675781                 3.308594           1  \n",
       "2  1.727273        2.146853                 2.094406           2  \n",
       "3  3.232323        4.010101                 3.282828           3  "
      ]
     },
     "execution_count": 19,
     "metadata": {},
     "output_type": "execute_result"
    }
   ],
   "source": [
    "P = pd_centers(featuresUsed=phobias.columns.to_list(), centers=scaler_x.inverse_transform(model.cluster_centers_))\n",
    "P"
   ]
  },
  {
   "cell_type": "code",
   "execution_count": 20,
   "metadata": {},
   "outputs": [
    {
     "data": {
      "image/png": "[encoded data removed]",
      "text/plain": [
       "<Figure size 1080x576 with 1 Axes>"
      ]
     },
     "metadata": {},
     "output_type": "display_data"
    }
   ],
   "source": [
    "parallel_plot(P)"
   ]
  },
  {
   "cell_type": "markdown",
   "metadata": {},
   "source": [
    "**Interpretation** (valid for 4 clusters). People seem to divide in 4 different types, according to `phobias` (following bullets are ordered from the bottom at the label `Flying`):\n",
    "\n",
    "- people scared of nothing.\n",
    "- people scared of various animals.\n",
    "- people scared of everything except of animals.\n",
    "- people scared of everything."
   ]
  },
  {
   "cell_type": "markdown",
   "metadata": {},
   "source": [
    "### Find outliners\n",
    "People who likely cheated by answering randomly."
   ]
  },
  {
   "cell_type": "code",
   "execution_count": 21,
   "metadata": {},
   "outputs": [
    {
     "name": "stdout",
     "output_type": "stream",
     "text": [
      "Number of survey responser and its distance from nearest cluster:\n",
      "\n",
      "458 \t 4.6395605695635505\n",
      "516 \t 4.6902843215182966\n",
      "614 \t 4.707513102369494\n",
      "932 \t 4.300967946578844\n",
      "989 \t 4.438399156165899\n",
      "\n",
      "All non-numeric informations about surveyors detected as outliers:\n"
     ]
    },
    {
     "data": {
      "text/html": [
       "<div>\n",
       "<style scoped>\n",
       "    .dataframe tbody tr th:only-of-type {\n",
       "        vertical-align: middle;\n",
       "    }\n",
       "\n",
       "    .dataframe tbody tr th {\n",
       "        vertical-align: top;\n",
       "    }\n",
       "\n",
       "    .dataframe thead th {\n",
       "        text-align: right;\n",
       "    }\n",
       "</style>\n",
       "<table border=\"1\" class=\"dataframe\">\n",
       "  <thead>\n",
       "    <tr style=\"text-align: right;\">\n",
       "      <th></th>\n",
       "      <th>Education</th>\n",
       "      <th>Internet usage</th>\n",
       "      <th>Village - town</th>\n",
       "      <th>Lying</th>\n",
       "      <th>Smoking</th>\n",
       "      <th>Gender</th>\n",
       "      <th>House - block of flats</th>\n",
       "      <th>Left - right handed</th>\n",
       "      <th>Only child</th>\n",
       "      <th>Punctuality</th>\n",
       "      <th>Alcohol</th>\n",
       "    </tr>\n",
       "  </thead>\n",
       "  <tbody>\n",
       "    <tr>\n",
       "      <th>458</th>\n",
       "      <td>secondary school</td>\n",
       "      <td>few hours a day</td>\n",
       "      <td>village</td>\n",
       "      <td>only to avoid hurting someone</td>\n",
       "      <td>tried smoking</td>\n",
       "      <td>female</td>\n",
       "      <td>house/bungalow</td>\n",
       "      <td>right handed</td>\n",
       "      <td>no</td>\n",
       "      <td>i am often running late</td>\n",
       "      <td>social drinker</td>\n",
       "    </tr>\n",
       "    <tr>\n",
       "      <th>516</th>\n",
       "      <td>secondary school</td>\n",
       "      <td>few hours a day</td>\n",
       "      <td>city</td>\n",
       "      <td>sometimes</td>\n",
       "      <td>tried smoking</td>\n",
       "      <td>male</td>\n",
       "      <td>block of flats</td>\n",
       "      <td>right handed</td>\n",
       "      <td>no</td>\n",
       "      <td>i am always on time</td>\n",
       "      <td>never</td>\n",
       "    </tr>\n",
       "    <tr>\n",
       "      <th>614</th>\n",
       "      <td>secondary school</td>\n",
       "      <td>few hours a day</td>\n",
       "      <td>village</td>\n",
       "      <td>sometimes</td>\n",
       "      <td>current smoker</td>\n",
       "      <td>female</td>\n",
       "      <td>house/bungalow</td>\n",
       "      <td>right handed</td>\n",
       "      <td>no</td>\n",
       "      <td>i am often early</td>\n",
       "      <td>social drinker</td>\n",
       "    </tr>\n",
       "    <tr>\n",
       "      <th>932</th>\n",
       "      <td>secondary school</td>\n",
       "      <td>few hours a day</td>\n",
       "      <td>city</td>\n",
       "      <td>sometimes</td>\n",
       "      <td>tried smoking</td>\n",
       "      <td>female</td>\n",
       "      <td>block of flats</td>\n",
       "      <td>right handed</td>\n",
       "      <td>no</td>\n",
       "      <td>i am often early</td>\n",
       "      <td>social drinker</td>\n",
       "    </tr>\n",
       "    <tr>\n",
       "      <th>989</th>\n",
       "      <td>masters degree</td>\n",
       "      <td>most of the day</td>\n",
       "      <td>village</td>\n",
       "      <td>sometimes</td>\n",
       "      <td>former smoker</td>\n",
       "      <td>female</td>\n",
       "      <td>house/bungalow</td>\n",
       "      <td>right handed</td>\n",
       "      <td>no</td>\n",
       "      <td>i am often early</td>\n",
       "      <td>drink a lot</td>\n",
       "    </tr>\n",
       "  </tbody>\n",
       "</table>\n",
       "</div>"
      ],
      "text/plain": [
       "            Education   Internet usage Village - town  \\\n",
       "458  secondary school  few hours a day        village   \n",
       "516  secondary school  few hours a day           city   \n",
       "614  secondary school  few hours a day        village   \n",
       "932  secondary school  few hours a day           city   \n",
       "989    masters degree  most of the day        village   \n",
       "\n",
       "                             Lying         Smoking  Gender  \\\n",
       "458  only to avoid hurting someone   tried smoking  female   \n",
       "516                      sometimes   tried smoking    male   \n",
       "614                      sometimes  current smoker  female   \n",
       "932                      sometimes   tried smoking  female   \n",
       "989                      sometimes   former smoker  female   \n",
       "\n",
       "    House - block of flats Left - right handed Only child  \\\n",
       "458         house/bungalow        right handed         no   \n",
       "516         block of flats        right handed         no   \n",
       "614         house/bungalow        right handed         no   \n",
       "932         block of flats        right handed         no   \n",
       "989         house/bungalow        right handed         no   \n",
       "\n",
       "                 Punctuality         Alcohol  \n",
       "458  i am often running late  social drinker  \n",
       "516      i am always on time           never  \n",
       "614         i am often early  social drinker  \n",
       "932         i am often early  social drinker  \n",
       "989         i am often early     drink a lot  "
      ]
     },
     "execution_count": 21,
     "metadata": {},
     "output_type": "execute_result"
    },
    {
     "data": {
      "image/png": "[encoded data removed]",
      "text/plain": [
       "<Figure size 432x288 with 1 Axes>"
      ]
     },
     "metadata": {},
     "output_type": "display_data"
    }
   ],
   "source": [
    "centers = model.cluster_centers_\n",
    "\n",
    "# Maximum allowed distance from nearest cluster to not be considered as an outliner\n",
    "    \n",
    "RANGE = 4.3\n",
    "\n",
    "# Plot distance from nearest cluster for all points for which cluster analysis was conducted\n",
    "#\n",
    "x = df_select.index.tolist()\n",
    "y = [min([np.linalg.norm(a-b) for a in centers]) for b in data[:] ]\n",
    "plt.scatter(x,y)\n",
    "plt.plot([0,1000], [RANGE,RANGE], 'red') # above this line are outliners\n",
    "plt.xlabel(\"Number of survey responser\")\n",
    "plt.ylabel(\"Distance from nearest cluster\")\n",
    "\n",
    "\n",
    "# Find which points are far away from any cluster. Print their indexies and measured distances\n",
    "#\n",
    "print( \"Number of survey responser and its distance from nearest cluster:\\n\")\n",
    "for i in range( 0, len(y)):\n",
    "    if y[i] > RANGE:\n",
    "        print (x[i],'\\t',y[i])\n",
    "\n",
    "\n",
    "# Select indexies of these points\n",
    "#\n",
    "outliners = [ i > RANGE for i in y]\n",
    "outliners = df_select[ outliners]\n",
    "\n",
    "\n",
    "# Find all informations about people who seem to be outliners\n",
    "#\n",
    "filter_ = np.full( responses.shape[0], False)\n",
    "for i in range( 0, outliners.shape[0]):\n",
    "    filter_[ outliners.index[i]] = True\n",
    "    \n",
    "    \n",
    "print( \"\\nAll non-numeric informations about surveyors detected as outliers:\")\n",
    "df_ = responses[ filter_]\n",
    "   \n",
    "# Select columns including only strings\n",
    "\n",
    "df_cols = set(df_.columns) - set(df_.select_dtypes(include=['int','float']).columns)\n",
    "df_[df_cols]"
   ]
  },
  {
   "cell_type": "markdown",
   "metadata": {},
   "source": [
    "**Comment:** Seems like almost all of the outliners are woman."
   ]
  },
  {
   "cell_type": "markdown",
   "metadata": {},
   "source": [
    "## 4. Analysis of `non-numerical` features\n",
    "This corresponds to features like `gender` or `left/right handling`.\n",
    "### 4.1. BMI (body mass index) distribution analysis within genders"
   ]
  },
  {
   "cell_type": "code",
   "execution_count": 22,
   "metadata": {},
   "outputs": [],
   "source": [
    "bmi = responses['Weight'] / (responses['Height'] / 100)**2\n",
    "\n",
    "responses_ = responses.copy()\n",
    "responses_.insert(0, \"Braveness\", braveness.to_list(), True)\n",
    "responses_.insert(0, \"BMI\", bmi.to_list(), True)\n",
    "\n",
    "\n",
    "left_ = responses_[responses_['Left - right handed'] == 'left handed']\n",
    "right_ = responses_[responses_['Left - right handed'] == 'right handed']\n",
    "\n",
    "male_ = responses_[responses_['Gender'] == 'male']\n",
    "female_ = responses_[responses_['Gender'] == 'female']"
   ]
  },
  {
   "cell_type": "code",
   "execution_count": 23,
   "metadata": {},
   "outputs": [
    {
     "data": {
      "text/plain": [
       "Text(0, 0.5, 'Density')"
      ]
     },
     "execution_count": 23,
     "metadata": {},
     "output_type": "execute_result"
    },
    {
     "data": {
      "image/png": "[encoded data removed]",
      "text/plain": [
       "<Figure size 432x288 with 1 Axes>"
      ]
     },
     "metadata": {},
     "output_type": "display_data"
    }
   ],
   "source": [
    "male_['BMI'].plot.hist(bins=100, alpha=0.5, color = 'blue', density = True)\n",
    "female_['BMI'].plot.hist(bins=100, alpha=0.5, color = 'red', density = True)\n",
    "\n",
    "rcParams['figure.figsize'] = 6,4\n",
    "plt.xlabel('BMI')\n",
    "plt.ylabel('Density')"
   ]
  },
  {
   "cell_type": "markdown",
   "metadata": {},
   "source": [
    "**Interpretation:** both genders have gaussian-like distribution of BMI values, however their mean values differ:\n",
    "- women's average BMI is around 20\n",
    "- men's average BMI is around 24"
   ]
  },
  {
   "cell_type": "markdown",
   "metadata": {},
   "source": [
    "### 4.2. Comparision of woman's and man's faith (religious aspect)"
   ]
  },
  {
   "cell_type": "code",
   "execution_count": 24,
   "metadata": {},
   "outputs": [
    {
     "name": "stdout",
     "output_type": "stream",
     "text": [
      "Men's fraction distribution:\n"
     ]
    },
    {
     "data": {
      "text/plain": [
       "5.0    0.255474\n",
       "1.0    0.236010\n",
       "3.0    0.214112\n",
       "4.0    0.160584\n",
       "2.0    0.133820\n",
       "Name: God, dtype: float64"
      ]
     },
     "execution_count": 24,
     "metadata": {},
     "output_type": "execute_result"
    },
    {
     "data": {
      "image/png": "[encoded data removed]",
      "text/plain": [
       "<Figure size 432x288 with 1 Axes>"
      ]
     },
     "metadata": {},
     "output_type": "display_data"
    }
   ],
   "source": [
    "n = sum(male_['God'] == male_['God'])  # Disclude nan values in this feature's column\n",
    "\n",
    "male_['God'].plot.hist(bins=11, alpha=0.5, color = 'blue', weights = [1./n for i in range(0,n)])\n",
    "plt.xlabel('Faith tendency')\n",
    "plt.ylabel('Fraction distribution')\n",
    "\n",
    "print(\"Men's fraction distribution:\")\n",
    "male_['God'].value_counts(normalize=True)"
   ]
  },
  {
   "cell_type": "code",
   "execution_count": 25,
   "metadata": {},
   "outputs": [
    {
     "name": "stdout",
     "output_type": "stream",
     "text": [
      "Women's fraction distribution:\n"
     ]
    },
    {
     "data": {
      "text/plain": [
       "5.0    0.358714\n",
       "3.0    0.211506\n",
       "4.0    0.165821\n",
       "1.0    0.152284\n",
       "2.0    0.111675\n",
       "Name: God, dtype: float64"
      ]
     },
     "execution_count": 25,
     "metadata": {},
     "output_type": "execute_result"
    },
    {
     "data": {
      "image/png": "[encoded data removed]",
      "text/plain": [
       "<Figure size 432x288 with 1 Axes>"
      ]
     },
     "metadata": {},
     "output_type": "display_data"
    }
   ],
   "source": [
    "n = sum(female_['God'] == female_['God'])  # Disclude nan values in this column\n",
    "\n",
    "female_['God'].plot.hist(bins=11, alpha=0.5, color = 'red', weights = [1./n for i in range(0,n)])\n",
    "plt.xlabel('Faith tendency')\n",
    "plt.ylabel('Fraction distribution')\n",
    "\n",
    "print(\"Women's fraction distribution:\")\n",
    "female_['God'].value_counts(normalize=True)"
   ]
  },
  {
   "cell_type": "markdown",
   "metadata": {},
   "source": [
    "**Interpretation:** woman are more likely to be religious.\n",
    "- 36% of woman and 25% of men are strongly religious (5.0 points in survey).\n",
    "- 15% of woman and 24% of men are atheist-like (1.0 point in survey)."
   ]
  },
  {
   "cell_type": "code",
   "execution_count": null,
   "metadata": {},
   "outputs": [],
   "source": []
  }
 ],
 "metadata": {
  "kernelspec": {
   "display_name": "Python 3",
   "language": "python",
   "name": "python3"
  },
  "language_info": {
   "codemirror_mode": {
    "name": "ipython",
    "version": 3
   },
   "file_extension": ".py",
   "mimetype": "text/x-python",
   "name": "python",
   "nbconvert_exporter": "python",
   "pygments_lexer": "ipython3",
   "version": "3.6.8"
  }
 },
 "nbformat": 4,
 "nbformat_minor": 1
}
