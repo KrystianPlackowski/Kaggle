{
 "cells": [
  {
   "cell_type": "markdown",
   "metadata": {},
   "source": [
    "## Please set below variable `running` to `1` if you run this notebook.\n",
    "Its purpose is to ensure that interactive functions will display their outputs if you open the notebook on github (without downloading). If you run the notebook without setting `running` to `1` all interactive functions will display twice."
   ]
  },
  {
   "cell_type": "code",
   "execution_count": 23,
   "metadata": {},
   "outputs": [],
   "source": [
    "running = 1"
   ]
  },
  {
   "cell_type": "markdown",
   "metadata": {},
   "source": [
    "`field` is a slice of response table you want to analyse\n",
    "\n",
    "`feature` is a single column name of responders table\n",
    "\n",
    "`group` is a slice of people, i.e. men/female/left-handed/right-handed\n",
    "\n",
    "# Table of content\n",
    "1. Data preparation \n",
    "2. Searching for correlations\n",
    "    - Principal component analysis for `fields` **(interactive)**\n",
    "    - Correlations with a chosen `feature` **(interactive)**\n",
    "    - Searching for interesting correlations\n",
    "3. Clustering\n",
    "    - Hierarchical clustering for a chosen `field` **(interactive)**\n",
    "    - K-means clustering for a chosen `field` **(interactive)**\n",
    "    - T-SNE **(interactive)**\n",
    "    - Finding outliners **(interactive)**\n",
    "4. Other\n",
    "    - BMI distribution within `genders`\n",
    "    - `Feature's` distribution between `groups` **(interactive)**"
   ]
  },
  {
   "cell_type": "code",
   "execution_count": 24,
   "metadata": {},
   "outputs": [],
   "source": [
    "%matplotlib inline\n",
    "import matplotlib.pyplot as plt\n",
    "import matplotlib\n",
    "import pandas as pd\n",
    "import numpy as np\n",
    "import scipy.cluster.hierarchy as sch\n",
    "import ipywidgets as widgets\n",
    "from sklearn.cluster import KMeans\n",
    "from sklearn.preprocessing import scale, StandardScaler\n",
    "from numpy.random import RandomState\n",
    "from IPython.display import display\n",
    "from ipywidgets import interact, interactive, fixed, interact_manual, Dropdown, IntSlider, FloatSlider\n",
    "from sklearn.manifold import TSNE\n",
    "from matplotlib import style"
   ]
  },
  {
   "cell_type": "markdown",
   "metadata": {},
   "source": [
    "Define two functions for cluster analysis visualisation"
   ]
  },
  {
   "cell_type": "code",
   "execution_count": 25,
   "metadata": {},
   "outputs": [],
   "source": [
    "from itertools import cycle, islice\n",
    "from pandas.plotting import parallel_coordinates\n",
    "\n",
    "\n",
    "def pd_centers(featuresUsed, centers):\n",
    "\n",
    "    colNames = list(featuresUsed)\n",
    "    colNames.append('prediction')\n",
    "\n",
    "    # Zip with a column called 'prediction' (index)\n",
    "    Z = [np.append(A, index) for index, A in enumerate(centers)]\n",
    "\n",
    "    # Convert to pandas for plotting\n",
    "    P = pd.DataFrame(Z, columns=colNames)\n",
    "    P['prediction'] = P['prediction'].astype(int)\n",
    "    return P\n",
    "\n",
    "def parallel_plot(data, size):\n",
    "\n",
    "    my_colors = list(islice(cycle(['b', 'r', 'g', 'y', 'k']), None, len(data)))\n",
    "    plt.figure(figsize=size).gca().axes.set_ylim([1,5])\n",
    "    parallel_coordinates(data, 'prediction', color = my_colors, marker='o')\n",
    "    plt.xticks(rotation=75)\n",
    "    plt.ylabel('centers of clusters')"
   ]
  },
  {
   "cell_type": "markdown",
   "metadata": {},
   "source": [
    "## **1. Data preparation**"
   ]
  },
  {
   "cell_type": "code",
   "execution_count": 26,
   "metadata": {},
   "outputs": [],
   "source": [
    "responses = pd.read_csv(\"input/responses.csv\")\n",
    "\n",
    "responses.at[676,'Height'] += 100 # repair a value"
   ]
  },
  {
   "cell_type": "markdown",
   "metadata": {},
   "source": [
    "Divide dataset onto severall parts"
   ]
  },
  {
   "cell_type": "code",
   "execution_count": 27,
   "metadata": {},
   "outputs": [],
   "source": [
    "music = responses.loc[:,'Dance':'Opera']\n",
    "movies = responses.loc[:,'Horror':'Action']\n",
    "hobbies = responses.loc[:,'History':'Pets']\n",
    "phobias = responses.loc[:,'Flying':'Fear of public speaking']\n",
    "personality = responses.loc[:,'Daily events':'Spending on healthy eating'].select_dtypes(include=['int','float'])"
   ]
  },
  {
   "cell_type": "markdown",
   "metadata": {},
   "source": [
    "Create a path to relate to variables using their names"
   ]
  },
  {
   "cell_type": "code",
   "execution_count": 28,
   "metadata": {},
   "outputs": [],
   "source": [
    "field_name = {'music':music, 'movies':movies, 'hobbies':hobbies, 'phobias':phobias, 'personality':personality}"
   ]
  },
  {
   "cell_type": "markdown",
   "metadata": {},
   "source": [
    "### **Define two new features: `braveness` and `BMI`**\n",
    "Negation of '`breaveness`' is a scaled sum of individual's ratings of all phobias.\n",
    "\n",
    "*Note: highter value = more brave.*\n",
    "\n",
    "'`BMI`' stands for 'Body Mass Index'"
   ]
  },
  {
   "cell_type": "code",
   "execution_count": 29,
   "metadata": {},
   "outputs": [],
   "source": [
    "braveness = (50-phobias.sum(axis=1)) / 10 + 1\n",
    "bmi = round(responses['Weight'] / (responses['Height'] / 100)**2, 2)\n",
    "\n",
    "\n",
    "responses_ = responses.copy()\n",
    "responses_.insert(0, \"Braveness\", braveness.to_list(), True)\n",
    "responses_.insert(0, \"BMI\", bmi.to_list(), True)\n",
    "\n",
    "# braveness.plot.hist(bins=40, alpha=0.5, density = True)"
   ]
  },
  {
   "cell_type": "markdown",
   "metadata": {},
   "source": [
    "Filter responses leaving only numerical values"
   ]
  },
  {
   "cell_type": "code",
   "execution_count": 30,
   "metadata": {},
   "outputs": [
    {
     "name": "stdout",
     "output_type": "stream",
     "text": [
      "(1010, 152) (1010, 141)\n"
     ]
    }
   ],
   "source": [
    "responses_int = responses_.select_dtypes(include=['int','float'])\n",
    "print(responses_.shape, responses_int.shape)"
   ]
  },
  {
   "cell_type": "markdown",
   "metadata": {},
   "source": [
    "## **2. Search for correlations**"
   ]
  },
  {
   "cell_type": "markdown",
   "metadata": {},
   "source": [
    "### 2.1. Principal Component analysis (PCA) for `fields`\n",
    "For a chosen `field` analyse impact of `number of most relevant components` took into consideration for quality of representing data."
   ]
  },
  {
   "cell_type": "code",
   "execution_count": 31,
   "metadata": {},
   "outputs": [
    {
     "data": {
      "application/vnd.jupyter.widget-view+json": {
       "model_id": "13c58ffa8e4844018b745fd29fac0ad3",
       "version_major": 2,
       "version_minor": 0
      },
      "text/plain": [
       "interactive(children=(Dropdown(description='field', options=('personality', 'phobias', 'music', 'movies', 'hob…"
      ]
     },
     "metadata": {},
     "output_type": "display_data"
    }
   ],
   "source": [
    "@interact(field = ['personality','phobias','music','movies','hobbies'], noOfComponents = IntSlider(35,1,60,1))\n",
    "def PCA(field, noOfComponents): \n",
    "    field = field_name[field]\n",
    "    \n",
    "    df = field.dropna()\n",
    "    df_np = np.array(df)\n",
    "\n",
    "    # Calculate covarriance matrix for all features (columns) in TYPE\n",
    "\n",
    "    Sigma = np.cov(df_np, rowvar=0, bias=1)\n",
    "\n",
    "    # Calculate eigenvectors of covarriance matrix\n",
    "\n",
    "    eigenvalues, eigenvectors = np.linalg.eigh(Sigma)\n",
    "    \n",
    "    plt.figure(figsize=(8,6))\n",
    "    plt.plot([0]+[sum(eigenvalues[-i:]) / sum(eigenvalues) for i in range(1, field.shape[1]+1)])\n",
    "    plt.xlabel('number of considered components')\n",
    "    plt.ylabel('accumulated fraction of total variance')\n",
    "    \n",
    "    x = noOfComponents\n",
    "    y = (lambda i: sum(eigenvalues[-i:]) / sum(eigenvalues))(noOfComponents)\n",
    "    plt.scatter([x], [y], s=100, edgecolors='r', facecolors = 'none')\n",
    "    plt.plot([x,x], [0,y], c='r', linestyle='dashed')\n",
    "    plt.plot([0,x], [y,y], c='r', linestyle='dashed')\n",
    "    plt.show()\n",
    "    print('Amount of total variance covered by {} most impactful components: {}'.format(x, np.round(y, 4)))\n",
    "\n",
    "if running == 0:\n",
    "    PCA('personality', 35)"
   ]
  },
  {
   "cell_type": "markdown",
   "metadata": {},
   "source": [
    "**Comment 1:**\n",
    "\n",
    "For `field = personality` 5 most impactful personality features (components) occupy only 29% of total variance, what means that features are **not very correlated (rather independent)**. To cover up 80% of total variance it's necessarily to take 35 most impactful features out of total 61."
   ]
  },
  {
   "cell_type": "markdown",
   "metadata": {},
   "source": [
    "### 2.2. Correlations with a chosen `feature`, restricted to a specified `group`"
   ]
  },
  {
   "cell_type": "code",
   "execution_count": 32,
   "metadata": {},
   "outputs": [
    {
     "data": {
      "application/vnd.jupyter.widget-view+json": {
       "model_id": "0f8a023d65ef47c98398fcb86da82ccf",
       "version_major": 2,
       "version_minor": 0
      },
      "text/plain": [
       "interactive(children=(IntSlider(value=106, description='feature', max=139), Dropdown(description='group', opti…"
      ]
     },
     "metadata": {},
     "output_type": "display_data"
    }
   ],
   "source": [
    "@interact(feature = IntSlider(106,0,139,1), group = ['all', 'male', 'female', 'right handed', 'left handed'])\n",
    "def Correlate_with(feature, group):\n",
    "    \n",
    "    cols = responses_int.columns.to_list()\n",
    "    feature = cols[feature]\n",
    "\n",
    "    # Filter responses according to `group`\n",
    "    \n",
    "    if group == 'all':\n",
    "        responses_int_filtered = responses_int\n",
    "    if group in {'male', 'female'}:\n",
    "        responses_int_filtered = responses_int[responses['Gender'] == group]\n",
    "    if group in {'left handed', 'right handed'}:\n",
    "        responses_int_filtered = responses_int[responses['Left - right handed'] == group]\n",
    "    \n",
    "    # Select 1 columns from correlation's table for specified `group`\n",
    "    \n",
    "    correlations = [responses_int_filtered[feature].corr(responses_int_filtered[f]) for f in cols]\n",
    "    \n",
    "    # Filter, leaving only interesting correlations\n",
    "    \n",
    "    df = pd.DataFrame(correlations, columns = ['Correlations'])\n",
    "    df = df[abs(df['Correlations']) > 0.25]\n",
    "    \n",
    "    # Make pretty visialisation for selected column\n",
    "    \n",
    "    corr_features = [cols[f] for f in df.index]\n",
    "    corr = responses_int_filtered[corr_features].corr().loc[:,feature]\n",
    "\n",
    "    print(\"Features correlated with '{}':\".format(feature))\n",
    "    corr_ = {'Feature\\'s name':corr.index, 'Coefficient':round(corr,3).to_list()}\n",
    "    corr_ = pd.DataFrame(corr_, index = df.index)\n",
    "    corr_ = corr_[corr_['Feature\\'s name'] != feature]\n",
    "    display(corr_)\n",
    "    \n",
    "    # Visualise the plot\n",
    "\n",
    "    plt.figure(figsize=(8,6))\n",
    "    plt.plot(correlations)\n",
    "    plt.xlabel('Feature\\'s index')\n",
    "    plt.ylabel('Regression coefficient')\n",
    "    plt.scatter(df.index, np.array(corr), c='r')\n",
    "    plt.show()\n",
    "    print(\"Red dots correspond to features correlated with '{}'\".format(feature))\n",
    "\n",
    "if running == 0:\n",
    "    Correlate_with(106, 'all')"
   ]
  },
  {
   "cell_type": "markdown",
   "metadata": {},
   "source": [
    "### 2.2. Search for interesting correlations\n",
    "Consider `men` and `women` independently.\n",
    "\n",
    "Find what features have most correlations with any of 'personality' features.\n",
    "But focus on features which lead to correlations with similar Pearson's value for **both men and women treated separently**. This approach is crucial, because i.e. if `men` are more likely to be interested in `cars` than `women` and at the same time, `men` are statisticaly `heigher` that `women`, then without considering gender independence we would get a correlation between `cars` and `height`, which is a nonsense."
   ]
  },
  {
   "cell_type": "code",
   "execution_count": 33,
   "metadata": {},
   "outputs": [
    {
     "name": "stdout",
     "output_type": "stream",
     "text": [
      "Feature's name (106): Number of friends:\n"
     ]
    },
    {
     "data": {
      "text/html": [
       "<style  type=\"text/css\" >\n",
       "</style><table id=\"T_ed8adbf8_2353_11ea_a08f_9c4e3672773c\" ><caption>Feature's name: Number of friends</caption><thead>    <tr>        <th class=\"col_heading level0 col0\" >Correlated feature's name</th>        <th class=\"col_heading level0 col1\" >Coefficient for Men</th>        <th class=\"col_heading level0 col2\" >Coefficient for Women</th>    </tr></thead><tbody>\n",
       "                <tr>\n",
       "                                <td id=\"T_ed8adbf8_2353_11ea_a08f_9c4e3672773crow0_col0\" class=\"data row0 col0\" >Socializing</td>\n",
       "                        <td id=\"T_ed8adbf8_2353_11ea_a08f_9c4e3672773crow0_col1\" class=\"data row0 col1\" >0.35</td>\n",
       "                        <td id=\"T_ed8adbf8_2353_11ea_a08f_9c4e3672773crow0_col2\" class=\"data row0 col2\" >0.323</td>\n",
       "            </tr>\n",
       "            <tr>\n",
       "                                <td id=\"T_ed8adbf8_2353_11ea_a08f_9c4e3672773crow1_col0\" class=\"data row1 col0\" >Personality</td>\n",
       "                        <td id=\"T_ed8adbf8_2353_11ea_a08f_9c4e3672773crow1_col1\" class=\"data row1 col1\" >0.273</td>\n",
       "                        <td id=\"T_ed8adbf8_2353_11ea_a08f_9c4e3672773crow1_col2\" class=\"data row1 col2\" >0.275</td>\n",
       "            </tr>\n",
       "            <tr>\n",
       "                                <td id=\"T_ed8adbf8_2353_11ea_a08f_9c4e3672773crow2_col0\" class=\"data row2 col0\" >Happiness in life</td>\n",
       "                        <td id=\"T_ed8adbf8_2353_11ea_a08f_9c4e3672773crow2_col1\" class=\"data row2 col1\" >0.336</td>\n",
       "                        <td id=\"T_ed8adbf8_2353_11ea_a08f_9c4e3672773crow2_col2\" class=\"data row2 col2\" >0.299</td>\n",
       "            </tr>\n",
       "            <tr>\n",
       "                                <td id=\"T_ed8adbf8_2353_11ea_a08f_9c4e3672773crow3_col0\" class=\"data row3 col0\" >Energy levels</td>\n",
       "                        <td id=\"T_ed8adbf8_2353_11ea_a08f_9c4e3672773crow3_col1\" class=\"data row3 col1\" >0.427</td>\n",
       "                        <td id=\"T_ed8adbf8_2353_11ea_a08f_9c4e3672773crow3_col2\" class=\"data row3 col2\" >0.367</td>\n",
       "            </tr>\n",
       "            <tr>\n",
       "                                <td id=\"T_ed8adbf8_2353_11ea_a08f_9c4e3672773crow4_col0\" class=\"data row4 col0\" >Fun with friends</td>\n",
       "                        <td id=\"T_ed8adbf8_2353_11ea_a08f_9c4e3672773crow4_col1\" class=\"data row4 col1\" >0.345</td>\n",
       "                        <td id=\"T_ed8adbf8_2353_11ea_a08f_9c4e3672773crow4_col2\" class=\"data row4 col2\" >0.369</td>\n",
       "            </tr>\n",
       "            <tr>\n",
       "                                <td id=\"T_ed8adbf8_2353_11ea_a08f_9c4e3672773crow5_col0\" class=\"data row5 col0\" >Interests or hobbies</td>\n",
       "                        <td id=\"T_ed8adbf8_2353_11ea_a08f_9c4e3672773crow5_col1\" class=\"data row5 col1\" >0.382</td>\n",
       "                        <td id=\"T_ed8adbf8_2353_11ea_a08f_9c4e3672773crow5_col2\" class=\"data row5 col2\" >0.372</td>\n",
       "            </tr>\n",
       "            <tr>\n",
       "                                <td id=\"T_ed8adbf8_2353_11ea_a08f_9c4e3672773crow6_col0\" class=\"data row6 col0\" >Loneliness</td>\n",
       "                        <td id=\"T_ed8adbf8_2353_11ea_a08f_9c4e3672773crow6_col1\" class=\"data row6 col1\" >-0.345</td>\n",
       "                        <td id=\"T_ed8adbf8_2353_11ea_a08f_9c4e3672773crow6_col2\" class=\"data row6 col2\" >-0.287</td>\n",
       "            </tr>\n",
       "    </tbody></table>"
      ],
      "text/plain": [
       "<pandas.io.formats.style.Styler at 0x7fecbb8b4748>"
      ]
     },
     "metadata": {},
     "output_type": "display_data"
    },
    {
     "name": "stdout",
     "output_type": "stream",
     "text": [
      "Feature's name (122): Energy levels:\n"
     ]
    },
    {
     "data": {
      "text/html": [
       "<style  type=\"text/css\" >\n",
       "</style><table id=\"T_eea24f26_2353_11ea_a08f_9c4e3672773c\" ><caption>Feature's name: Energy levels</caption><thead>    <tr>        <th class=\"col_heading level0 col0\" >Correlated feature's name</th>        <th class=\"col_heading level0 col1\" >Coefficient for Men</th>        <th class=\"col_heading level0 col2\" >Coefficient for Women</th>    </tr></thead><tbody>\n",
       "                <tr>\n",
       "                                <td id=\"T_eea24f26_2353_11ea_a08f_9c4e3672773crow0_col0\" class=\"data row0 col0\" >Socializing</td>\n",
       "                        <td id=\"T_eea24f26_2353_11ea_a08f_9c4e3672773crow0_col1\" class=\"data row0 col1\" >0.365</td>\n",
       "                        <td id=\"T_eea24f26_2353_11ea_a08f_9c4e3672773crow0_col2\" class=\"data row0 col2\" >0.303</td>\n",
       "            </tr>\n",
       "            <tr>\n",
       "                                <td id=\"T_eea24f26_2353_11ea_a08f_9c4e3672773crow1_col0\" class=\"data row1 col0\" >Number of friends</td>\n",
       "                        <td id=\"T_eea24f26_2353_11ea_a08f_9c4e3672773crow1_col1\" class=\"data row1 col1\" >0.427</td>\n",
       "                        <td id=\"T_eea24f26_2353_11ea_a08f_9c4e3672773crow1_col2\" class=\"data row1 col2\" >0.367</td>\n",
       "            </tr>\n",
       "            <tr>\n",
       "                                <td id=\"T_eea24f26_2353_11ea_a08f_9c4e3672773crow2_col0\" class=\"data row2 col0\" >Personality</td>\n",
       "                        <td id=\"T_eea24f26_2353_11ea_a08f_9c4e3672773crow2_col1\" class=\"data row2 col1\" >0.33</td>\n",
       "                        <td id=\"T_eea24f26_2353_11ea_a08f_9c4e3672773crow2_col2\" class=\"data row2 col2\" >0.325</td>\n",
       "            </tr>\n",
       "            <tr>\n",
       "                                <td id=\"T_eea24f26_2353_11ea_a08f_9c4e3672773crow3_col0\" class=\"data row3 col0\" >Happiness in life</td>\n",
       "                        <td id=\"T_eea24f26_2353_11ea_a08f_9c4e3672773crow3_col1\" class=\"data row3 col1\" >0.448</td>\n",
       "                        <td id=\"T_eea24f26_2353_11ea_a08f_9c4e3672773crow3_col2\" class=\"data row3 col2\" >0.433</td>\n",
       "            </tr>\n",
       "            <tr>\n",
       "                                <td id=\"T_eea24f26_2353_11ea_a08f_9c4e3672773crow4_col0\" class=\"data row4 col0\" >Fear of public speaking</td>\n",
       "                        <td id=\"T_eea24f26_2353_11ea_a08f_9c4e3672773crow4_col1\" class=\"data row4 col1\" >-0.281</td>\n",
       "                        <td id=\"T_eea24f26_2353_11ea_a08f_9c4e3672773crow4_col2\" class=\"data row4 col2\" >-0.256</td>\n",
       "            </tr>\n",
       "            <tr>\n",
       "                                <td id=\"T_eea24f26_2353_11ea_a08f_9c4e3672773crow5_col0\" class=\"data row5 col0\" >Active sport</td>\n",
       "                        <td id=\"T_eea24f26_2353_11ea_a08f_9c4e3672773crow5_col1\" class=\"data row5 col1\" >0.319</td>\n",
       "                        <td id=\"T_eea24f26_2353_11ea_a08f_9c4e3672773crow5_col2\" class=\"data row5 col2\" >0.322</td>\n",
       "            </tr>\n",
       "            <tr>\n",
       "                                <td id=\"T_eea24f26_2353_11ea_a08f_9c4e3672773crow6_col0\" class=\"data row6 col0\" >Interests or hobbies</td>\n",
       "                        <td id=\"T_eea24f26_2353_11ea_a08f_9c4e3672773crow6_col1\" class=\"data row6 col1\" >0.493</td>\n",
       "                        <td id=\"T_eea24f26_2353_11ea_a08f_9c4e3672773crow6_col2\" class=\"data row6 col2\" >0.392</td>\n",
       "            </tr>\n",
       "            <tr>\n",
       "                                <td id=\"T_eea24f26_2353_11ea_a08f_9c4e3672773crow7_col0\" class=\"data row7 col0\" >New environment</td>\n",
       "                        <td id=\"T_eea24f26_2353_11ea_a08f_9c4e3672773crow7_col1\" class=\"data row7 col1\" >0.325</td>\n",
       "                        <td id=\"T_eea24f26_2353_11ea_a08f_9c4e3672773crow7_col2\" class=\"data row7 col2\" >0.364</td>\n",
       "            </tr>\n",
       "            <tr>\n",
       "                                <td id=\"T_eea24f26_2353_11ea_a08f_9c4e3672773crow8_col0\" class=\"data row8 col0\" >Loneliness</td>\n",
       "                        <td id=\"T_eea24f26_2353_11ea_a08f_9c4e3672773crow8_col1\" class=\"data row8 col1\" >-0.336</td>\n",
       "                        <td id=\"T_eea24f26_2353_11ea_a08f_9c4e3672773crow8_col2\" class=\"data row8 col2\" >-0.355</td>\n",
       "            </tr>\n",
       "    </tbody></table>"
      ],
      "text/plain": [
       "<pandas.io.formats.style.Styler at 0x7fecbb94f390>"
      ]
     },
     "metadata": {},
     "output_type": "display_data"
    },
    {
     "name": "stdout",
     "output_type": "stream",
     "text": [
      "Feature's name (134): Spending on looks:\n"
     ]
    },
    {
     "data": {
      "text/html": [
       "<style  type=\"text/css\" >\n",
       "</style><table id=\"T_eea24f27_2353_11ea_a08f_9c4e3672773c\" ><caption>Feature's name: Spending on looks</caption><thead>    <tr>        <th class=\"col_heading level0 col0\" >Correlated feature's name</th>        <th class=\"col_heading level0 col1\" >Coefficient for Men</th>        <th class=\"col_heading level0 col2\" >Coefficient for Women</th>    </tr></thead><tbody>\n",
       "                <tr>\n",
       "                                <td id=\"T_eea24f27_2353_11ea_a08f_9c4e3672773crow0_col0\" class=\"data row0 col0\" >Branded clothing</td>\n",
       "                        <td id=\"T_eea24f27_2353_11ea_a08f_9c4e3672773crow0_col1\" class=\"data row0 col1\" >0.482</td>\n",
       "                        <td id=\"T_eea24f27_2353_11ea_a08f_9c4e3672773crow0_col2\" class=\"data row0 col2\" >0.422</td>\n",
       "            </tr>\n",
       "            <tr>\n",
       "                                <td id=\"T_eea24f27_2353_11ea_a08f_9c4e3672773crow1_col0\" class=\"data row1 col0\" >Shopping centres</td>\n",
       "                        <td id=\"T_eea24f27_2353_11ea_a08f_9c4e3672773crow1_col1\" class=\"data row1 col1\" >0.478</td>\n",
       "                        <td id=\"T_eea24f27_2353_11ea_a08f_9c4e3672773crow1_col2\" class=\"data row1 col2\" >0.483</td>\n",
       "            </tr>\n",
       "            <tr>\n",
       "                                <td id=\"T_eea24f27_2353_11ea_a08f_9c4e3672773crow2_col0\" class=\"data row2 col0\" >Entertainment spending</td>\n",
       "                        <td id=\"T_eea24f27_2353_11ea_a08f_9c4e3672773crow2_col1\" class=\"data row2 col1\" >0.385</td>\n",
       "                        <td id=\"T_eea24f27_2353_11ea_a08f_9c4e3672773crow2_col2\" class=\"data row2 col2\" >0.47</td>\n",
       "            </tr>\n",
       "            <tr>\n",
       "                                <td id=\"T_eea24f27_2353_11ea_a08f_9c4e3672773crow3_col0\" class=\"data row3 col0\" >Celebrities</td>\n",
       "                        <td id=\"T_eea24f27_2353_11ea_a08f_9c4e3672773crow3_col1\" class=\"data row3 col1\" >0.267</td>\n",
       "                        <td id=\"T_eea24f27_2353_11ea_a08f_9c4e3672773crow3_col2\" class=\"data row3 col2\" >0.278</td>\n",
       "            </tr>\n",
       "            <tr>\n",
       "                                <td id=\"T_eea24f27_2353_11ea_a08f_9c4e3672773crow4_col0\" class=\"data row4 col0\" >Knowing the right people</td>\n",
       "                        <td id=\"T_eea24f27_2353_11ea_a08f_9c4e3672773crow4_col1\" class=\"data row4 col1\" >0.327</td>\n",
       "                        <td id=\"T_eea24f27_2353_11ea_a08f_9c4e3672773crow4_col2\" class=\"data row4 col2\" >0.287</td>\n",
       "            </tr>\n",
       "            <tr>\n",
       "                                <td id=\"T_eea24f27_2353_11ea_a08f_9c4e3672773crow5_col0\" class=\"data row5 col0\" >Shopping</td>\n",
       "                        <td id=\"T_eea24f27_2353_11ea_a08f_9c4e3672773crow5_col1\" class=\"data row5 col1\" >0.455</td>\n",
       "                        <td id=\"T_eea24f27_2353_11ea_a08f_9c4e3672773crow5_col2\" class=\"data row5 col2\" >0.544</td>\n",
       "            </tr>\n",
       "            <tr>\n",
       "                                <td id=\"T_eea24f27_2353_11ea_a08f_9c4e3672773crow6_col0\" class=\"data row6 col0\" >Spending on gadgets</td>\n",
       "                        <td id=\"T_eea24f27_2353_11ea_a08f_9c4e3672773crow6_col1\" class=\"data row6 col1\" >0.354</td>\n",
       "                        <td id=\"T_eea24f27_2353_11ea_a08f_9c4e3672773crow6_col2\" class=\"data row6 col2\" >0.41</td>\n",
       "            </tr>\n",
       "            <tr>\n",
       "                                <td id=\"T_eea24f27_2353_11ea_a08f_9c4e3672773crow7_col0\" class=\"data row7 col0\" >Appearence and gestures</td>\n",
       "                        <td id=\"T_eea24f27_2353_11ea_a08f_9c4e3672773crow7_col1\" class=\"data row7 col1\" >0.352</td>\n",
       "                        <td id=\"T_eea24f27_2353_11ea_a08f_9c4e3672773crow7_col2\" class=\"data row7 col2\" >0.406</td>\n",
       "            </tr>\n",
       "    </tbody></table>"
      ],
      "text/plain": [
       "<pandas.io.formats.style.Styler at 0x7fecbb955160>"
      ]
     },
     "metadata": {},
     "output_type": "display_data"
    }
   ],
   "source": [
    "# Index _1 stands for men, index_2 stands for women\n",
    "\n",
    "for feature in personality.columns:\n",
    "\n",
    "    cols = responses_int.columns.to_list()\n",
    "\n",
    "    # Select 1 column from correlation's table for specified `group`, per group\n",
    "    \n",
    "    responses_male = responses_[responses_['Gender'] == 'male']\n",
    "    responses_female = responses_[responses_['Gender'] == 'female']\n",
    "    correlations_1 = [responses_male[feature].corr(responses_male[f]) for f in cols ]\n",
    "    correlations_2 = [responses_female[feature].corr(responses_female[f]) for f in cols ]\n",
    "\n",
    "    # Filter, leaving only interesting correlations\n",
    "    \n",
    "    df_1 = pd.DataFrame(correlations_1, columns = ['Correlations'])\n",
    "    df_1 = df_1[ abs(df_1['Correlations']) > 0.25]\n",
    "    df_2 = pd.DataFrame(correlations_2, columns = ['Correlations'])\n",
    "    df_2 = df_2[ abs(df_2['Correlations']) > 0.25]\n",
    "    \n",
    "    # Catch feature's index value\n",
    "    \n",
    "    features_index = df_1[df_1['Correlations'] > 0.99].index[0]\n",
    "\n",
    "    # Preparations for pretty visualisation\n",
    "    \n",
    "    corr_features_1 = [cols[f] for f in df_1.index]\n",
    "    corr_features_2 = [cols[f] for f in df_2.index]\n",
    "\n",
    "    corr_1 = responses_male[corr_features_1].corr().loc[:,feature].drop([feature])\n",
    "    corr_2 = responses_female[corr_features_2].corr().loc[:,feature].drop([feature])\n",
    "\n",
    "    # Find set of features that lead to correlations in both genders\n",
    "    set_ = set(corr_1.index) & set(corr_2.index)\n",
    "    \n",
    "    # If at least 5 distinct correlation are found\n",
    "    if len(corr_1) > 0 and len(set_) > 5:\n",
    "        \n",
    "        corr_ = {'Correlated feature\\'s name':list(set_)\n",
    "                 , 'Coefficient for Men':round(corr_1,3).loc[set_].tolist()\n",
    "                 , 'Coefficient for Women':round(corr_2,3).loc[set_].tolist()}\n",
    "        \n",
    "        corr_ = pd.DataFrame(corr_)\n",
    "        corr_ = corr_.style.set_caption(\"Feature\\'s name: {}\".format(feature)).hide_index()\n",
    "        print(\"Feature\\'s name ({}): {}:\".format(features_index, feature))\n",
    "        display(corr_)"
   ]
  },
  {
   "cell_type": "markdown",
   "metadata": {},
   "source": [
    "## 3. Clustering"
   ]
  },
  {
   "cell_type": "markdown",
   "metadata": {},
   "source": [
    "### 3.1. Hierarchical clustering for a chosen `field`"
   ]
  },
  {
   "cell_type": "code",
   "execution_count": 34,
   "metadata": {},
   "outputs": [
    {
     "data": {
      "application/vnd.jupyter.widget-view+json": {
       "model_id": "2c16b5b3bc5340009c8dc05c6975fa0e",
       "version_major": 2,
       "version_minor": 0
      },
      "text/plain": [
       "interactive(children=(Dropdown(description='field', options=('phobias', 'music', 'movies', 'hobbies', 'persona…"
      ]
     },
     "metadata": {},
     "output_type": "display_data"
    }
   ],
   "source": [
    "@interact(field = ['phobias','music','movies','hobbies','personality'])\n",
    "def Hierarchical_cluster(field):\n",
    "    field = field_name[field]\n",
    "    \n",
    "    df_select = field.copy(deep=True).dropna()\n",
    "    x = df_select.to_numpy().T\n",
    "\n",
    "    # Adjust figure size to accommodate the full tree\n",
    "\n",
    "    rcParams['figure.figsize'] = 5, 10\n",
    "\n",
    "    # Do a hierarchical clustering using Ward's method\n",
    "\n",
    "    z = sch.linkage(x, method='ward')\n",
    "\n",
    "    # Display dendrogram\n",
    "\n",
    "    names = df_select.columns.tolist()\n",
    "    info = sch.dendrogram(z, orientation='left', labels=names, leaf_font_size=11)\n",
    "    plt.show()\n",
    "\n",
    "if running == 0:\n",
    "    Hierarchical_cluster('phobias')"
   ]
  },
  {
   "cell_type": "markdown",
   "metadata": {},
   "source": [
    "**Comment 1:** `phobias` seem to have 3 distinct types:\n",
    "- animals (Rats, Snakes, Dangerous dogs, Spiders)\n",
    "- nature (Darkness, Storm, Flying)\n",
    "- social (Fear of public speaking, Heights, Ageing)"
   ]
  },
  {
   "cell_type": "markdown",
   "metadata": {},
   "source": [
    "**Comment 2:** `music` clusters in 5 distinct types:\n",
    "- **old music**: rock n roll, jazz, alternative\n",
    "- **metal-like music**: rock^, punk, metal\n",
    "- **instrumental music**: opera, classical, country, folk\n",
    "- **popular music**: latino, musical, pop, dance\n",
    "- **rap-like music**: reggae, hiphip, techno\n",
    "\n",
    "^ although rock was assigned to 'yellow label', it's not too far from 'magenta label', which seems more logical"
   ]
  },
  {
   "cell_type": "markdown",
   "metadata": {},
   "source": [
    "### 3.2. K-means clustering for a chosen `field`"
   ]
  },
  {
   "cell_type": "code",
   "execution_count": 35,
   "metadata": {},
   "outputs": [
    {
     "data": {
      "application/vnd.jupyter.widget-view+json": {
       "model_id": "6c6a38df85e74d228dbdd59059110582",
       "version_major": 2,
       "version_minor": 0
      },
      "text/plain": [
       "interactive(children=(Dropdown(description='field', options=('phobias', 'music', 'movies', 'hobbies', 'persona…"
      ]
     },
     "metadata": {},
     "output_type": "display_data"
    }
   ],
   "source": [
    "@interact(field = ['phobias','music','movies','hobbies','personality'], noOfClusters = IntSlider(3,1,10,1),\n",
    "                   randomstate = IntSlider(745,0,10000,10))\n",
    "def K_means_cluster(field, noOfClusters, randomstate):\n",
    "    \n",
    "    field = field_name[field] \n",
    "    df_select = field.copy(deep=True).dropna()\n",
    "\n",
    "    # Perform scaling on the dataframe containing the field's features\n",
    "\n",
    "    scaler_x = StandardScaler()\n",
    "    data = scaler_x.fit_transform(df_select)\n",
    "    \n",
    "    # Perform K-Means\n",
    "    \n",
    "    model = KMeans(init='k-means++', n_clusters=noOfClusters, n_init=20, random_state=randomstate).fit(data)\n",
    "    \n",
    "    print(\"Total sum of squares of distances:\", round(model.inertia_))\n",
    "    print(90*'_')\n",
    "    print(\"\\nCount of people in each cluster\")\n",
    "    print(90*'_')\n",
    "    print(pd.value_counts(model.labels_, sort=False))\n",
    "    \n",
    "    # Display plot showing centers of clusters\n",
    "    \n",
    "    P = pd_centers(featuresUsed=field.columns.to_list(),\n",
    "                   centers=scaler_x.inverse_transform(model.cluster_centers_))\n",
    "    parallel_plot(P, (15, 8))\n",
    "    plt.show()\n",
    "\n",
    "if running == 0:\n",
    "    K_means_cluster('phobias', 3, 745)"
   ]
  },
  {
   "cell_type": "markdown",
   "metadata": {},
   "source": [
    "**Comment 1:**\n",
    "\n",
    "For `phobias` with `3 clusters` people seem to divide in following types:\n",
    "\n",
    "- people scared of nothing.\n",
    "- people scared of various animals.\n",
    "- people scared of everything.\n",
    "\n",
    "Using `4 clusters` reveals an additional group, without changing centers of previous `3 clusters`:\n",
    "\n",
    "- people scared of everything except of animals.\n",
    "\n",
    "Using `5 clusters` modifies some of previous cluster's centers."
   ]
  },
  {
   "cell_type": "markdown",
   "metadata": {},
   "source": [
    "### 3.3. t-SNE\n",
    "Visualise data of specified `field` by reducing its dimensions to 2D space, using `t-distributed stochastic neighbor embedding`."
   ]
  },
  {
   "cell_type": "code",
   "execution_count": 36,
   "metadata": {},
   "outputs": [
    {
     "data": {
      "application/vnd.jupyter.widget-view+json": {
       "model_id": "5c0c3581f4754056b23d7d4bfbd1bf0d",
       "version_major": 2,
       "version_minor": 0
      },
      "text/plain": [
       "interactive(children=(Dropdown(description='field', options=('phobias', 'music', 'movies', 'hobbies', 'persona…"
      ]
     },
     "metadata": {},
     "output_type": "display_data"
    }
   ],
   "source": [
    "@interact(field = ['phobias','music','movies','hobbies','personality'], noOfClusters = IntSlider(3,1,6,1), \n",
    "         randomstate = IntSlider(745,0,10000,10))\n",
    "def T_SNE_cluster(field, noOfClusters, randomstate):\n",
    "    \n",
    "    field = field_name[field] \n",
    "    df_select = field.copy(deep=True).dropna()\n",
    "    \n",
    "    # Compute K-means to get labels\n",
    "    \n",
    "    scaler_x = StandardScaler()\n",
    "    data = scaler_x.fit_transform(df_select)\n",
    "    model = KMeans(init='k-means++', n_clusters=noOfClusters,\n",
    "                   n_init=20, random_state=randomstate).fit(data)\n",
    "\n",
    "    a = [0, 1, 2, 3, 4, 5, 6]\n",
    "    b = ['b', 'r', 'g', 'y', 'k', 'm']\n",
    "    dict_ = dict(zip(a,b))\n",
    "    colors = [dict_[i] for i in model.labels_]\n",
    "    \n",
    "    # Show result of T-SNE\n",
    "\n",
    "    plt.figure(figsize=(15,8))\n",
    "    X_embedded = TSNE(n_components=2, random_state=randomstate).fit_transform(data)\n",
    "    plt.scatter(X_embedded[:,0], X_embedded[:,1], color = colors)\n",
    "    plt.xlabel('t-SNE $dim_1$', size=15)\n",
    "    plt.ylabel('t-SNE $dim_2$', size=15)\n",
    "    plt.show()\n",
    "    \n",
    "    # Show result of K-means for labels colors\n",
    "    \n",
    "    P = pd_centers(featuresUsed=field.columns.to_list(),\n",
    "                   centers=scaler_x.inverse_transform(model.cluster_centers_))\n",
    "    parallel_plot(P, (6, 4))\n",
    "    plt.show()\n",
    "\n",
    "if running == 0:\n",
    "    T_SNE_cluster('phobias', 3, 745)"
   ]
  },
  {
   "cell_type": "markdown",
   "metadata": {},
   "source": [
    "**Comment 1:**\n",
    "\n",
    "For `phobias`, using coloring from K-means algorithm, we notice that for `3 clusters` data is well separated, but for `4 clusters` two of the clusters are mixed. This suggests that `3` is trully an appropriate number of clusters.\n",
    "\n",
    "However, cluster regions are tangential with their bondaries, which means that there exist people who's preferences are on the middle, instead belonging purely to one distinct cluster."
   ]
  },
  {
   "cell_type": "markdown",
   "metadata": {},
   "source": [
    "### 3.4. Finding outliners\n",
    "People who likely cheated by answering randomly.\n",
    "\n",
    "`allowed_dist` is maximum allowed distance from nearest cluster to not be considered as an outliner"
   ]
  },
  {
   "cell_type": "code",
   "execution_count": 37,
   "metadata": {},
   "outputs": [
    {
     "data": {
      "application/vnd.jupyter.widget-view+json": {
       "model_id": "a84ba13975d0494bb0f90d86a51093ac",
       "version_major": 2,
       "version_minor": 0
      },
      "text/plain": [
       "interactive(children=(Dropdown(description='field', options=('phobias', 'music', 'movies', 'hobbies', 'persona…"
      ]
     },
     "metadata": {},
     "output_type": "display_data"
    }
   ],
   "source": [
    "@interact(field = ['phobias','music','movies','hobbies','personality'], noOfClusters = IntSlider(3,1,10,1), \n",
    "         randomstate = IntSlider(745,0,10000,10), allowed_dist = FloatSlider(value=4.3, min=0, max=12, step=0.1))\n",
    "def Find_outliners(field, noOfClusters, randomstate, allowed_dist):\n",
    "\n",
    "    field = field_name[field] \n",
    "    df_select = field.copy(deep=True).dropna()\n",
    "    \n",
    "    # Compute K-means\n",
    "    \n",
    "    scaler_x = StandardScaler()\n",
    "    data = scaler_x.fit_transform(df_select)\n",
    "    model = KMeans(init='k-means++', n_clusters=noOfClusters,\n",
    "                   n_init=20, random_state=randomstate).fit(data)\n",
    "     \n",
    "    centers = model.cluster_centers_\n",
    "\n",
    "    # Plot distance from nearest cluster for all points for which cluster analysis was conducted\n",
    "    \n",
    "    plt.figure(figsize=(8,6))\n",
    "    x = df_select.index.tolist()\n",
    "    y = [min([np.linalg.norm(a-b) for a in centers]) for b in data[:] ]\n",
    "    plt.scatter(x,y)\n",
    "    plt.plot([0,1000], [allowed_dist, allowed_dist], 'red') # Above this line are outliners\n",
    "    plt.xlabel(\"Number of survey responser\")\n",
    "    plt.ylabel(\"Distance from nearest cluster\")\n",
    "    plt.show()\n",
    "\n",
    "    # Find which points are far away from any cluster. Print their indexies and measured distances\n",
    "    \n",
    "    outliners = []\n",
    "    for i in range(len(y)):\n",
    "        if y[i] > allowed_dist:\n",
    "            outliners.append((x[i], y[i], df_select.index[i]))\n",
    "\n",
    "    print(\"Number of people above the red line: {}\".format(len(outliners)))\n",
    "    print(\"Number of survey responser and its distance from nearest cluster (max 10):\\n\")\n",
    "    for outliner in outliners[:min(10, len(outliners))]:\n",
    "        print(outliner[0], \"\\t\", round(outliner[1], 3))\n",
    "\n",
    "    # Gather all informations about found ouliners, being carefull on index (notice we dropped NaNs)\n",
    "    \n",
    "    filter_ = np.full(responses.shape[0], False)\n",
    "    for outliner in outliners:\n",
    "        filter_[outliner[2]] = True\n",
    "    df_ = responses[filter_]\n",
    "\n",
    "    # Select and display only columns including strings\n",
    "\n",
    "    df_cols = set(df_.columns) - set(df_.select_dtypes(include=['int','float']).columns)\n",
    "    print( \"\\nAll non-numeric informations about surveyors detected as outliners (max 10):\")\n",
    "    display(df_[df_cols][:min(10, df_.shape[0])])\n",
    "\n",
    "if running == 0:\n",
    "    Find_outliners('phobias', 3, 745, 4.3)"
   ]
  },
  {
   "cell_type": "markdown",
   "metadata": {},
   "source": [
    "**Comment 1:**\n",
    "\n",
    "Seems like most of the outliners are woman. Possibly, woman tend to be more undecisive than men, not necessary being 'cheaters'."
   ]
  },
  {
   "cell_type": "markdown",
   "metadata": {},
   "source": [
    "## 4. Other\n",
    "### 4.1. BMI (body mass index) distribution within `genders`"
   ]
  },
  {
   "cell_type": "code",
   "execution_count": 38,
   "metadata": {},
   "outputs": [
    {
     "data": {
      "text/plain": [
       "Text(0, 0.5, 'Density')"
      ]
     },
     "execution_count": 38,
     "metadata": {},
     "output_type": "execute_result"
    },
    {
     "data": {
      "image/png": "[encoded data removed]",
      "text/plain": [
       "<Figure size 432x288 with 1 Axes>"
      ]
     },
     "metadata": {
      "needs_background": "light"
     },
     "output_type": "display_data"
    }
   ],
   "source": [
    "plt.figure(figsize=(6,4))\n",
    "\n",
    "responses_male = responses_[responses_['Gender'] == 'male']\n",
    "responses_female = responses_[responses_['Gender'] == 'female']\n",
    "\n",
    "responses_male['BMI'].plot.hist(bins=100, alpha=0.5, color = 'blue', density = True)\n",
    "responses_female['BMI'].plot.hist(bins=100, alpha=0.5, color = 'red', density = True)\n",
    "\n",
    "plt.xlabel('BMI')\n",
    "plt.ylabel('Density')"
   ]
  },
  {
   "cell_type": "markdown",
   "metadata": {},
   "source": [
    "**Comment 1:**\n",
    "\n",
    "both genders have gaussian-like distribution of BMI values, however their mean values differ:\n",
    "- women's average BMI is around 20\n",
    "- men's average BMI is around 24"
   ]
  },
  {
   "cell_type": "markdown",
   "metadata": {},
   "source": [
    "### 4.2. `Feature's` distribution between `groups`."
   ]
  },
  {
   "cell_type": "code",
   "execution_count": 39,
   "metadata": {},
   "outputs": [
    {
     "data": {
      "application/vnd.jupyter.widget-view+json": {
       "model_id": "10e3e6be7f894e3cb47609745003e2ee",
       "version_major": 2,
       "version_minor": 0
      },
      "text/plain": [
       "interactive(children=(IntSlider(value=103, description='feature', max=139), Dropdown(description='group', opti…"
      ]
     },
     "metadata": {},
     "output_type": "display_data"
    }
   ],
   "source": [
    "@interact(feature = IntSlider(103,0,139,1), group = ['all', 'male', 'female', 'right handed', 'left handed'])\n",
    "def Compare(feature, group):\n",
    "    \n",
    "    cols = responses_int.columns.to_list()\n",
    "    feature = cols[feature]\n",
    "\n",
    "    # Filter responses according to `group`\n",
    "    \n",
    "    if group == 'all':\n",
    "        responses_int_filtered = responses_int\n",
    "    if group in {'male', 'female'}:\n",
    "        responses_int_filtered = responses_int[responses['Gender'] == group]\n",
    "    if group in {'left handed', 'right handed'}:\n",
    "        responses_int_filtered = responses_int[responses['Left - right handed'] == group]\n",
    "        \n",
    "    # Nan values are not plotted, so disclude them in counting \n",
    "    \n",
    "    n = sum(responses_int_filtered[feature] == responses_int_filtered[feature])\n",
    "\n",
    "    print(\"Fraction distribution for '{}' in group '{}':\".format(feature, group))\n",
    "    display(responses_int_filtered[feature].value_counts(normalize=True).sort_index())\n",
    "    \n",
    "    plt.figure(figsize=(8,6))\n",
    "    responses_int_filtered[feature].plot.hist(bins=5, alpha=0.5, color='b',\n",
    "                                              weights = [1./n for i in range(0,n)], rwidth=0.85)\n",
    "    plt.xlabel('Score')\n",
    "    plt.ylabel('Fraction distribution')\n",
    "    plt.ylim(0,0.4)\n",
    "    plt.show()\n",
    "    \n",
    "if running == 0:\n",
    "    Compare(103, 'all')"
   ]
  },
  {
   "cell_type": "markdown",
   "metadata": {},
   "source": [
    "**Comment 1:**\n",
    "\n",
    "Woman are more likely to be religious.\n",
    "- 36% of woman and 25% of men are strongly religious (5.0 points in survey).\n",
    "- 15% of woman and 24% of men are atheist-like (1.0 point in survey)."
   ]
  },
  {
   "cell_type": "code",
   "execution_count": null,
   "metadata": {},
   "outputs": [],
   "source": []
  }
 ],
 "metadata": {
  "kernelspec": {
   "display_name": "Python 3",
   "language": "python",
   "name": "python3"
  },
  "language_info": {
   "codemirror_mode": {
    "name": "ipython",
    "version": 3
   },
   "file_extension": ".py",
   "mimetype": "text/x-python",
   "name": "python",
   "nbconvert_exporter": "python",
   "pygments_lexer": "ipython3",
   "version": "3.6.9"
  }
 },
 "nbformat": 4,
 "nbformat_minor": 1
}
